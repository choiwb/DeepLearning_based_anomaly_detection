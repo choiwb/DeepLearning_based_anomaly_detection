{
 "cells": [
  {
   "cell_type": "code",
   "execution_count": 1,
   "metadata": {},
   "outputs": [],
   "source": [
    "import pandas as pd\n",
    "import numpy as np\n",
    "import os\n",
    "import matplotlib.pyplot as plt\n",
    "from sklearn.metrics import confusion_matrix, roc_curve, auc\n",
    "from mlxtend.plotting import plot_confusion_matrix\n",
    "from sklearn.model_selection import train_test_split"
   ]
  },
  {
   "cell_type": "code",
   "execution_count": 2,
   "metadata": {},
   "outputs": [
    {
     "name": "stdout",
     "output_type": "stream",
     "text": [
      "Checking whether there is an H2O instance running at http://127.0.0.1:54321 ..... not found.\n",
      "Attempting to start a local H2O server...\n",
      "  Java Version: java version \"13.0.2\" 2020-01-14; Java(TM) SE Runtime Environment (build 13.0.2+8); Java HotSpot(TM) 64-Bit Server VM (build 13.0.2+8, mixed mode, sharing)\n",
      "  Starting server from /Users/wbchoi/anaconda3/lib/python3.7/site-packages/h2o/backend/bin/h2o.jar\n",
      "  Ice root: /var/folders/q1/z7qbw9z12vq12k5vd65yw2tw0000gn/T/tmpfm0mcpzg\n",
      "  JVM stdout: /var/folders/q1/z7qbw9z12vq12k5vd65yw2tw0000gn/T/tmpfm0mcpzg/h2o_wbchoi_started_from_python.out\n",
      "  JVM stderr: /var/folders/q1/z7qbw9z12vq12k5vd65yw2tw0000gn/T/tmpfm0mcpzg/h2o_wbchoi_started_from_python.err\n",
      "  Server is running at http://127.0.0.1:54321\n",
      "Connecting to H2O server at http://127.0.0.1:54321 ... successful.\n"
     ]
    },
    {
     "data": {
      "text/html": [
       "<div style=\"overflow:auto\"><table style=\"width:50%\"><tr><td>H2O_cluster_uptime:</td>\n",
       "<td>01 secs</td></tr>\n",
       "<tr><td>H2O_cluster_timezone:</td>\n",
       "<td>Asia/Seoul</td></tr>\n",
       "<tr><td>H2O_data_parsing_timezone:</td>\n",
       "<td>UTC</td></tr>\n",
       "<tr><td>H2O_cluster_version:</td>\n",
       "<td>3.30.0.5</td></tr>\n",
       "<tr><td>H2O_cluster_version_age:</td>\n",
       "<td>1 month and 8 days </td></tr>\n",
       "<tr><td>H2O_cluster_name:</td>\n",
       "<td>H2O_from_python_wbchoi_ade65v</td></tr>\n",
       "<tr><td>H2O_cluster_total_nodes:</td>\n",
       "<td>1</td></tr>\n",
       "<tr><td>H2O_cluster_free_memory:</td>\n",
       "<td>12 Gb</td></tr>\n",
       "<tr><td>H2O_cluster_total_cores:</td>\n",
       "<td>12</td></tr>\n",
       "<tr><td>H2O_cluster_allowed_cores:</td>\n",
       "<td>12</td></tr>\n",
       "<tr><td>H2O_cluster_status:</td>\n",
       "<td>accepting new members, healthy</td></tr>\n",
       "<tr><td>H2O_connection_url:</td>\n",
       "<td>http://127.0.0.1:54321</td></tr>\n",
       "<tr><td>H2O_connection_proxy:</td>\n",
       "<td>{\"http\": null, \"https\": null}</td></tr>\n",
       "<tr><td>H2O_internal_security:</td>\n",
       "<td>False</td></tr>\n",
       "<tr><td>H2O_API_Extensions:</td>\n",
       "<td>Amazon S3, XGBoost, Algos, AutoML, Core V3, TargetEncoder, Core V4</td></tr>\n",
       "<tr><td>Python_version:</td>\n",
       "<td>3.7.3 final</td></tr></table></div>"
      ],
      "text/plain": [
       "--------------------------  ------------------------------------------------------------------\n",
       "H2O_cluster_uptime:         01 secs\n",
       "H2O_cluster_timezone:       Asia/Seoul\n",
       "H2O_data_parsing_timezone:  UTC\n",
       "H2O_cluster_version:        3.30.0.5\n",
       "H2O_cluster_version_age:    1 month and 8 days\n",
       "H2O_cluster_name:           H2O_from_python_wbchoi_ade65v\n",
       "H2O_cluster_total_nodes:    1\n",
       "H2O_cluster_free_memory:    12 Gb\n",
       "H2O_cluster_total_cores:    12\n",
       "H2O_cluster_allowed_cores:  12\n",
       "H2O_cluster_status:         accepting new members, healthy\n",
       "H2O_connection_url:         http://127.0.0.1:54321\n",
       "H2O_connection_proxy:       {\"http\": null, \"https\": null}\n",
       "H2O_internal_security:      False\n",
       "H2O_API_Extensions:         Amazon S3, XGBoost, Algos, AutoML, Core V3, TargetEncoder, Core V4\n",
       "Python_version:             3.7.3 final\n",
       "--------------------------  ------------------------------------------------------------------"
      ]
     },
     "metadata": {},
     "output_type": "display_data"
    }
   ],
   "source": [
    "import h2o\n",
    "from h2o.automl import H2OAutoML\n",
    "from h2o.grid.grid_search import H2OGridSearch\n",
    "from h2o.estimators.gbm import H2OGradientBoostingEstimator\n",
    "from h2o.estimators import H2OXGBoostEstimator, H2OGeneralizedLinearEstimator\n",
    "\n",
    "h2o.init(max_mem_size = '12G', ip = '127.0.0.1', port = \"54321\")"
   ]
  },
  {
   "cell_type": "code",
   "execution_count": null,
   "metadata": {},
   "outputs": [],
   "source": []
  },
  {
   "cell_type": "markdown",
   "metadata": {},
   "source": [
    "# Auto ML (H2O)"
   ]
  },
  {
   "cell_type": "code",
   "execution_count": 3,
   "metadata": {},
   "outputs": [
    {
     "name": "stdout",
     "output_type": "stream",
     "text": [
      "Parse progress: |█████████████████████████████████████████████████████████| 100%\n"
     ]
    }
   ],
   "source": [
    "h2o_data = h2o.import_file('/Users/wbchoi/PycharmProjects/ai_projects/C_ITS/prediction_modeling/full_data_kma_hours_lightgbm_feature_extract.csv')"
   ]
  },
  {
   "cell_type": "code",
   "execution_count": 4,
   "metadata": {},
   "outputs": [
    {
     "data": {
      "text/plain": [
       "(15797629, 37)"
      ]
     },
     "execution_count": 4,
     "metadata": {},
     "output_type": "execute_result"
    }
   ],
   "source": [
    "h2o_data.shape"
   ]
  },
  {
   "cell_type": "code",
   "execution_count": 5,
   "metadata": {},
   "outputs": [
    {
     "data": {
      "text/html": [
       "<table>\n",
       "<thead>\n",
       "<tr><th style=\"text-align: right;\">  SUB_YN</th><th style=\"text-align: right;\">  ROAD_TYPE</th><th style=\"text-align: right;\">  REST_VEH</th><th style=\"text-align: right;\">  MAX_SPD</th><th style=\"text-align: right;\">  LANES</th><th style=\"text-align: right;\">  CW_YN</th><th style=\"text-align: right;\">  BUS_YN</th><th style=\"text-align: right;\">  A3_ROADTYPE_1_YN</th><th style=\"text-align: right;\">  A1_LANE_04_YN</th><th style=\"text-align: right;\">  A1_BARR_03_YN</th><th style=\"text-align: right;\">  A1_BARR_02_YN</th><th style=\"text-align: right;\">  S_P_UTERNX_CNT</th><th style=\"text-align: right;\">  SN_P_HDUFID_CNT</th><th style=\"text-align: right;\">  SF_P_ALL_CNT</th><th style=\"text-align: right;\">  SF_PL_CW_CNT</th><th style=\"text-align: right;\">  SF_L_1_CNT</th><th style=\"text-align: right;\">  SUB_CNT</th><th style=\"text-align: right;\">  NODE_LANES_CNT</th><th style=\"text-align: right;\">  NODE_INTERS_CNT</th><th style=\"text-align: right;\">  CW_CNT</th><th style=\"text-align: right;\">  BUS_CNT</th><th style=\"text-align: right;\">  A3_ROADTYPE_3_CNT</th><th style=\"text-align: right;\">  A3_ROADTYPE_1_CNT</th><th style=\"text-align: right;\">  A2_STOP_2_CNT</th><th style=\"text-align: right;\">  A2_STOP_1_CNT</th><th style=\"text-align: right;\">  A1_LANE_04_CNT</th><th style=\"text-align: right;\">  A1_BARR_05_CNT</th><th style=\"text-align: right;\">  A1_BARR_03_CNT</th><th style=\"text-align: right;\">  A1_BARR_02_CNT</th><th style=\"text-align: right;\">  topis_22_07</th><th style=\"text-align: right;\">  pop_22_07</th><th style=\"text-align: right;\">       WS</th><th style=\"text-align: right;\">      WD</th><th style=\"text-align: right;\">    TEMP</th><th style=\"text-align: right;\">  RF</th><th style=\"text-align: right;\">      HM</th><th style=\"text-align: right;\">  SAGO_YN</th></tr>\n",
       "</thead>\n",
       "<tbody>\n",
       "<tr><td style=\"text-align: right;\">       0</td><td style=\"text-align: right;\">          0</td><td style=\"text-align: right;\">         0</td><td style=\"text-align: right;\">       60</td><td style=\"text-align: right;\">      5</td><td style=\"text-align: right;\">      1</td><td style=\"text-align: right;\">       1</td><td style=\"text-align: right;\">                 0</td><td style=\"text-align: right;\">              0</td><td style=\"text-align: right;\">              0</td><td style=\"text-align: right;\">              0</td><td style=\"text-align: right;\">               0</td><td style=\"text-align: right;\">                0</td><td style=\"text-align: right;\">             0</td><td style=\"text-align: right;\">             0</td><td style=\"text-align: right;\">           0</td><td style=\"text-align: right;\">        0</td><td style=\"text-align: right;\">               0</td><td style=\"text-align: right;\">                0</td><td style=\"text-align: right;\">0.222222</td><td style=\"text-align: right;\"> 0.142857</td><td style=\"text-align: right;\">                  0</td><td style=\"text-align: right;\">                  0</td><td style=\"text-align: right;\">              0</td><td style=\"text-align: right;\">              0</td><td style=\"text-align: right;\">               0</td><td style=\"text-align: right;\">               0</td><td style=\"text-align: right;\">               0</td><td style=\"text-align: right;\">               0</td><td style=\"text-align: right;\">     0.250954</td><td style=\"text-align: right;\">  0.0249517</td><td style=\"text-align: right;\">0.0642202</td><td style=\"text-align: right;\">0.943889</td><td style=\"text-align: right;\">0.419935</td><td style=\"text-align: right;\">   0</td><td style=\"text-align: right;\">0.727227</td><td style=\"text-align: right;\">        0</td></tr>\n",
       "<tr><td style=\"text-align: right;\">       0</td><td style=\"text-align: right;\">          0</td><td style=\"text-align: right;\">         0</td><td style=\"text-align: right;\">       60</td><td style=\"text-align: right;\">      5</td><td style=\"text-align: right;\">      1</td><td style=\"text-align: right;\">       1</td><td style=\"text-align: right;\">                 0</td><td style=\"text-align: right;\">              0</td><td style=\"text-align: right;\">              0</td><td style=\"text-align: right;\">              0</td><td style=\"text-align: right;\">               0</td><td style=\"text-align: right;\">                0</td><td style=\"text-align: right;\">             0</td><td style=\"text-align: right;\">             0</td><td style=\"text-align: right;\">           0</td><td style=\"text-align: right;\">        0</td><td style=\"text-align: right;\">               0</td><td style=\"text-align: right;\">                0</td><td style=\"text-align: right;\">0.222222</td><td style=\"text-align: right;\"> 0.142857</td><td style=\"text-align: right;\">                  0</td><td style=\"text-align: right;\">                  0</td><td style=\"text-align: right;\">              0</td><td style=\"text-align: right;\">              0</td><td style=\"text-align: right;\">               0</td><td style=\"text-align: right;\">               0</td><td style=\"text-align: right;\">               0</td><td style=\"text-align: right;\">               0</td><td style=\"text-align: right;\">     0.250954</td><td style=\"text-align: right;\">  0.0249517</td><td style=\"text-align: right;\">0.146789 </td><td style=\"text-align: right;\">0.911667</td><td style=\"text-align: right;\">0.418301</td><td style=\"text-align: right;\">   0</td><td style=\"text-align: right;\">0.707207</td><td style=\"text-align: right;\">        0</td></tr>\n",
       "<tr><td style=\"text-align: right;\">       0</td><td style=\"text-align: right;\">          0</td><td style=\"text-align: right;\">         0</td><td style=\"text-align: right;\">       60</td><td style=\"text-align: right;\">      5</td><td style=\"text-align: right;\">      1</td><td style=\"text-align: right;\">       1</td><td style=\"text-align: right;\">                 0</td><td style=\"text-align: right;\">              0</td><td style=\"text-align: right;\">              0</td><td style=\"text-align: right;\">              0</td><td style=\"text-align: right;\">               0</td><td style=\"text-align: right;\">                0</td><td style=\"text-align: right;\">             0</td><td style=\"text-align: right;\">             0</td><td style=\"text-align: right;\">           0</td><td style=\"text-align: right;\">        0</td><td style=\"text-align: right;\">               0</td><td style=\"text-align: right;\">                0</td><td style=\"text-align: right;\">0.222222</td><td style=\"text-align: right;\"> 0.142857</td><td style=\"text-align: right;\">                  0</td><td style=\"text-align: right;\">                  0</td><td style=\"text-align: right;\">              0</td><td style=\"text-align: right;\">              0</td><td style=\"text-align: right;\">               0</td><td style=\"text-align: right;\">               0</td><td style=\"text-align: right;\">               0</td><td style=\"text-align: right;\">               0</td><td style=\"text-align: right;\">     0.250954</td><td style=\"text-align: right;\">  0.0249517</td><td style=\"text-align: right;\">0.100917 </td><td style=\"text-align: right;\">0.956667</td><td style=\"text-align: right;\">0.410131</td><td style=\"text-align: right;\">   0</td><td style=\"text-align: right;\">0.755255</td><td style=\"text-align: right;\">        0</td></tr>\n",
       "<tr><td style=\"text-align: right;\">       0</td><td style=\"text-align: right;\">          0</td><td style=\"text-align: right;\">         0</td><td style=\"text-align: right;\">       60</td><td style=\"text-align: right;\">      5</td><td style=\"text-align: right;\">      1</td><td style=\"text-align: right;\">       1</td><td style=\"text-align: right;\">                 0</td><td style=\"text-align: right;\">              0</td><td style=\"text-align: right;\">              0</td><td style=\"text-align: right;\">              0</td><td style=\"text-align: right;\">               0</td><td style=\"text-align: right;\">                0</td><td style=\"text-align: right;\">             0</td><td style=\"text-align: right;\">             0</td><td style=\"text-align: right;\">           0</td><td style=\"text-align: right;\">        0</td><td style=\"text-align: right;\">               0</td><td style=\"text-align: right;\">                0</td><td style=\"text-align: right;\">0.222222</td><td style=\"text-align: right;\"> 0.142857</td><td style=\"text-align: right;\">                  0</td><td style=\"text-align: right;\">                  0</td><td style=\"text-align: right;\">              0</td><td style=\"text-align: right;\">              0</td><td style=\"text-align: right;\">               0</td><td style=\"text-align: right;\">               0</td><td style=\"text-align: right;\">               0</td><td style=\"text-align: right;\">               0</td><td style=\"text-align: right;\">     0.250954</td><td style=\"text-align: right;\">  0.0249517</td><td style=\"text-align: right;\">0.100917 </td><td style=\"text-align: right;\">0.963611</td><td style=\"text-align: right;\">0.410131</td><td style=\"text-align: right;\">   0</td><td style=\"text-align: right;\">0.764765</td><td style=\"text-align: right;\">        0</td></tr>\n",
       "<tr><td style=\"text-align: right;\">       0</td><td style=\"text-align: right;\">          0</td><td style=\"text-align: right;\">         0</td><td style=\"text-align: right;\">       60</td><td style=\"text-align: right;\">      5</td><td style=\"text-align: right;\">      1</td><td style=\"text-align: right;\">       1</td><td style=\"text-align: right;\">                 0</td><td style=\"text-align: right;\">              0</td><td style=\"text-align: right;\">              0</td><td style=\"text-align: right;\">              0</td><td style=\"text-align: right;\">               0</td><td style=\"text-align: right;\">                0</td><td style=\"text-align: right;\">             0</td><td style=\"text-align: right;\">             0</td><td style=\"text-align: right;\">           0</td><td style=\"text-align: right;\">        0</td><td style=\"text-align: right;\">               0</td><td style=\"text-align: right;\">                0</td><td style=\"text-align: right;\">0.222222</td><td style=\"text-align: right;\"> 0.142857</td><td style=\"text-align: right;\">                  0</td><td style=\"text-align: right;\">                  0</td><td style=\"text-align: right;\">              0</td><td style=\"text-align: right;\">              0</td><td style=\"text-align: right;\">               0</td><td style=\"text-align: right;\">               0</td><td style=\"text-align: right;\">               0</td><td style=\"text-align: right;\">               0</td><td style=\"text-align: right;\">     0.250954</td><td style=\"text-align: right;\">  0.0249517</td><td style=\"text-align: right;\">0.12844  </td><td style=\"text-align: right;\">0.973333</td><td style=\"text-align: right;\">0.405229</td><td style=\"text-align: right;\">   0</td><td style=\"text-align: right;\">0.775275</td><td style=\"text-align: right;\">        0</td></tr>\n",
       "</tbody>\n",
       "</table>"
      ]
     },
     "metadata": {},
     "output_type": "display_data"
    },
    {
     "data": {
      "text/plain": []
     },
     "execution_count": 5,
     "metadata": {},
     "output_type": "execute_result"
    }
   ],
   "source": [
    "h2o_data.head(5)"
   ]
  },
  {
   "cell_type": "code",
   "execution_count": 6,
   "metadata": {},
   "outputs": [],
   "source": [
    "# target 변수 (교통사고 유/무) 지정\n",
    "h2o_data[-1] = h2o_data[-1].asfactor()"
   ]
  },
  {
   "cell_type": "code",
   "execution_count": 7,
   "metadata": {},
   "outputs": [],
   "source": [
    "predictors = h2o_data.columns[0:37]\n",
    "\n",
    "response = 'SAGO_YN'"
   ]
  },
  {
   "cell_type": "code",
   "execution_count": 8,
   "metadata": {},
   "outputs": [],
   "source": [
    "# train : valid : test = 0.7 : 0.1 : 0.2\n",
    "# train, valid, test = h2o_data.split_frame(ratios = [0.7, 0.1], seed = 7)\n",
    "\n",
    "# train : test = 0.8 : 0.2\n",
    "train, test = h2o_data.split_frame(ratios = [0.8], seed = 7)"
   ]
  },
  {
   "cell_type": "markdown",
   "metadata": {},
   "source": [
    "# GBM Hyper Parameter tuning"
   ]
  },
  {
   "cell_type": "code",
   "execution_count": 10,
   "metadata": {},
   "outputs": [
    {
     "name": "stdout",
     "output_type": "stream",
     "text": [
      "gbm Model Build progress: |███████████████████████████████████████████████| 100%\n"
     ]
    }
   ],
   "source": [
    "sample_factors = [0.5, 1.0]\n",
    "max_size = 0.85\n",
    "\n",
    "cov_gbm = H2OGradientBoostingEstimator(balance_classes = True, class_sampling_factors = sample_factors, max_after_balance_size = max_size,\n",
    "                                       seed = 1234)\n",
    "\n",
    "# cov_gbm.train(x = predictors, y = response, training_frame = train, validation_frame = valid)\n",
    "cov_gbm.train(x = predictors, y = response, training_frame = train)"
   ]
  },
  {
   "cell_type": "code",
   "execution_count": 11,
   "metadata": {},
   "outputs": [
    {
     "name": "stdout",
     "output_type": "stream",
     "text": [
      "logloss 0.00377554644248851\n"
     ]
    }
   ],
   "source": [
    "print('logloss', cov_gbm.logloss(valid = False))"
   ]
  },
  {
   "cell_type": "code",
   "execution_count": 14,
   "metadata": {},
   "outputs": [
    {
     "name": "stdout",
     "output_type": "stream",
     "text": [
      "gbm Grid Build progress: |████████████████████████████████████████████████| 100%\n",
      "     class_sampling_factors max_after_balance_size  \\\n",
      "0               [0.01, 1.0]                   0.05   \n",
      "1               [0.01, 1.0]                   0.75   \n",
      "2               [0.01, 1.0]                    1.0   \n",
      "3               [0.01, 1.0]                    0.2   \n",
      "4               [0.01, 1.0]                    0.5   \n",
      "5               [0.02, 1.0]                   0.75   \n",
      "6               [0.02, 1.0]                    1.0   \n",
      "7               [0.02, 1.0]                   0.05   \n",
      "8               [0.02, 1.0]                    0.2   \n",
      "9               [0.02, 1.0]                    0.5   \n",
      "10              [0.05, 1.0]                   0.75   \n",
      "11              [0.05, 1.0]                    1.0   \n",
      "12              [0.05, 1.0]                   0.05   \n",
      "13              [0.05, 1.0]                    0.2   \n",
      "14              [0.05, 1.0]                    0.5   \n",
      "\n",
      "                                                            model_ids  \\\n",
      "0    Grid_GBM_py_4_sid_a61a_model_python_1594960638218_299082_model_1   \n",
      "1   Grid_GBM_py_4_sid_a61a_model_python_1594960638218_299082_model_10   \n",
      "2   Grid_GBM_py_4_sid_a61a_model_python_1594960638218_299082_model_13   \n",
      "3    Grid_GBM_py_4_sid_a61a_model_python_1594960638218_299082_model_4   \n",
      "4    Grid_GBM_py_4_sid_a61a_model_python_1594960638218_299082_model_7   \n",
      "5   Grid_GBM_py_4_sid_a61a_model_python_1594960638218_299082_model_11   \n",
      "6   Grid_GBM_py_4_sid_a61a_model_python_1594960638218_299082_model_14   \n",
      "7    Grid_GBM_py_4_sid_a61a_model_python_1594960638218_299082_model_2   \n",
      "8    Grid_GBM_py_4_sid_a61a_model_python_1594960638218_299082_model_5   \n",
      "9    Grid_GBM_py_4_sid_a61a_model_python_1594960638218_299082_model_8   \n",
      "10  Grid_GBM_py_4_sid_a61a_model_python_1594960638218_299082_model_12   \n",
      "11  Grid_GBM_py_4_sid_a61a_model_python_1594960638218_299082_model_15   \n",
      "12   Grid_GBM_py_4_sid_a61a_model_python_1594960638218_299082_model_3   \n",
      "13   Grid_GBM_py_4_sid_a61a_model_python_1594960638218_299082_model_6   \n",
      "14   Grid_GBM_py_4_sid_a61a_model_python_1594960638218_299082_model_9   \n",
      "\n",
      "                  logloss  \n",
      "0   0.0019830289223083876  \n",
      "1   0.0019830289223083876  \n",
      "2   0.0019830289223083876  \n",
      "3   0.0019830289223083876  \n",
      "4   0.0019830289223083876  \n",
      "5    0.002011189802350678  \n",
      "6    0.002011189802350678  \n",
      "7    0.002011189802350678  \n",
      "8    0.002011189802350678  \n",
      "9    0.002011189802350678  \n",
      "10  0.0021654387188922756  \n",
      "11  0.0021654387188922756  \n",
      "12  0.0021654387188922756  \n",
      "13  0.0021654387188922756  \n",
      "14  0.0021654387188922756  \n",
      "\n"
     ]
    }
   ],
   "source": [
    "# hyper_params = {'class_sampling_factors': [[0.01, 1.0], [0.02, 1.0], [0.05, 1.0], [0,1, 1.0], [0.2, 1.0]],\n",
    "#               'max_after_balance_size': [0.05, 0.2, 0.5, 0.75, 0.85, 1.0, 1.5, 2.5, 5.0]}\n",
    "\n",
    "hyper_params = {'class_sampling_factors': [[0.01, 1.0], [0.02, 1.0], [0.05, 1.0]],\n",
    "               'max_after_balance_size': [0.05, 0.2, 0.5, 0.75, 1.0]}\n",
    "\n",
    "# build grid search with previously made GBM and hyperparameters\n",
    "cov_gbm_2 = H2OGradientBoostingEstimator(seed = 777, balance_classes = True, nfolds = 5)\n",
    "\n",
    "grid = H2OGridSearch(model = cov_gbm_2, hyper_params = hyper_params,\n",
    "                     search_criteria = {'strategy': \"Cartesian\"})\n",
    "\n",
    "# train using the grid\n",
    "# grid.train(x = predictors, y = response, training_frame = train, validation_frame = valid)\n",
    "grid.train(x = predictors, y = response, training_frame = train)\n",
    "\n",
    "# sort the grid models by logloss\n",
    "sorted_grid = grid.get_grid(sort_by='logloss', decreasing=False)\n",
    "print(sorted_grid)"
   ]
  },
  {
   "cell_type": "code",
   "execution_count": null,
   "metadata": {},
   "outputs": [],
   "source": []
  },
  {
   "cell_type": "code",
   "execution_count": null,
   "metadata": {},
   "outputs": [],
   "source": []
  },
  {
   "cell_type": "code",
   "execution_count": null,
   "metadata": {},
   "outputs": [],
   "source": []
  },
  {
   "cell_type": "code",
   "execution_count": 9,
   "metadata": {},
   "outputs": [],
   "source": [
    "sample_factors = [0.02, 1.0]\n",
    "max_param = 1.0"
   ]
  },
  {
   "cell_type": "code",
   "execution_count": 10,
   "metadata": {
    "scrolled": true
   },
   "outputs": [
    {
     "name": "stdout",
     "output_type": "stream",
     "text": [
      "AutoML progress: |████████████████████████████████████████████████████████| 100%\n"
     ]
    }
   ],
   "source": [
    "# Run AutoML for 20 base models (limited to 1 hour max runtime by default)\n",
    "'''균형 샘플링의 경우 더 높은 사양의 하드웨어 환경에서 훈련 필요!!!!!!!!!!!!!!!!!!!!!!!!'''\n",
    "# aml = H2OAutoML(max_models=5, seed=777, max_runtime_secs = 7200, sort_metric = \"logloss\", \n",
    "#    nfolds = 5, balance_classes = True, include_algos = ['GBM'])\n",
    "\n",
    "aml = H2OAutoML(max_models=5, seed=777, max_runtime_secs = 7200, sort_metric = \"logloss\", \n",
    "        class_sampling_factors = sample_factors, max_after_balance_size = max_param, nfolds = 5,\n",
    "          balance_classes = True, include_algos = ['GBM'])\n",
    "\n",
    "'''aml = H2OAutoML(max_models=10, seed=777, max_runtime_secs = 5400, sort_metric = \"logloss\", \n",
    "            balance_classes = True,  class_sampling_factors = sample_factors, max_after_balance_size = max_param,\n",
    "            nfolds = 10, exclude_algos = ['DeepLearning' , 'XGBoost'])'''\n",
    "\n",
    "# aml.train(x=predictors, y=response, training_frame=train, validation_frame = valid)\n",
    "aml.train(x=predictors, y=response, training_frame=train)"
   ]
  },
  {
   "cell_type": "code",
   "execution_count": 11,
   "metadata": {},
   "outputs": [
    {
     "data": {
      "text/html": [
       "<table>\n",
       "<thead>\n",
       "<tr><th>model_id                    </th><th style=\"text-align: right;\">   logloss</th><th style=\"text-align: right;\">     auc</th><th style=\"text-align: right;\">     aucpr</th><th style=\"text-align: right;\">  mean_per_class_error</th><th style=\"text-align: right;\">     rmse</th><th style=\"text-align: right;\">        mse</th></tr>\n",
       "</thead>\n",
       "<tbody>\n",
       "<tr><td>GBM_5_AutoML_20200727_130653</td><td style=\"text-align: right;\">0.00198063</td><td style=\"text-align: right;\">0.826328</td><td style=\"text-align: right;\">0.00510163</td><td style=\"text-align: right;\">              0.458258</td><td style=\"text-align: right;\">0.0154208</td><td style=\"text-align: right;\">0.000237803</td></tr>\n",
       "<tr><td>GBM_2_AutoML_20200727_130653</td><td style=\"text-align: right;\">0.00204957</td><td style=\"text-align: right;\">0.82611 </td><td style=\"text-align: right;\">0.00419209</td><td style=\"text-align: right;\">              0.456096</td><td style=\"text-align: right;\">0.0159304</td><td style=\"text-align: right;\">0.000253779</td></tr>\n",
       "<tr><td>GBM_3_AutoML_20200727_130653</td><td style=\"text-align: right;\">0.00209732</td><td style=\"text-align: right;\">0.824613</td><td style=\"text-align: right;\">0.00404185</td><td style=\"text-align: right;\">              0.470793</td><td style=\"text-align: right;\">0.0163808</td><td style=\"text-align: right;\">0.000268331</td></tr>\n",
       "<tr><td>GBM_4_AutoML_20200727_130653</td><td style=\"text-align: right;\">0.00212782</td><td style=\"text-align: right;\">0.818761</td><td style=\"text-align: right;\">0.00384688</td><td style=\"text-align: right;\">              0.468195</td><td style=\"text-align: right;\">0.0164446</td><td style=\"text-align: right;\">0.000270424</td></tr>\n",
       "<tr><td>GBM_1_AutoML_20200727_130653</td><td style=\"text-align: right;\">0.00257382</td><td style=\"text-align: right;\">0.819531</td><td style=\"text-align: right;\">0.0033793 </td><td style=\"text-align: right;\">              0.449283</td><td style=\"text-align: right;\">0.0201312</td><td style=\"text-align: right;\">0.000405264</td></tr>\n",
       "</tbody>\n",
       "</table>"
      ]
     },
     "metadata": {},
     "output_type": "display_data"
    },
    {
     "data": {
      "text/plain": []
     },
     "execution_count": 11,
     "metadata": {},
     "output_type": "execute_result"
    }
   ],
   "source": [
    "# View the AutoML Leaderboard\n",
    "lb = aml.leaderboard\n",
    "lb.head(rows=lb.nrows)  # Print all rows instead of default (10 rows)"
   ]
  },
  {
   "cell_type": "code",
   "execution_count": 12,
   "metadata": {},
   "outputs": [],
   "source": [
    "# auto ml leaderboard 1순위 모델 저장\n",
    "save_model_id = h2o.get_model(aml.leaderboard.as_data_frame()['model_id'][0])"
   ]
  },
  {
   "cell_type": "code",
   "execution_count": 13,
   "metadata": {},
   "outputs": [
    {
     "name": "stdout",
     "output_type": "stream",
     "text": [
      "gbm prediction progress: |████████████████████████████████████████████████| 100%\n"
     ]
    },
    {
     "data": {
      "text/html": [
       "<table>\n",
       "<thead>\n",
       "<tr><th style=\"text-align: right;\">  predict</th><th style=\"text-align: right;\">      p0</th><th style=\"text-align: right;\">         p1</th></tr>\n",
       "</thead>\n",
       "<tbody>\n",
       "<tr><td style=\"text-align: right;\">        0</td><td style=\"text-align: right;\">0.999953</td><td style=\"text-align: right;\">4.66791e-05</td></tr>\n",
       "<tr><td style=\"text-align: right;\">        0</td><td style=\"text-align: right;\">0.999934</td><td style=\"text-align: right;\">6.60852e-05</td></tr>\n",
       "<tr><td style=\"text-align: right;\">        0</td><td style=\"text-align: right;\">0.999948</td><td style=\"text-align: right;\">5.17008e-05</td></tr>\n",
       "<tr><td style=\"text-align: right;\">        0</td><td style=\"text-align: right;\">0.999961</td><td style=\"text-align: right;\">3.93436e-05</td></tr>\n",
       "<tr><td style=\"text-align: right;\">        0</td><td style=\"text-align: right;\">0.999964</td><td style=\"text-align: right;\">3.57625e-05</td></tr>\n",
       "<tr><td style=\"text-align: right;\">        0</td><td style=\"text-align: right;\">0.999933</td><td style=\"text-align: right;\">6.65374e-05</td></tr>\n",
       "<tr><td style=\"text-align: right;\">        0</td><td style=\"text-align: right;\">0.999936</td><td style=\"text-align: right;\">6.39168e-05</td></tr>\n",
       "<tr><td style=\"text-align: right;\">        0</td><td style=\"text-align: right;\">0.99993 </td><td style=\"text-align: right;\">7.0165e-05 </td></tr>\n",
       "<tr><td style=\"text-align: right;\">        0</td><td style=\"text-align: right;\">0.999956</td><td style=\"text-align: right;\">4.36692e-05</td></tr>\n",
       "<tr><td style=\"text-align: right;\">        0</td><td style=\"text-align: right;\">0.999935</td><td style=\"text-align: right;\">6.49763e-05</td></tr>\n",
       "</tbody>\n",
       "</table>"
      ]
     },
     "metadata": {},
     "output_type": "display_data"
    },
    {
     "data": {
      "text/plain": []
     },
     "execution_count": 13,
     "metadata": {},
     "output_type": "execute_result"
    }
   ],
   "source": [
    "'''leader model 기반 test set prediction'''\n",
    "# To generate predictions on a test set, you can make predictions\n",
    "# directly on the `\"H2OAutoML\"` object or on the leader model\n",
    "# object directly\n",
    "preds = aml.predict(test)\n",
    "preds\n",
    "# or:\n",
    "# preds = aml.leader.predict(test)"
   ]
  },
  {
   "cell_type": "code",
   "execution_count": 14,
   "metadata": {},
   "outputs": [],
   "source": [
    "y_test_df = test['SAGO_YN'].as_data_frame()\n",
    "y_test = y_test_df.to_numpy()"
   ]
  },
  {
   "cell_type": "code",
   "execution_count": 15,
   "metadata": {},
   "outputs": [],
   "source": [
    "y_pred_df = preds['predict'].as_data_frame()\n",
    "y_pred = y_pred_df.to_numpy()"
   ]
  },
  {
   "cell_type": "code",
   "execution_count": 16,
   "metadata": {},
   "outputs": [
    {
     "data": {
      "text/plain": [
       "array([[0],\n",
       "       [0],\n",
       "       [0],\n",
       "       ...,\n",
       "       [0],\n",
       "       [0],\n",
       "       [0]])"
      ]
     },
     "execution_count": 16,
     "metadata": {},
     "output_type": "execute_result"
    }
   ],
   "source": [
    "y_test"
   ]
  },
  {
   "cell_type": "code",
   "execution_count": 17,
   "metadata": {},
   "outputs": [
    {
     "data": {
      "text/plain": [
       "array([[0],\n",
       "       [0],\n",
       "       [0],\n",
       "       ...,\n",
       "       [0],\n",
       "       [0],\n",
       "       [0]])"
      ]
     },
     "execution_count": 17,
     "metadata": {},
     "output_type": "execute_result"
    }
   ],
   "source": [
    "y_pred"
   ]
  },
  {
   "cell_type": "code",
   "execution_count": null,
   "metadata": {},
   "outputs": [],
   "source": []
  },
  {
   "cell_type": "markdown",
   "metadata": {},
   "source": [
    "# test set의 Confusion Matrix, AUC, ROC curve"
   ]
  },
  {
   "cell_type": "code",
   "execution_count": 18,
   "metadata": {},
   "outputs": [],
   "source": [
    "# Confusion Matrix의 4가지 결과값 도출\n",
    "cm = confusion_matrix(y_test, y_pred)"
   ]
  },
  {
   "cell_type": "code",
   "execution_count": 19,
   "metadata": {},
   "outputs": [
    {
     "name": "stdout",
     "output_type": "stream",
     "text": [
      "정확도 (Accuracy): 0.991185 , 정밀도 (Precision): 0.006624 , 재현율 (Recall): 0.245283 , 특이도 (Specificity): 0.991360\n"
     ]
    }
   ],
   "source": [
    "tn = cm[0,0]\n",
    "tp = cm[1,1]\n",
    "fp = cm[0,1]\n",
    "fn = cm[1,0]\n",
    "\n",
    "acc = (tp + tn) / (tp + tn + fp + fn)\n",
    "prec = tp / (tp+fp)\n",
    "sen = tp / (tp+fn)\n",
    "spec = tn / (fp + tn)\n",
    "\n",
    "print('정확도 (Accuracy): %f , 정밀도 (Precision): %f , 재현율 (Recall): %f , 특이도 (Specificity): %f' % (acc, prec, sen, spec))"
   ]
  },
  {
   "cell_type": "code",
   "execution_count": 20,
   "metadata": {},
   "outputs": [
    {
     "data": {
      "image/png": "[encoded data removed]",
      "text/plain": [
       "<Figure size 432x288 with 2 Axes>"
      ]
     },
     "metadata": {
      "needs_background": "light"
     },
     "output_type": "display_data"
    }
   ],
   "source": [
    "class_names = ['N', 'Y']\n",
    "fig, ax = plot_confusion_matrix(conf_mat = cm, show_absolute=True, show_normed=True, colorbar=True, class_names = class_names)\n",
    "\n",
    "plt.rcParams[\"figure.figsize\"] = (5, 5)\n",
    "plt.show()"
   ]
  },
  {
   "cell_type": "code",
   "execution_count": 21,
   "metadata": {},
   "outputs": [
    {
     "data": {
      "image/png": "[encoded data removed]",
      "text/plain": [
       "<Figure size 720x360 with 1 Axes>"
      ]
     },
     "metadata": {
      "needs_background": "light"
     },
     "output_type": "display_data"
    }
   ],
   "source": [
    "# ROC 커브 및 AUC 도출\n",
    "FPR, TPR, thresholds = roc_curve(y_test, y_pred)\n",
    "\n",
    "plt.figure(figsize=(10,5))  # figsize in inches\n",
    "plt.plot(FPR, TPR)\n",
    "plt.xlim([0.0, 1.0])\n",
    "plt.ylim([0.0, 1.0])\n",
    "plt.plot([0, 1], [0, 1], color='navy', lw=2, linestyle='--')  # 50%\n",
    "plt.plot(FPR, TPR, lw=2, label='GBM (AUC = %0.2f)' % auc(FPR, TPR))\n",
    "plt.title('ROC curve')\n",
    "plt.xlabel('1 - Specificity')\n",
    "plt.ylabel('Sensitivity')\n",
    "plt.grid(True)\n",
    "plt.legend(loc=\"lower right\")\n",
    "plt.show()"
   ]
  },
  {
   "cell_type": "code",
   "execution_count": null,
   "metadata": {},
   "outputs": [],
   "source": []
  },
  {
   "cell_type": "code",
   "execution_count": null,
   "metadata": {},
   "outputs": [],
   "source": []
  },
  {
   "cell_type": "code",
   "execution_count": null,
   "metadata": {},
   "outputs": [],
   "source": []
  },
  {
   "cell_type": "code",
   "execution_count": null,
   "metadata": {},
   "outputs": [],
   "source": []
  },
  {
   "cell_type": "code",
   "execution_count": null,
   "metadata": {},
   "outputs": [],
   "source": []
  },
  {
   "cell_type": "code",
   "execution_count": 164,
   "metadata": {},
   "outputs": [
    {
     "data": {
      "text/html": [
       "<table>\n",
       "<thead>\n",
       "<tr><th>model_id                                  </th><th style=\"text-align: right;\">  logloss</th><th style=\"text-align: right;\">     auc</th><th style=\"text-align: right;\">    aucpr</th><th style=\"text-align: right;\">  mean_per_class_error</th><th style=\"text-align: right;\">     rmse</th><th style=\"text-align: right;\">       mse</th><th style=\"text-align: right;\">  training_time_ms</th><th style=\"text-align: right;\">  predict_time_per_row_ms</th></tr>\n",
       "</thead>\n",
       "<tbody>\n",
       "<tr><td>GBM_5_AutoML_20200712_175309              </td><td style=\"text-align: right;\">0.0287975</td><td style=\"text-align: right;\">0.806479</td><td style=\"text-align: right;\">0.0764156</td><td style=\"text-align: right;\">              0.418298</td><td style=\"text-align: right;\">0.0718855</td><td style=\"text-align: right;\">0.00516753</td><td style=\"text-align: right;\">              4222</td><td style=\"text-align: right;\">                 0.005234</td></tr>\n",
       "<tr><td>GBM_grid__1_AutoML_20200712_175309_model_1</td><td style=\"text-align: right;\">0.0289333</td><td style=\"text-align: right;\">0.800134</td><td style=\"text-align: right;\">0.0755738</td><td style=\"text-align: right;\">              0.421598</td><td style=\"text-align: right;\">0.0718816</td><td style=\"text-align: right;\">0.00516697</td><td style=\"text-align: right;\">              1932</td><td style=\"text-align: right;\">                 0.003294</td></tr>\n",
       "<tr><td>GBM_grid__1_AutoML_20200712_175309_model_5</td><td style=\"text-align: right;\">0.0289336</td><td style=\"text-align: right;\">0.805325</td><td style=\"text-align: right;\">0.0722375</td><td style=\"text-align: right;\">              0.426093</td><td style=\"text-align: right;\">0.0720404</td><td style=\"text-align: right;\">0.00518983</td><td style=\"text-align: right;\">              2271</td><td style=\"text-align: right;\">                 0.002231</td></tr>\n",
       "<tr><td>GBM_2_AutoML_20200712_175309              </td><td style=\"text-align: right;\">0.0290145</td><td style=\"text-align: right;\">0.800645</td><td style=\"text-align: right;\">0.0709508</td><td style=\"text-align: right;\">              0.425785</td><td style=\"text-align: right;\">0.0720884</td><td style=\"text-align: right;\">0.00519674</td><td style=\"text-align: right;\">              2322</td><td style=\"text-align: right;\">                 0.002069</td></tr>\n",
       "<tr><td>GBM_1_AutoML_20200712_175309              </td><td style=\"text-align: right;\">0.0290603</td><td style=\"text-align: right;\">0.79956 </td><td style=\"text-align: right;\">0.0714314</td><td style=\"text-align: right;\">              0.431837</td><td style=\"text-align: right;\">0.0720208</td><td style=\"text-align: right;\">0.00518699</td><td style=\"text-align: right;\">              2079</td><td style=\"text-align: right;\">                 0.002117</td></tr>\n",
       "<tr><td>GBM_3_AutoML_20200712_175309              </td><td style=\"text-align: right;\">0.0290869</td><td style=\"text-align: right;\">0.80121 </td><td style=\"text-align: right;\">0.0694427</td><td style=\"text-align: right;\">              0.425021</td><td style=\"text-align: right;\">0.072169 </td><td style=\"text-align: right;\">0.00520837</td><td style=\"text-align: right;\">              2127</td><td style=\"text-align: right;\">                 0.002658</td></tr>\n",
       "<tr><td>GBM_grid__1_AutoML_20200712_175309_model_4</td><td style=\"text-align: right;\">0.0291645</td><td style=\"text-align: right;\">0.798448</td><td style=\"text-align: right;\">0.0652931</td><td style=\"text-align: right;\">              0.429315</td><td style=\"text-align: right;\">0.072154 </td><td style=\"text-align: right;\">0.00520621</td><td style=\"text-align: right;\">              1796</td><td style=\"text-align: right;\">                 0.002198</td></tr>\n",
       "<tr><td>GBM_4_AutoML_20200712_175309              </td><td style=\"text-align: right;\">0.0292785</td><td style=\"text-align: right;\">0.799852</td><td style=\"text-align: right;\">0.0659844</td><td style=\"text-align: right;\">              0.424257</td><td style=\"text-align: right;\">0.0723597</td><td style=\"text-align: right;\">0.00523592</td><td style=\"text-align: right;\">              2581</td><td style=\"text-align: right;\">                 0.002326</td></tr>\n",
       "<tr><td>GBM_grid__1_AutoML_20200712_175309_model_2</td><td style=\"text-align: right;\">0.0296669</td><td style=\"text-align: right;\">0.794792</td><td style=\"text-align: right;\">0.0633127</td><td style=\"text-align: right;\">              0.435793</td><td style=\"text-align: right;\">0.0727818</td><td style=\"text-align: right;\">0.00529719</td><td style=\"text-align: right;\">              2376</td><td style=\"text-align: right;\">                 0.002248</td></tr>\n",
       "<tr><td>GBM_grid__1_AutoML_20200712_175309_model_3</td><td style=\"text-align: right;\">0.0301988</td><td style=\"text-align: right;\">0.783623</td><td style=\"text-align: right;\">0.0626328</td><td style=\"text-align: right;\">              0.434087</td><td style=\"text-align: right;\">0.0730809</td><td style=\"text-align: right;\">0.00534082</td><td style=\"text-align: right;\">              1743</td><td style=\"text-align: right;\">                 0.002333</td></tr>\n",
       "</tbody>\n",
       "</table>"
      ]
     },
     "metadata": {},
     "output_type": "display_data"
    },
    {
     "data": {
      "text/plain": []
     },
     "execution_count": 164,
     "metadata": {},
     "output_type": "execute_result"
    }
   ],
   "source": [
    "# Get leaderboard with `extra_columns` = 'ALL'\n",
    "lb = h2o.automl.get_leaderboard(aml, extra_columns = 'ALL')\n",
    "lb"
   ]
  },
  {
   "cell_type": "code",
   "execution_count": 22,
   "metadata": {},
   "outputs": [
    {
     "name": "stdout",
     "output_type": "stream",
     "text": [
      "/Users/wbchoi/PycharmProjects/ai_projects/C_ITS/prediction_modeling/automl_save_model/GBM_5_AutoML_20200727_130653\n"
     ]
    }
   ],
   "source": [
    "# save the model\n",
    "model_path = h2o.save_model(model=save_model_id, path=\"automl_save_model/\", force=True)\n",
    "print(model_path)"
   ]
  },
  {
   "cell_type": "code",
   "execution_count": 25,
   "metadata": {},
   "outputs": [],
   "source": [
    "# load the model\n",
    "load_model_test = h2o.load_model('/Users/wbchoi/PycharmProjects/ai_projects/C_ITS/EDA/automl_save_model/GBM_5_AutoML_20200710_213328')"
   ]
  },
  {
   "cell_type": "code",
   "execution_count": null,
   "metadata": {},
   "outputs": [],
   "source": []
  },
  {
   "cell_type": "code",
   "execution_count": null,
   "metadata": {},
   "outputs": [],
   "source": []
  },
  {
   "cell_type": "code",
   "execution_count": null,
   "metadata": {},
   "outputs": [],
   "source": []
  }
 ],
 "metadata": {
  "kernelspec": {
   "display_name": "Python 3",
   "language": "python",
   "name": "python3"
  },
  "language_info": {
   "codemirror_mode": {
    "name": "ipython",
    "version": 3
   },
   "file_extension": ".py",
   "mimetype": "text/x-python",
   "name": "python",
   "nbconvert_exporter": "python",
   "pygments_lexer": "ipython3",
   "version": "3.7.3"
  }
 },
 "nbformat": 4,
 "nbformat_minor": 2
}
