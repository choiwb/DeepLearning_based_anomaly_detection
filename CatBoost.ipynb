{
 "cells": [
  {
   "cell_type": "code",
   "execution_count": 1,
   "metadata": {},
   "outputs": [
    {
     "name": "stderr",
     "output_type": "stream",
     "text": [
      "/Users/wbchoi/anaconda3/lib/python3.7/site-packages/dask/config.py:168: YAMLLoadWarning:\n",
      "\n",
      "calling yaml.load() without Loader=... is deprecated, as the default Loader is unsafe. Please read https://msg.pyyaml.org/load for full details.\n",
      "\n"
     ]
    }
   ],
   "source": [
    "import pandas as pd\n",
    "import numpy as np\n",
    "import matplotlib.pyplot as plt\n",
    "import cufflinks as cf\n",
    "plt.rcParams['axes.unicode_minus'] = False\n",
    "\n",
    "from sklearn.preprocessing import MinMaxScaler\n",
    "from sklearn.model_selection import train_test_split\n",
    "from sklearn.feature_selection import SelectFromModel\n",
    "from sklearn.metrics import confusion_matrix, roc_curve, auc, roc_auc_score\n",
    "\n",
    "from catboost import CatBoostClassifier, Pool\n",
    "from mlxtend.plotting import plot_confusion_matrix\n",
    "\n",
    "import shap\n",
    "import lime\n",
    "from lime import submodular_pick"
   ]
  },
  {
   "cell_type": "code",
   "execution_count": 26,
   "metadata": {},
   "outputs": [],
   "source": [
    "road_sago_final = pd.read_csv('full_data_kma_hours_lightgbm_feature_extract.csv')"
   ]
  },
  {
   "cell_type": "code",
   "execution_count": 27,
   "metadata": {},
   "outputs": [],
   "source": [
    "X = road_sago_final.iloc[:, 0:-1]\n",
    "y = road_sago_final.iloc[:, -1]\n",
    "\n",
    "X_train, X_test, y_train , y_test = train_test_split(X, y, test_size = 0.2, random_state = 777)"
   ]
  },
  {
   "cell_type": "code",
   "execution_count": 28,
   "metadata": {},
   "outputs": [],
   "source": [
    "y_train_create = pd.DataFrame(y_train)"
   ]
  },
  {
   "cell_type": "code",
   "execution_count": 29,
   "metadata": {},
   "outputs": [],
   "source": [
    "y_train_create.columns = ['SAGO_YN']\n",
    "sago_x_weight = y_train_create[y_train_create['SAGO_YN'] == 0]\n",
    "sago_y_weight = y_train_create[y_train_create['SAGO_YN'] == 1]"
   ]
  },
  {
   "cell_type": "code",
   "execution_count": 30,
   "metadata": {},
   "outputs": [
    {
     "data": {
      "text/plain": [
       "3001"
      ]
     },
     "execution_count": 30,
     "metadata": {},
     "output_type": "execute_result"
    }
   ],
   "source": [
    "len(sago_y_weight)"
   ]
  },
  {
   "cell_type": "code",
   "execution_count": 31,
   "metadata": {},
   "outputs": [
    {
     "data": {
      "text/plain": [
       "4210.3"
      ]
     },
     "execution_count": 31,
     "metadata": {},
     "output_type": "execute_result"
    }
   ],
   "source": [
    "weight_ratio = len(sago_x_weight) / len(sago_y_weight)\n",
    "weight_ratio = round(weight_ratio, 1)\n",
    "weight_ratio"
   ]
  },
  {
   "cell_type": "code",
   "execution_count": 32,
   "metadata": {},
   "outputs": [
    {
     "data": {
      "text/plain": [
       "array([ 0,  1,  2,  5,  6,  7,  8,  9, 10])"
      ]
     },
     "execution_count": 32,
     "metadata": {},
     "output_type": "execute_result"
    }
   ],
   "source": [
    "#Checking for any categorical features\n",
    "cate_features_index = np.where(X.dtypes != float)[0]\n",
    "cate_features_index"
   ]
  },
  {
   "cell_type": "code",
   "execution_count": 33,
   "metadata": {},
   "outputs": [
    {
     "data": {
      "text/plain": [
       "Index(['SUB_YN', 'ROAD_TYPE', 'REST_VEH', 'MAX_SPD', 'LANES', 'CW_YN',\n",
       "       'BUS_YN', 'A3_ROADTYPE_1_YN', 'A1_LANE_04_YN', 'A1_BARR_03_YN',\n",
       "       'A1_BARR_02_YN', 'S_P_UTERNX_CNT', 'SN_P_HDUFID_CNT', 'SF_P_ALL_CNT',\n",
       "       'SF_PL_CW_CNT', 'SF_L_1_CNT', 'SUB_CNT', 'NODE_LANES_CNT',\n",
       "       'NODE_INTERS_CNT', 'CW_CNT', 'BUS_CNT', 'A3_ROADTYPE_3_CNT',\n",
       "       'A3_ROADTYPE_1_CNT', 'A2_STOP_2_CNT', 'A2_STOP_1_CNT', 'A1_LANE_04_CNT',\n",
       "       'A1_BARR_05_CNT', 'A1_BARR_03_CNT', 'A1_BARR_02_CNT', 'topis_22_07',\n",
       "       'pop_22_07', 'WS', 'WD', 'TEMP', 'RF', 'HM'],\n",
       "      dtype='object')"
      ]
     },
     "execution_count": 33,
     "metadata": {},
     "output_type": "execute_result"
    }
   ],
   "source": [
    "X_train.columns"
   ]
  },
  {
   "cell_type": "code",
   "execution_count": null,
   "metadata": {},
   "outputs": [],
   "source": []
  },
  {
   "cell_type": "code",
   "execution_count": 34,
   "metadata": {},
   "outputs": [],
   "source": [
    "#let us make the catboost model, use_best_model params will make the model prevent overfitting\n",
    "# model = CatBoostClassifier(iterations=100, learning_rate=0.01, l2_leaf_reg=3.5, depth=8, rsm=0.98, loss_function= 'Logloss', \n",
    "#                            eval_metric='AUC',use_best_model=True, random_seed=42)\n",
    "model = CatBoostClassifier(iterations=500, learning_rate=10e-5, l2_leaf_reg=3.5, depth=8, rsm=0.98, loss_function= 'Logloss', \n",
    "                           class_weights = [1.0 / weight_ratio, 1.0], eval_metric='AUC', random_seed=777)"
   ]
  },
  {
   "cell_type": "code",
   "execution_count": 35,
   "metadata": {
    "scrolled": true
   },
   "outputs": [
    {
     "name": "stdout",
     "output_type": "stream",
     "text": [
      "0:\ttotal: 6.83s\tremaining: 56m 48s\n",
      "1:\ttotal: 9.97s\tremaining: 41m 22s\n",
      "2:\ttotal: 16.3s\tremaining: 45m\n",
      "3:\ttotal: 21.7s\tremaining: 44m 55s\n",
      "4:\ttotal: 27.2s\tremaining: 44m 52s\n",
      "5:\ttotal: 34.2s\tremaining: 46m 54s\n",
      "6:\ttotal: 39.1s\tremaining: 45m 52s\n",
      "7:\ttotal: 45.1s\tremaining: 46m 16s\n",
      "8:\ttotal: 50.4s\tremaining: 45m 49s\n",
      "9:\ttotal: 54.8s\tremaining: 44m 47s\n",
      "10:\ttotal: 59.3s\tremaining: 43m 55s\n",
      "11:\ttotal: 1m 3s\tremaining: 43m 20s\n",
      "12:\ttotal: 1m 7s\tremaining: 42m 7s\n",
      "13:\ttotal: 1m 11s\tremaining: 41m 7s\n",
      "14:\ttotal: 1m 15s\tremaining: 40m 42s\n",
      "15:\ttotal: 1m 19s\tremaining: 39m 55s\n",
      "16:\ttotal: 1m 22s\tremaining: 39m 11s\n",
      "17:\ttotal: 1m 27s\tremaining: 38m 49s\n",
      "18:\ttotal: 1m 31s\tremaining: 38m 33s\n",
      "19:\ttotal: 1m 35s\tremaining: 38m 9s\n",
      "20:\ttotal: 1m 38s\tremaining: 37m 30s\n",
      "21:\ttotal: 1m 41s\tremaining: 36m 49s\n",
      "22:\ttotal: 1m 45s\tremaining: 36m 24s\n",
      "23:\ttotal: 1m 48s\tremaining: 35m 58s\n",
      "24:\ttotal: 1m 52s\tremaining: 35m 28s\n",
      "25:\ttotal: 1m 55s\tremaining: 34m 58s\n",
      "26:\ttotal: 1m 58s\tremaining: 34m 38s\n",
      "27:\ttotal: 2m 1s\tremaining: 34m 12s\n",
      "28:\ttotal: 2m 5s\tremaining: 33m 59s\n",
      "29:\ttotal: 2m 9s\tremaining: 33m 41s\n",
      "30:\ttotal: 2m 13s\tremaining: 33m 32s\n",
      "31:\ttotal: 2m 16s\tremaining: 33m 17s\n",
      "32:\ttotal: 2m 20s\tremaining: 33m 11s\n",
      "33:\ttotal: 2m 24s\tremaining: 33m 4s\n",
      "34:\ttotal: 2m 28s\tremaining: 32m 58s\n",
      "35:\ttotal: 2m 32s\tremaining: 32m 51s\n",
      "36:\ttotal: 2m 36s\tremaining: 32m 35s\n",
      "37:\ttotal: 2m 39s\tremaining: 32m 18s\n",
      "38:\ttotal: 2m 42s\tremaining: 32m 4s\n",
      "39:\ttotal: 2m 45s\tremaining: 31m 48s\n",
      "40:\ttotal: 2m 49s\tremaining: 31m 34s\n",
      "41:\ttotal: 2m 52s\tremaining: 31m 24s\n",
      "42:\ttotal: 2m 56s\tremaining: 31m 10s\n",
      "43:\ttotal: 2m 59s\tremaining: 30m 55s\n",
      "44:\ttotal: 3m 2s\tremaining: 30m 41s\n",
      "45:\ttotal: 3m 5s\tremaining: 30m 29s\n",
      "46:\ttotal: 3m 8s\tremaining: 30m 21s\n",
      "47:\ttotal: 3m 11s\tremaining: 30m 6s\n",
      "48:\ttotal: 3m 15s\tremaining: 30m 2s\n",
      "49:\ttotal: 3m 19s\tremaining: 29m 55s\n",
      "50:\ttotal: 3m 23s\tremaining: 29m 47s\n",
      "51:\ttotal: 3m 26s\tremaining: 29m 38s\n",
      "52:\ttotal: 3m 29s\tremaining: 29m 30s\n",
      "53:\ttotal: 3m 33s\tremaining: 29m 24s\n",
      "54:\ttotal: 3m 37s\tremaining: 29m 16s\n",
      "55:\ttotal: 3m 40s\tremaining: 29m 9s\n",
      "56:\ttotal: 3m 44s\tremaining: 29m 8s\n",
      "57:\ttotal: 3m 48s\tremaining: 29m 2s\n",
      "58:\ttotal: 3m 52s\tremaining: 28m 59s\n",
      "59:\ttotal: 3m 57s\tremaining: 29m 3s\n",
      "60:\ttotal: 4m 1s\tremaining: 28m 58s\n",
      "61:\ttotal: 4m 5s\tremaining: 28m 52s\n",
      "62:\ttotal: 4m 9s\tremaining: 28m 48s\n",
      "63:\ttotal: 4m 12s\tremaining: 28m 40s\n",
      "64:\ttotal: 4m 15s\tremaining: 28m 31s\n",
      "65:\ttotal: 4m 18s\tremaining: 28m 22s\n",
      "66:\ttotal: 4m 23s\tremaining: 28m 20s\n",
      "67:\ttotal: 4m 26s\tremaining: 28m 14s\n",
      "68:\ttotal: 4m 30s\tremaining: 28m 10s\n",
      "69:\ttotal: 4m 33s\tremaining: 28m 1s\n",
      "70:\ttotal: 4m 37s\tremaining: 27m 54s\n",
      "71:\ttotal: 4m 40s\tremaining: 27m 46s\n",
      "72:\ttotal: 4m 43s\tremaining: 27m 36s\n",
      "73:\ttotal: 4m 46s\tremaining: 27m 28s\n",
      "74:\ttotal: 4m 49s\tremaining: 27m 21s\n",
      "75:\ttotal: 4m 52s\tremaining: 27m 12s\n",
      "76:\ttotal: 4m 56s\tremaining: 27m 8s\n",
      "77:\ttotal: 5m\tremaining: 27m 6s\n",
      "78:\ttotal: 5m 3s\tremaining: 26m 59s\n",
      "79:\ttotal: 5m 7s\tremaining: 26m 56s\n",
      "80:\ttotal: 5m 10s\tremaining: 26m 48s\n",
      "81:\ttotal: 5m 14s\tremaining: 26m 42s\n",
      "82:\ttotal: 5m 18s\tremaining: 26m 38s\n",
      "83:\ttotal: 5m 21s\tremaining: 26m 30s\n",
      "84:\ttotal: 5m 24s\tremaining: 26m 22s\n",
      "85:\ttotal: 5m 27s\tremaining: 26m 15s\n",
      "86:\ttotal: 5m 30s\tremaining: 26m 7s\n",
      "87:\ttotal: 5m 34s\tremaining: 26m 6s\n",
      "88:\ttotal: 5m 38s\tremaining: 26m 5s\n",
      "89:\ttotal: 5m 43s\tremaining: 26m 3s\n",
      "90:\ttotal: 5m 46s\tremaining: 25m 58s\n",
      "91:\ttotal: 5m 49s\tremaining: 25m 50s\n",
      "92:\ttotal: 5m 52s\tremaining: 25m 43s\n",
      "93:\ttotal: 5m 56s\tremaining: 25m 38s\n",
      "94:\ttotal: 5m 59s\tremaining: 25m 30s\n",
      "95:\ttotal: 6m 2s\tremaining: 25m 24s\n",
      "96:\ttotal: 6m 5s\tremaining: 25m 19s\n",
      "97:\ttotal: 6m 9s\tremaining: 25m 15s\n",
      "98:\ttotal: 6m 13s\tremaining: 25m 11s\n",
      "99:\ttotal: 6m 17s\tremaining: 25m 8s\n",
      "100:\ttotal: 6m 20s\tremaining: 25m 2s\n",
      "101:\ttotal: 6m 24s\tremaining: 25m\n",
      "102:\ttotal: 6m 27s\tremaining: 24m 55s\n",
      "103:\ttotal: 6m 31s\tremaining: 24m 50s\n",
      "104:\ttotal: 6m 35s\tremaining: 24m 46s\n",
      "105:\ttotal: 6m 39s\tremaining: 24m 45s\n",
      "106:\ttotal: 6m 42s\tremaining: 24m 39s\n",
      "107:\ttotal: 6m 46s\tremaining: 24m 34s\n",
      "108:\ttotal: 6m 49s\tremaining: 24m 28s\n",
      "109:\ttotal: 6m 53s\tremaining: 24m 25s\n",
      "110:\ttotal: 6m 56s\tremaining: 24m 19s\n",
      "111:\ttotal: 6m 59s\tremaining: 24m 14s\n",
      "112:\ttotal: 7m 3s\tremaining: 24m 9s\n",
      "113:\ttotal: 7m 6s\tremaining: 24m 4s\n",
      "114:\ttotal: 7m 9s\tremaining: 23m 58s\n",
      "115:\ttotal: 7m 12s\tremaining: 23m 53s\n",
      "116:\ttotal: 7m 16s\tremaining: 23m 47s\n",
      "117:\ttotal: 7m 19s\tremaining: 23m 41s\n",
      "118:\ttotal: 7m 22s\tremaining: 23m 37s\n",
      "119:\ttotal: 7m 27s\tremaining: 23m 35s\n",
      "120:\ttotal: 7m 31s\tremaining: 23m 33s\n",
      "121:\ttotal: 7m 34s\tremaining: 23m 28s\n",
      "122:\ttotal: 7m 37s\tremaining: 23m 22s\n",
      "123:\ttotal: 7m 41s\tremaining: 23m 18s\n",
      "124:\ttotal: 7m 44s\tremaining: 23m 13s\n",
      "125:\ttotal: 7m 47s\tremaining: 23m 7s\n",
      "126:\ttotal: 7m 51s\tremaining: 23m 4s\n",
      "127:\ttotal: 7m 54s\tremaining: 22m 59s\n",
      "128:\ttotal: 7m 58s\tremaining: 22m 56s\n",
      "129:\ttotal: 8m 1s\tremaining: 22m 50s\n",
      "130:\ttotal: 8m 4s\tremaining: 22m 45s\n",
      "131:\ttotal: 8m 7s\tremaining: 22m 40s\n",
      "132:\ttotal: 8m 10s\tremaining: 22m 34s\n",
      "133:\ttotal: 8m 14s\tremaining: 22m 29s\n",
      "134:\ttotal: 8m 17s\tremaining: 22m 24s\n",
      "135:\ttotal: 8m 20s\tremaining: 22m 20s\n",
      "136:\ttotal: 8m 23s\tremaining: 22m 15s\n",
      "137:\ttotal: 8m 27s\tremaining: 22m 10s\n",
      "138:\ttotal: 8m 30s\tremaining: 22m 4s\n",
      "139:\ttotal: 8m 33s\tremaining: 21m 59s\n",
      "140:\ttotal: 8m 36s\tremaining: 21m 54s\n",
      "141:\ttotal: 8m 39s\tremaining: 21m 49s\n",
      "142:\ttotal: 8m 42s\tremaining: 21m 45s\n",
      "143:\ttotal: 8m 45s\tremaining: 21m 40s\n",
      "144:\ttotal: 8m 50s\tremaining: 21m 37s\n",
      "145:\ttotal: 8m 53s\tremaining: 21m 33s\n",
      "146:\ttotal: 8m 56s\tremaining: 21m 28s\n",
      "147:\ttotal: 8m 59s\tremaining: 21m 23s\n",
      "148:\ttotal: 9m 2s\tremaining: 21m 18s\n",
      "149:\ttotal: 9m 6s\tremaining: 21m 15s\n",
      "150:\ttotal: 9m 9s\tremaining: 21m 10s\n",
      "151:\ttotal: 9m 13s\tremaining: 21m 6s\n",
      "152:\ttotal: 9m 16s\tremaining: 21m 1s\n",
      "153:\ttotal: 9m 19s\tremaining: 20m 56s\n",
      "154:\ttotal: 9m 22s\tremaining: 20m 52s\n",
      "155:\ttotal: 9m 25s\tremaining: 20m 47s\n",
      "156:\ttotal: 9m 29s\tremaining: 20m 43s\n",
      "157:\ttotal: 9m 32s\tremaining: 20m 38s\n",
      "158:\ttotal: 9m 35s\tremaining: 20m 34s\n",
      "159:\ttotal: 9m 38s\tremaining: 20m 29s\n",
      "160:\ttotal: 9m 41s\tremaining: 20m 24s\n",
      "161:\ttotal: 9m 45s\tremaining: 20m 21s\n",
      "162:\ttotal: 9m 49s\tremaining: 20m 19s\n",
      "163:\ttotal: 9m 52s\tremaining: 20m 14s\n",
      "164:\ttotal: 9m 56s\tremaining: 20m 11s\n",
      "165:\ttotal: 10m\tremaining: 20m 8s\n",
      "166:\ttotal: 10m 3s\tremaining: 20m 3s\n",
      "167:\ttotal: 10m 6s\tremaining: 19m 58s\n",
      "168:\ttotal: 10m 10s\tremaining: 19m 55s\n",
      "169:\ttotal: 10m 14s\tremaining: 19m 52s\n",
      "170:\ttotal: 10m 18s\tremaining: 19m 49s\n",
      "171:\ttotal: 10m 22s\tremaining: 19m 46s\n",
      "172:\ttotal: 10m 25s\tremaining: 19m 41s\n",
      "173:\ttotal: 10m 28s\tremaining: 19m 37s\n",
      "174:\ttotal: 10m 32s\tremaining: 19m 34s\n",
      "175:\ttotal: 10m 36s\tremaining: 19m 31s\n",
      "176:\ttotal: 10m 40s\tremaining: 19m 28s\n",
      "177:\ttotal: 10m 43s\tremaining: 19m 24s\n",
      "178:\ttotal: 10m 47s\tremaining: 19m 20s\n",
      "179:\ttotal: 10m 51s\tremaining: 19m 17s\n",
      "180:\ttotal: 10m 54s\tremaining: 19m 13s\n",
      "181:\ttotal: 10m 58s\tremaining: 19m 10s\n",
      "182:\ttotal: 11m 2s\tremaining: 19m 7s\n",
      "183:\ttotal: 11m 5s\tremaining: 19m 3s\n",
      "184:\ttotal: 11m 11s\tremaining: 19m 2s\n",
      "185:\ttotal: 11m 15s\tremaining: 19m\n",
      "186:\ttotal: 11m 20s\tremaining: 18m 58s\n",
      "187:\ttotal: 11m 23s\tremaining: 18m 55s\n",
      "188:\ttotal: 11m 27s\tremaining: 18m 51s\n",
      "189:\ttotal: 11m 31s\tremaining: 18m 47s\n",
      "190:\ttotal: 11m 34s\tremaining: 18m 42s\n",
      "191:\ttotal: 11m 37s\tremaining: 18m 39s\n",
      "192:\ttotal: 11m 41s\tremaining: 18m 35s\n",
      "193:\ttotal: 11m 44s\tremaining: 18m 31s\n",
      "194:\ttotal: 11m 48s\tremaining: 18m 27s\n",
      "195:\ttotal: 11m 51s\tremaining: 18m 23s\n",
      "196:\ttotal: 11m 54s\tremaining: 18m 19s\n",
      "197:\ttotal: 11m 58s\tremaining: 18m 15s\n",
      "198:\ttotal: 12m 2s\tremaining: 18m 12s\n",
      "199:\ttotal: 12m 5s\tremaining: 18m 8s\n",
      "200:\ttotal: 12m 9s\tremaining: 18m 4s\n",
      "201:\ttotal: 12m 12s\tremaining: 18m\n",
      "202:\ttotal: 12m 16s\tremaining: 17m 57s\n",
      "203:\ttotal: 12m 20s\tremaining: 17m 53s\n",
      "204:\ttotal: 12m 23s\tremaining: 17m 50s\n",
      "205:\ttotal: 12m 27s\tremaining: 17m 46s\n",
      "206:\ttotal: 12m 30s\tremaining: 17m 42s\n",
      "207:\ttotal: 12m 33s\tremaining: 17m 38s\n",
      "208:\ttotal: 12m 36s\tremaining: 17m 33s\n",
      "209:\ttotal: 12m 40s\tremaining: 17m 30s\n",
      "210:\ttotal: 12m 44s\tremaining: 17m 27s\n",
      "211:\ttotal: 12m 48s\tremaining: 17m 23s\n",
      "212:\ttotal: 12m 51s\tremaining: 17m 19s\n",
      "213:\ttotal: 12m 54s\tremaining: 17m 14s\n",
      "214:\ttotal: 12m 57s\tremaining: 17m 10s\n",
      "215:\ttotal: 13m 1s\tremaining: 17m 7s\n",
      "216:\ttotal: 13m 4s\tremaining: 17m 3s\n",
      "217:\ttotal: 13m 7s\tremaining: 16m 59s\n",
      "218:\ttotal: 13m 11s\tremaining: 16m 55s\n",
      "219:\ttotal: 13m 15s\tremaining: 16m 52s\n"
     ]
    },
    {
     "name": "stdout",
     "output_type": "stream",
     "text": [
      "220:\ttotal: 13m 19s\tremaining: 16m 49s\n",
      "221:\ttotal: 13m 23s\tremaining: 16m 45s\n",
      "222:\ttotal: 13m 26s\tremaining: 16m 41s\n",
      "223:\ttotal: 13m 30s\tremaining: 16m 38s\n",
      "224:\ttotal: 13m 33s\tremaining: 16m 34s\n",
      "225:\ttotal: 13m 36s\tremaining: 16m 30s\n",
      "226:\ttotal: 13m 40s\tremaining: 16m 26s\n",
      "227:\ttotal: 13m 43s\tremaining: 16m 22s\n",
      "228:\ttotal: 13m 46s\tremaining: 16m 18s\n",
      "229:\ttotal: 13m 49s\tremaining: 16m 13s\n",
      "230:\ttotal: 13m 52s\tremaining: 16m 9s\n",
      "231:\ttotal: 13m 55s\tremaining: 16m 5s\n",
      "232:\ttotal: 13m 59s\tremaining: 16m 2s\n",
      "233:\ttotal: 14m 2s\tremaining: 15m 57s\n",
      "234:\ttotal: 14m 6s\tremaining: 15m 54s\n",
      "235:\ttotal: 14m 9s\tremaining: 15m 50s\n",
      "236:\ttotal: 14m 13s\tremaining: 15m 46s\n",
      "237:\ttotal: 14m 16s\tremaining: 15m 43s\n",
      "238:\ttotal: 14m 21s\tremaining: 15m 41s\n",
      "239:\ttotal: 14m 26s\tremaining: 15m 38s\n",
      "240:\ttotal: 14m 29s\tremaining: 15m 34s\n",
      "241:\ttotal: 14m 32s\tremaining: 15m 29s\n",
      "242:\ttotal: 14m 35s\tremaining: 15m 25s\n",
      "243:\ttotal: 14m 38s\tremaining: 15m 21s\n",
      "244:\ttotal: 14m 41s\tremaining: 15m 17s\n",
      "245:\ttotal: 14m 44s\tremaining: 15m 13s\n",
      "246:\ttotal: 14m 48s\tremaining: 15m 9s\n",
      "247:\ttotal: 14m 51s\tremaining: 15m 6s\n",
      "248:\ttotal: 14m 55s\tremaining: 15m 2s\n",
      "249:\ttotal: 15m\tremaining: 15m\n",
      "250:\ttotal: 15m 4s\tremaining: 14m 57s\n",
      "251:\ttotal: 15m 7s\tremaining: 14m 52s\n",
      "252:\ttotal: 15m 11s\tremaining: 14m 50s\n",
      "253:\ttotal: 15m 16s\tremaining: 14m 47s\n",
      "254:\ttotal: 15m 20s\tremaining: 14m 43s\n",
      "255:\ttotal: 15m 23s\tremaining: 14m 39s\n",
      "256:\ttotal: 15m 26s\tremaining: 14m 35s\n",
      "257:\ttotal: 15m 29s\tremaining: 14m 32s\n",
      "258:\ttotal: 15m 33s\tremaining: 14m 28s\n",
      "259:\ttotal: 15m 36s\tremaining: 14m 24s\n",
      "260:\ttotal: 15m 39s\tremaining: 14m 20s\n",
      "261:\ttotal: 15m 43s\tremaining: 14m 16s\n",
      "262:\ttotal: 15m 46s\tremaining: 14m 12s\n",
      "263:\ttotal: 15m 50s\tremaining: 14m 9s\n",
      "264:\ttotal: 15m 53s\tremaining: 14m 5s\n",
      "265:\ttotal: 15m 57s\tremaining: 14m 2s\n",
      "266:\ttotal: 16m\tremaining: 13m 58s\n",
      "267:\ttotal: 16m 5s\tremaining: 13m 55s\n",
      "268:\ttotal: 16m 8s\tremaining: 13m 51s\n",
      "269:\ttotal: 16m 12s\tremaining: 13m 48s\n",
      "270:\ttotal: 16m 17s\tremaining: 13m 45s\n",
      "271:\ttotal: 16m 20s\tremaining: 13m 42s\n",
      "272:\ttotal: 16m 24s\tremaining: 13m 38s\n",
      "273:\ttotal: 16m 27s\tremaining: 13m 34s\n",
      "274:\ttotal: 16m 32s\tremaining: 13m 31s\n",
      "275:\ttotal: 16m 35s\tremaining: 13m 28s\n",
      "276:\ttotal: 16m 38s\tremaining: 13m 24s\n",
      "277:\ttotal: 16m 43s\tremaining: 13m 21s\n",
      "278:\ttotal: 16m 46s\tremaining: 13m 17s\n",
      "279:\ttotal: 16m 50s\tremaining: 13m 14s\n",
      "280:\ttotal: 16m 54s\tremaining: 13m 10s\n",
      "281:\ttotal: 16m 57s\tremaining: 13m 6s\n",
      "282:\ttotal: 17m 1s\tremaining: 13m 3s\n",
      "283:\ttotal: 17m 4s\tremaining: 12m 59s\n",
      "284:\ttotal: 17m 8s\tremaining: 12m 56s\n",
      "285:\ttotal: 17m 12s\tremaining: 12m 52s\n",
      "286:\ttotal: 17m 17s\tremaining: 12m 49s\n",
      "287:\ttotal: 17m 20s\tremaining: 12m 46s\n",
      "288:\ttotal: 17m 24s\tremaining: 12m 42s\n",
      "289:\ttotal: 17m 29s\tremaining: 12m 39s\n",
      "290:\ttotal: 17m 33s\tremaining: 12m 36s\n",
      "291:\ttotal: 17m 36s\tremaining: 12m 32s\n",
      "292:\ttotal: 17m 40s\tremaining: 12m 29s\n",
      "293:\ttotal: 17m 43s\tremaining: 12m 25s\n",
      "294:\ttotal: 17m 48s\tremaining: 12m 22s\n",
      "295:\ttotal: 17m 53s\tremaining: 12m 19s\n",
      "296:\ttotal: 17m 57s\tremaining: 12m 16s\n",
      "297:\ttotal: 18m 1s\tremaining: 12m 12s\n",
      "298:\ttotal: 18m 5s\tremaining: 12m 9s\n",
      "299:\ttotal: 18m 9s\tremaining: 12m 6s\n",
      "300:\ttotal: 18m 13s\tremaining: 12m 2s\n",
      "301:\ttotal: 18m 17s\tremaining: 11m 59s\n",
      "302:\ttotal: 18m 21s\tremaining: 11m 56s\n",
      "303:\ttotal: 18m 25s\tremaining: 11m 52s\n",
      "304:\ttotal: 18m 29s\tremaining: 11m 49s\n",
      "305:\ttotal: 18m 32s\tremaining: 11m 45s\n",
      "306:\ttotal: 18m 37s\tremaining: 11m 42s\n",
      "307:\ttotal: 18m 40s\tremaining: 11m 38s\n",
      "308:\ttotal: 18m 44s\tremaining: 11m 35s\n",
      "309:\ttotal: 18m 47s\tremaining: 11m 31s\n",
      "310:\ttotal: 18m 51s\tremaining: 11m 27s\n",
      "311:\ttotal: 18m 55s\tremaining: 11m 24s\n",
      "312:\ttotal: 18m 58s\tremaining: 11m 20s\n",
      "313:\ttotal: 19m 2s\tremaining: 11m 16s\n",
      "314:\ttotal: 19m 6s\tremaining: 11m 13s\n",
      "315:\ttotal: 19m 9s\tremaining: 11m 9s\n",
      "316:\ttotal: 19m 12s\tremaining: 11m 5s\n",
      "317:\ttotal: 19m 17s\tremaining: 11m 2s\n",
      "318:\ttotal: 19m 21s\tremaining: 10m 58s\n",
      "319:\ttotal: 19m 25s\tremaining: 10m 55s\n",
      "320:\ttotal: 19m 29s\tremaining: 10m 52s\n",
      "321:\ttotal: 19m 32s\tremaining: 10m 48s\n",
      "322:\ttotal: 19m 36s\tremaining: 10m 44s\n",
      "323:\ttotal: 19m 40s\tremaining: 10m 41s\n",
      "324:\ttotal: 19m 44s\tremaining: 10m 37s\n",
      "325:\ttotal: 19m 47s\tremaining: 10m 33s\n",
      "326:\ttotal: 19m 51s\tremaining: 10m 30s\n",
      "327:\ttotal: 19m 54s\tremaining: 10m 26s\n",
      "328:\ttotal: 19m 58s\tremaining: 10m 22s\n",
      "329:\ttotal: 20m 1s\tremaining: 10m 18s\n",
      "330:\ttotal: 20m 4s\tremaining: 10m 15s\n",
      "331:\ttotal: 20m 7s\tremaining: 10m 11s\n",
      "332:\ttotal: 20m 11s\tremaining: 10m 7s\n",
      "333:\ttotal: 20m 15s\tremaining: 10m 4s\n",
      "334:\ttotal: 20m 19s\tremaining: 10m\n",
      "335:\ttotal: 20m 23s\tremaining: 9m 57s\n",
      "336:\ttotal: 20m 26s\tremaining: 9m 53s\n",
      "337:\ttotal: 20m 29s\tremaining: 9m 49s\n",
      "338:\ttotal: 20m 33s\tremaining: 9m 45s\n",
      "339:\ttotal: 20m 37s\tremaining: 9m 42s\n",
      "340:\ttotal: 20m 41s\tremaining: 9m 38s\n",
      "341:\ttotal: 20m 45s\tremaining: 9m 35s\n",
      "342:\ttotal: 20m 48s\tremaining: 9m 31s\n",
      "343:\ttotal: 20m 52s\tremaining: 9m 28s\n",
      "344:\ttotal: 20m 56s\tremaining: 9m 24s\n",
      "345:\ttotal: 21m\tremaining: 9m 20s\n",
      "346:\ttotal: 21m 3s\tremaining: 9m 17s\n",
      "347:\ttotal: 21m 7s\tremaining: 9m 13s\n",
      "348:\ttotal: 21m 11s\tremaining: 9m 10s\n",
      "349:\ttotal: 21m 15s\tremaining: 9m 6s\n",
      "350:\ttotal: 21m 19s\tremaining: 9m 2s\n",
      "351:\ttotal: 21m 22s\tremaining: 8m 59s\n",
      "352:\ttotal: 21m 26s\tremaining: 8m 55s\n",
      "353:\ttotal: 21m 29s\tremaining: 8m 51s\n",
      "354:\ttotal: 21m 32s\tremaining: 8m 48s\n",
      "355:\ttotal: 21m 36s\tremaining: 8m 44s\n",
      "356:\ttotal: 21m 39s\tremaining: 8m 40s\n",
      "357:\ttotal: 21m 42s\tremaining: 8m 36s\n",
      "358:\ttotal: 21m 47s\tremaining: 8m 33s\n",
      "359:\ttotal: 21m 50s\tremaining: 8m 29s\n",
      "360:\ttotal: 21m 53s\tremaining: 8m 25s\n",
      "361:\ttotal: 21m 56s\tremaining: 8m 22s\n",
      "362:\ttotal: 22m\tremaining: 8m 18s\n",
      "363:\ttotal: 22m 4s\tremaining: 8m 14s\n",
      "364:\ttotal: 22m 7s\tremaining: 8m 11s\n",
      "365:\ttotal: 22m 10s\tremaining: 8m 7s\n",
      "366:\ttotal: 22m 14s\tremaining: 8m 3s\n",
      "367:\ttotal: 22m 18s\tremaining: 7m 59s\n",
      "368:\ttotal: 22m 21s\tremaining: 7m 56s\n",
      "369:\ttotal: 22m 24s\tremaining: 7m 52s\n",
      "370:\ttotal: 22m 29s\tremaining: 7m 49s\n",
      "371:\ttotal: 22m 32s\tremaining: 7m 45s\n",
      "372:\ttotal: 22m 35s\tremaining: 7m 41s\n",
      "373:\ttotal: 22m 40s\tremaining: 7m 38s\n",
      "374:\ttotal: 22m 43s\tremaining: 7m 34s\n",
      "375:\ttotal: 22m 48s\tremaining: 7m 31s\n",
      "376:\ttotal: 22m 51s\tremaining: 7m 27s\n",
      "377:\ttotal: 22m 56s\tremaining: 7m 24s\n",
      "378:\ttotal: 22m 59s\tremaining: 7m 20s\n",
      "379:\ttotal: 23m 4s\tremaining: 7m 17s\n",
      "380:\ttotal: 23m 7s\tremaining: 7m 13s\n",
      "381:\ttotal: 23m 10s\tremaining: 7m 9s\n",
      "382:\ttotal: 23m 14s\tremaining: 7m 5s\n",
      "383:\ttotal: 23m 18s\tremaining: 7m 2s\n",
      "384:\ttotal: 23m 22s\tremaining: 6m 58s\n",
      "385:\ttotal: 23m 25s\tremaining: 6m 55s\n",
      "386:\ttotal: 23m 30s\tremaining: 6m 51s\n",
      "387:\ttotal: 23m 33s\tremaining: 6m 48s\n",
      "388:\ttotal: 23m 37s\tremaining: 6m 44s\n",
      "389:\ttotal: 23m 42s\tremaining: 6m 41s\n",
      "390:\ttotal: 23m 45s\tremaining: 6m 37s\n",
      "391:\ttotal: 23m 49s\tremaining: 6m 33s\n",
      "392:\ttotal: 23m 53s\tremaining: 6m 30s\n",
      "393:\ttotal: 23m 55s\tremaining: 6m 26s\n",
      "394:\ttotal: 24m\tremaining: 6m 22s\n",
      "395:\ttotal: 24m 3s\tremaining: 6m 19s\n",
      "396:\ttotal: 24m 7s\tremaining: 6m 15s\n",
      "397:\ttotal: 24m 12s\tremaining: 6m 12s\n",
      "398:\ttotal: 24m 15s\tremaining: 6m 8s\n",
      "399:\ttotal: 24m 19s\tremaining: 6m 4s\n",
      "400:\ttotal: 24m 23s\tremaining: 6m 1s\n",
      "401:\ttotal: 24m 26s\tremaining: 5m 57s\n",
      "402:\ttotal: 24m 30s\tremaining: 5m 53s\n",
      "403:\ttotal: 24m 33s\tremaining: 5m 50s\n",
      "404:\ttotal: 24m 37s\tremaining: 5m 46s\n",
      "405:\ttotal: 24m 41s\tremaining: 5m 42s\n",
      "406:\ttotal: 24m 45s\tremaining: 5m 39s\n",
      "407:\ttotal: 24m 49s\tremaining: 5m 35s\n",
      "408:\ttotal: 24m 54s\tremaining: 5m 32s\n",
      "409:\ttotal: 24m 58s\tremaining: 5m 29s\n",
      "410:\ttotal: 25m 3s\tremaining: 5m 25s\n",
      "411:\ttotal: 25m 6s\tremaining: 5m 21s\n",
      "412:\ttotal: 25m 10s\tremaining: 5m 18s\n",
      "413:\ttotal: 25m 14s\tremaining: 5m 14s\n",
      "414:\ttotal: 25m 18s\tremaining: 5m 10s\n",
      "415:\ttotal: 25m 21s\tremaining: 5m 7s\n",
      "416:\ttotal: 25m 25s\tremaining: 5m 3s\n",
      "417:\ttotal: 25m 29s\tremaining: 5m\n",
      "418:\ttotal: 25m 33s\tremaining: 4m 56s\n",
      "419:\ttotal: 25m 37s\tremaining: 4m 52s\n",
      "420:\ttotal: 25m 41s\tremaining: 4m 49s\n",
      "421:\ttotal: 25m 45s\tremaining: 4m 45s\n",
      "422:\ttotal: 25m 48s\tremaining: 4m 41s\n",
      "423:\ttotal: 25m 51s\tremaining: 4m 38s\n",
      "424:\ttotal: 25m 55s\tremaining: 4m 34s\n",
      "425:\ttotal: 25m 59s\tremaining: 4m 30s\n",
      "426:\ttotal: 26m 3s\tremaining: 4m 27s\n",
      "427:\ttotal: 26m 6s\tremaining: 4m 23s\n",
      "428:\ttotal: 26m 10s\tremaining: 4m 19s\n",
      "429:\ttotal: 26m 14s\tremaining: 4m 16s\n",
      "430:\ttotal: 26m 18s\tremaining: 4m 12s\n",
      "431:\ttotal: 26m 21s\tremaining: 4m 8s\n",
      "432:\ttotal: 26m 24s\tremaining: 4m 5s\n",
      "433:\ttotal: 26m 27s\tremaining: 4m 1s\n",
      "434:\ttotal: 26m 31s\tremaining: 3m 57s\n",
      "435:\ttotal: 26m 35s\tremaining: 3m 54s\n"
     ]
    },
    {
     "name": "stdout",
     "output_type": "stream",
     "text": [
      "436:\ttotal: 26m 38s\tremaining: 3m 50s\n",
      "437:\ttotal: 26m 42s\tremaining: 3m 46s\n",
      "438:\ttotal: 26m 45s\tremaining: 3m 43s\n",
      "439:\ttotal: 26m 48s\tremaining: 3m 39s\n",
      "440:\ttotal: 26m 52s\tremaining: 3m 35s\n",
      "441:\ttotal: 26m 56s\tremaining: 3m 32s\n",
      "442:\ttotal: 26m 59s\tremaining: 3m 28s\n",
      "443:\ttotal: 27m 3s\tremaining: 3m 24s\n",
      "444:\ttotal: 27m 7s\tremaining: 3m 21s\n",
      "445:\ttotal: 27m 10s\tremaining: 3m 17s\n",
      "446:\ttotal: 27m 13s\tremaining: 3m 13s\n",
      "447:\ttotal: 27m 16s\tremaining: 3m 9s\n",
      "448:\ttotal: 27m 20s\tremaining: 3m 6s\n",
      "449:\ttotal: 27m 24s\tremaining: 3m 2s\n",
      "450:\ttotal: 27m 28s\tremaining: 2m 59s\n",
      "451:\ttotal: 27m 32s\tremaining: 2m 55s\n",
      "452:\ttotal: 27m 36s\tremaining: 2m 51s\n",
      "453:\ttotal: 27m 41s\tremaining: 2m 48s\n",
      "454:\ttotal: 27m 45s\tremaining: 2m 44s\n",
      "455:\ttotal: 27m 48s\tremaining: 2m 41s\n",
      "456:\ttotal: 27m 52s\tremaining: 2m 37s\n",
      "457:\ttotal: 27m 56s\tremaining: 2m 33s\n",
      "458:\ttotal: 28m\tremaining: 2m 30s\n",
      "459:\ttotal: 28m 3s\tremaining: 2m 26s\n",
      "460:\ttotal: 28m 7s\tremaining: 2m 22s\n",
      "461:\ttotal: 28m 11s\tremaining: 2m 19s\n",
      "462:\ttotal: 28m 15s\tremaining: 2m 15s\n",
      "463:\ttotal: 28m 19s\tremaining: 2m 11s\n",
      "464:\ttotal: 28m 24s\tremaining: 2m 8s\n",
      "465:\ttotal: 28m 27s\tremaining: 2m 4s\n",
      "466:\ttotal: 28m 30s\tremaining: 2m\n",
      "467:\ttotal: 28m 34s\tremaining: 1m 57s\n",
      "468:\ttotal: 28m 38s\tremaining: 1m 53s\n",
      "469:\ttotal: 28m 41s\tremaining: 1m 49s\n",
      "470:\ttotal: 28m 45s\tremaining: 1m 46s\n",
      "471:\ttotal: 28m 49s\tremaining: 1m 42s\n",
      "472:\ttotal: 28m 51s\tremaining: 1m 38s\n",
      "473:\ttotal: 28m 54s\tremaining: 1m 35s\n",
      "474:\ttotal: 28m 57s\tremaining: 1m 31s\n",
      "475:\ttotal: 29m\tremaining: 1m 27s\n",
      "476:\ttotal: 29m 4s\tremaining: 1m 24s\n",
      "477:\ttotal: 29m 8s\tremaining: 1m 20s\n",
      "478:\ttotal: 29m 12s\tremaining: 1m 16s\n",
      "479:\ttotal: 29m 16s\tremaining: 1m 13s\n",
      "480:\ttotal: 29m 19s\tremaining: 1m 9s\n",
      "481:\ttotal: 29m 22s\tremaining: 1m 5s\n",
      "482:\ttotal: 29m 26s\tremaining: 1m 2s\n",
      "483:\ttotal: 29m 30s\tremaining: 58.5s\n",
      "484:\ttotal: 29m 33s\tremaining: 54.8s\n",
      "485:\ttotal: 29m 37s\tremaining: 51.2s\n",
      "486:\ttotal: 29m 41s\tremaining: 47.5s\n",
      "487:\ttotal: 29m 44s\tremaining: 43.9s\n",
      "488:\ttotal: 29m 47s\tremaining: 40.2s\n",
      "489:\ttotal: 29m 51s\tremaining: 36.6s\n",
      "490:\ttotal: 29m 55s\tremaining: 32.9s\n",
      "491:\ttotal: 29m 58s\tremaining: 29.2s\n",
      "492:\ttotal: 30m 1s\tremaining: 25.6s\n",
      "493:\ttotal: 30m 5s\tremaining: 21.9s\n",
      "494:\ttotal: 30m 7s\tremaining: 18.3s\n",
      "495:\ttotal: 30m 10s\tremaining: 14.6s\n",
      "496:\ttotal: 30m 14s\tremaining: 11s\n",
      "497:\ttotal: 30m 18s\tremaining: 7.3s\n",
      "498:\ttotal: 30m 21s\tremaining: 3.65s\n",
      "499:\ttotal: 30m 24s\tremaining: 0us\n"
     ]
    },
    {
     "data": {
      "text/plain": [
       "<catboost.core.CatBoostClassifier at 0x7fd5029787b8>"
      ]
     },
     "execution_count": 35,
     "metadata": {},
     "output_type": "execute_result"
    }
   ],
   "source": [
    "#now just to make the model to fit the data\n",
    "# model.fit(X_train, y_train, cat_features=cate_features_index, eval_set = (X_test, y_test))\n",
    "model.fit(X_train, y_train, cat_features=cate_features_index)"
   ]
  },
  {
   "cell_type": "code",
   "execution_count": 44,
   "metadata": {},
   "outputs": [
    {
     "data": {
      "text/plain": [
       "2"
      ]
     },
     "execution_count": 44,
     "metadata": {},
     "output_type": "execute_result"
    }
   ],
   "source": [
    "1 + 1"
   ]
  },
  {
   "cell_type": "code",
   "execution_count": 36,
   "metadata": {},
   "outputs": [
    {
     "data": {
      "text/plain": [
       "(3159526,)"
      ]
     },
     "execution_count": 36,
     "metadata": {},
     "output_type": "execute_result"
    }
   ],
   "source": [
    "y_pred = model.predict(X_test)\n",
    "y_pred.shape"
   ]
  },
  {
   "cell_type": "code",
   "execution_count": 37,
   "metadata": {},
   "outputs": [
    {
     "name": "stdout",
     "output_type": "stream",
     "text": [
      "정확도 (Accuracy): 0.762871 , 정밀도 (Precision): 0.000675 , 재현율 (Recall): 0.674667 , 특이도 (Specificity): 0.762892\n"
     ]
    }
   ],
   "source": [
    "# Confusion Matrix의 4가지 결과값 도출\n",
    "cm = confusion_matrix(y_test, y_pred)\n",
    "\n",
    "tn = cm[0,0]\n",
    "tp = cm[1,1]\n",
    "fp = cm[0,1]\n",
    "fn = cm[1,0]\n",
    "\n",
    "acc = (tp + tn) / (tp + tn + fp + fn)\n",
    "prec = tp / (tp+fp)\n",
    "sen = tp / (tp+fn)\n",
    "spec = tn / (fp + tn)\n",
    "\n",
    "print('정확도 (Accuracy): %f , 정밀도 (Precision): %f , 재현율 (Recall): %f , 특이도 (Specificity): %f' % (acc, prec, sen, spec))"
   ]
  },
  {
   "cell_type": "code",
   "execution_count": 46,
   "metadata": {},
   "outputs": [
    {
     "data": {
      "image/png": "[encoded data removed]",
      "text/plain": [
       "<Figure size 360x360 with 2 Axes>"
      ]
     },
     "metadata": {
      "needs_background": "light"
     },
     "output_type": "display_data"
    }
   ],
   "source": [
    "class_names = ['N', 'Y']\n",
    "fig, ax = plot_confusion_matrix(conf_mat = cm, show_absolute=True, show_normed=True, colorbar=True, class_names = class_names)\n",
    "\n",
    "plt.rcParams[\"figure.figsize\"] = (5, 5)\n",
    "plt.show()"
   ]
  },
  {
   "cell_type": "code",
   "execution_count": 39,
   "metadata": {},
   "outputs": [
    {
     "data": {
      "image/png": "[encoded data removed]",
      "text/plain": [
       "<Figure size 720x360 with 1 Axes>"
      ]
     },
     "metadata": {
      "needs_background": "light"
     },
     "output_type": "display_data"
    }
   ],
   "source": [
    "# ROC 커브 및 AUC 도출\n",
    "FPR, TPR, thresholds = roc_curve(y_test, y_pred)\n",
    "\n",
    "plt.figure(figsize=(10,5))  # figsize in inches\n",
    "plt.plot(FPR, TPR)\n",
    "plt.xlim([0.0, 1.0])\n",
    "plt.ylim([0.0, 1.0])\n",
    "plt.plot([0, 1], [0, 1], color='navy', lw=2, linestyle='--')  # 50%\n",
    "plt.plot(FPR, TPR, lw=2, label='CatBoost (AUC = %0.2f)' % auc(FPR, TPR))\n",
    "plt.title('ROC curve')\n",
    "plt.xlabel('1 - Specificity')\n",
    "plt.ylabel('Sensitivity')\n",
    "plt.grid(True)\n",
    "plt.legend(loc=\"lower right\")\n",
    "plt.show()"
   ]
  },
  {
   "cell_type": "code",
   "execution_count": 40,
   "metadata": {},
   "outputs": [],
   "source": [
    "feature_score = pd.DataFrame(list(zip(X.dtypes.index, model.get_feature_importance(Pool(X, label=y,\n",
    "                cat_features=cate_features_index)))),\n",
    "                columns=['Feature','Score'])"
   ]
  },
  {
   "cell_type": "code",
   "execution_count": 41,
   "metadata": {},
   "outputs": [],
   "source": [
    "feature_score = feature_score.sort_values(by='Score', ascending=True, inplace=False, kind='quicksort', na_position='last')"
   ]
  },
  {
   "cell_type": "code",
   "execution_count": 42,
   "metadata": {},
   "outputs": [
    {
     "data": {
      "text/html": [
       "<div>\n",
       "<style scoped>\n",
       "    .dataframe tbody tr th:only-of-type {\n",
       "        vertical-align: middle;\n",
       "    }\n",
       "\n",
       "    .dataframe tbody tr th {\n",
       "        vertical-align: top;\n",
       "    }\n",
       "\n",
       "    .dataframe thead th {\n",
       "        text-align: right;\n",
       "    }\n",
       "</style>\n",
       "<table border=\"1\" class=\"dataframe\">\n",
       "  <thead>\n",
       "    <tr style=\"text-align: right;\">\n",
       "      <th></th>\n",
       "      <th>Feature</th>\n",
       "      <th>Score</th>\n",
       "    </tr>\n",
       "  </thead>\n",
       "  <tbody>\n",
       "    <tr>\n",
       "      <th>20</th>\n",
       "      <td>BUS_CNT</td>\n",
       "      <td>0.034461</td>\n",
       "    </tr>\n",
       "    <tr>\n",
       "      <th>21</th>\n",
       "      <td>A3_ROADTYPE_3_CNT</td>\n",
       "      <td>0.059122</td>\n",
       "    </tr>\n",
       "    <tr>\n",
       "      <th>30</th>\n",
       "      <td>pop_22_07</td>\n",
       "      <td>0.304576</td>\n",
       "    </tr>\n",
       "    <tr>\n",
       "      <th>32</th>\n",
       "      <td>WD</td>\n",
       "      <td>0.371051</td>\n",
       "    </tr>\n",
       "    <tr>\n",
       "      <th>35</th>\n",
       "      <td>HM</td>\n",
       "      <td>1.144379</td>\n",
       "    </tr>\n",
       "    <tr>\n",
       "      <th>29</th>\n",
       "      <td>topis_22_07</td>\n",
       "      <td>3.719768</td>\n",
       "    </tr>\n",
       "    <tr>\n",
       "      <th>33</th>\n",
       "      <td>TEMP</td>\n",
       "      <td>4.800463</td>\n",
       "    </tr>\n",
       "    <tr>\n",
       "      <th>7</th>\n",
       "      <td>A3_ROADTYPE_1_YN</td>\n",
       "      <td>5.606432</td>\n",
       "    </tr>\n",
       "    <tr>\n",
       "      <th>4</th>\n",
       "      <td>LANES</td>\n",
       "      <td>5.657825</td>\n",
       "    </tr>\n",
       "    <tr>\n",
       "      <th>19</th>\n",
       "      <td>CW_CNT</td>\n",
       "      <td>6.880153</td>\n",
       "    </tr>\n",
       "    <tr>\n",
       "      <th>31</th>\n",
       "      <td>WS</td>\n",
       "      <td>9.390347</td>\n",
       "    </tr>\n",
       "    <tr>\n",
       "      <th>13</th>\n",
       "      <td>SF_P_ALL_CNT</td>\n",
       "      <td>9.811296</td>\n",
       "    </tr>\n",
       "    <tr>\n",
       "      <th>22</th>\n",
       "      <td>A3_ROADTYPE_1_CNT</td>\n",
       "      <td>15.975628</td>\n",
       "    </tr>\n",
       "    <tr>\n",
       "      <th>3</th>\n",
       "      <td>MAX_SPD</td>\n",
       "      <td>36.244499</td>\n",
       "    </tr>\n",
       "  </tbody>\n",
       "</table>\n",
       "</div>"
      ],
      "text/plain": [
       "              Feature      Score\n",
       "20            BUS_CNT   0.034461\n",
       "21  A3_ROADTYPE_3_CNT   0.059122\n",
       "30          pop_22_07   0.304576\n",
       "32                 WD   0.371051\n",
       "35                 HM   1.144379\n",
       "29        topis_22_07   3.719768\n",
       "33               TEMP   4.800463\n",
       "7    A3_ROADTYPE_1_YN   5.606432\n",
       "4               LANES   5.657825\n",
       "19             CW_CNT   6.880153\n",
       "31                 WS   9.390347\n",
       "13       SF_P_ALL_CNT   9.811296\n",
       "22  A3_ROADTYPE_1_CNT  15.975628\n",
       "3             MAX_SPD  36.244499"
      ]
     },
     "execution_count": 42,
     "metadata": {},
     "output_type": "execute_result"
    }
   ],
   "source": [
    "feature_score = feature_score[feature_score['Score'] != 0]\n",
    "feature_score"
   ]
  },
  {
   "cell_type": "code",
   "execution_count": null,
   "metadata": {},
   "outputs": [],
   "source": []
  },
  {
   "cell_type": "code",
   "execution_count": 43,
   "metadata": {},
   "outputs": [
    {
     "data": {
      "image/png": "[encoded data removed]",
      "text/plain": [
       "<Figure size 864x864 with 1 Axes>"
      ]
     },
     "metadata": {
      "needs_background": "light"
     },
     "output_type": "display_data"
    }
   ],
   "source": [
    "plt.rcParams['figure.figsize'] = (12, 12)\n",
    "plt.rcParams['font.family'] = 'AppleGothic'\n",
    "plt.rcParams['font.size'] = 10\n",
    "ax = feature_score.plot('Feature', 'Score', kind='barh')\n",
    "plt.title('피처 엔지니어링 후 catboost 변수 중요도')\n",
    "plt.grid()\n",
    "plt.show()"
   ]
  },
  {
   "cell_type": "code",
   "execution_count": null,
   "metadata": {},
   "outputs": [],
   "source": []
  },
  {
   "cell_type": "code",
   "execution_count": null,
   "metadata": {},
   "outputs": [],
   "source": []
  },
  {
   "cell_type": "code",
   "execution_count": null,
   "metadata": {},
   "outputs": [],
   "source": []
  }
 ],
 "metadata": {
  "kernelspec": {
   "display_name": "Python 3",
   "language": "python",
   "name": "python3"
  },
  "language_info": {
   "codemirror_mode": {
    "name": "ipython",
    "version": 3
   },
   "file_extension": ".py",
   "mimetype": "text/x-python",
   "name": "python",
   "nbconvert_exporter": "python",
   "pygments_lexer": "ipython3",
   "version": "3.7.3"
  }
 },
 "nbformat": 4,
 "nbformat_minor": 2
}
