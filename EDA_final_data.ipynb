{
 "cells": [
  {
   "cell_type": "code",
   "execution_count": 62,
   "metadata": {},
   "outputs": [],
   "source": [
    "import pandas as pd\n",
    "import numpy as np\n",
    "import matplotlib.pyplot as plt\n",
    "import seaborn as sns\n",
    "\n",
    "import researchpy as rp\n",
    "import scipy.stats as stats\n",
    "\n",
    "from sklearn.feature_selection import chi2, mutual_info_classif, SelectKBest, f_classif, RFE, SelectFromModel\n",
    "from sklearn.model_selection import train_test_split\n",
    "\n",
    "from numpy import mean\n",
    "from sklearn.datasets import make_classification\n",
    "from sklearn.model_selection import RepeatedStratifiedKFold, GridSearchCV\n",
    "from sklearn.preprocessing import MinMaxScaler, normalize, StandardScaler\n",
    "from sklearn.linear_model import LogisticRegression\n",
    "from sklearn.metrics import confusion_matrix, roc_curve, auc, roc_auc_score\n",
    "from sklearn.utils import class_weight\n",
    "from sklearn.ensemble import RandomForestClassifier\n",
    "\n",
    "from mlxtend.plotting import plot_confusion_matrix\n",
    "\n",
    "from imblearn.over_sampling import SMOTE\n",
    "from lightgbm import LGBMClassifier, plot_importance"
   ]
  },
  {
   "cell_type": "code",
   "execution_count": 63,
   "metadata": {},
   "outputs": [],
   "source": [
    "pd.set_option('display.float_format', '{:.5f}'.format) "
   ]
  },
  {
   "cell_type": "code",
   "execution_count": 64,
   "metadata": {},
   "outputs": [
    {
     "name": "stderr",
     "output_type": "stream",
     "text": [
      "/Users/wbchoi/anaconda3/lib/python3.7/site-packages/IPython/core/interactiveshell.py:3049: DtypeWarning: Columns (12) have mixed types.Specify dtype option on import or set low_memory=False.\n",
      "  interactivity=interactivity, compiler=compiler, result=result)\n"
     ]
    },
    {
     "data": {
      "text/html": [
       "<div>\n",
       "<style scoped>\n",
       "    .dataframe tbody tr th:only-of-type {\n",
       "        vertical-align: middle;\n",
       "    }\n",
       "\n",
       "    .dataframe tbody tr th {\n",
       "        vertical-align: top;\n",
       "    }\n",
       "\n",
       "    .dataframe thead th {\n",
       "        text-align: right;\n",
       "    }\n",
       "</style>\n",
       "<table border=\"1\" class=\"dataframe\">\n",
       "  <thead>\n",
       "    <tr style=\"text-align: right;\">\n",
       "      <th></th>\n",
       "      <th>LINK_ID</th>\n",
       "      <th>ROAD_USE</th>\n",
       "      <th>LANES</th>\n",
       "      <th>ROAD_RANK</th>\n",
       "      <th>ROAD_NAME</th>\n",
       "      <th>MULTI_LINK</th>\n",
       "      <th>CONNECT</th>\n",
       "      <th>MAX_SPD</th>\n",
       "      <th>REST_VEH</th>\n",
       "      <th>REST_W</th>\n",
       "      <th>...</th>\n",
       "      <th>STNM</th>\n",
       "      <th>TEMP</th>\n",
       "      <th>WD</th>\n",
       "      <th>WS</th>\n",
       "      <th>RF</th>\n",
       "      <th>AP</th>\n",
       "      <th>VP</th>\n",
       "      <th>HM</th>\n",
       "      <th>GONGSA_YN</th>\n",
       "      <th>SAGO_YN</th>\n",
       "    </tr>\n",
       "  </thead>\n",
       "  <tbody>\n",
       "    <tr>\n",
       "      <th>0</th>\n",
       "      <td>1180001900</td>\n",
       "      <td>0</td>\n",
       "      <td>5.00000</td>\n",
       "      <td>103</td>\n",
       "      <td>여의대로</td>\n",
       "      <td>1</td>\n",
       "      <td>0</td>\n",
       "      <td>60.00000</td>\n",
       "      <td>0</td>\n",
       "      <td>0.00000</td>\n",
       "      <td>...</td>\n",
       "      <td>한강</td>\n",
       "      <td>0.05217</td>\n",
       "      <td>238.74783</td>\n",
       "      <td>1.39565</td>\n",
       "      <td>0.00000</td>\n",
       "      <td>nan</td>\n",
       "      <td>nan</td>\n",
       "      <td>43.57391</td>\n",
       "      <td>N</td>\n",
       "      <td>N</td>\n",
       "    </tr>\n",
       "    <tr>\n",
       "      <th>1</th>\n",
       "      <td>1180001900</td>\n",
       "      <td>0</td>\n",
       "      <td>5.00000</td>\n",
       "      <td>103</td>\n",
       "      <td>여의대로</td>\n",
       "      <td>1</td>\n",
       "      <td>0</td>\n",
       "      <td>60.00000</td>\n",
       "      <td>0</td>\n",
       "      <td>0.00000</td>\n",
       "      <td>...</td>\n",
       "      <td>한강</td>\n",
       "      <td>-0.62083</td>\n",
       "      <td>275.63750</td>\n",
       "      <td>2.27083</td>\n",
       "      <td>0.00000</td>\n",
       "      <td>nan</td>\n",
       "      <td>nan</td>\n",
       "      <td>50.27500</td>\n",
       "      <td>N</td>\n",
       "      <td>N</td>\n",
       "    </tr>\n",
       "    <tr>\n",
       "      <th>2</th>\n",
       "      <td>1180001900</td>\n",
       "      <td>0</td>\n",
       "      <td>5.00000</td>\n",
       "      <td>103</td>\n",
       "      <td>여의대로</td>\n",
       "      <td>1</td>\n",
       "      <td>0</td>\n",
       "      <td>60.00000</td>\n",
       "      <td>0</td>\n",
       "      <td>0.00000</td>\n",
       "      <td>...</td>\n",
       "      <td>한강</td>\n",
       "      <td>-3.84167</td>\n",
       "      <td>301.15833</td>\n",
       "      <td>3.12083</td>\n",
       "      <td>0.00000</td>\n",
       "      <td>nan</td>\n",
       "      <td>nan</td>\n",
       "      <td>46.32500</td>\n",
       "      <td>N</td>\n",
       "      <td>N</td>\n",
       "    </tr>\n",
       "    <tr>\n",
       "      <th>3</th>\n",
       "      <td>1180001900</td>\n",
       "      <td>0</td>\n",
       "      <td>5.00000</td>\n",
       "      <td>103</td>\n",
       "      <td>여의대로</td>\n",
       "      <td>1</td>\n",
       "      <td>0</td>\n",
       "      <td>60.00000</td>\n",
       "      <td>0</td>\n",
       "      <td>0.00000</td>\n",
       "      <td>...</td>\n",
       "      <td>한강</td>\n",
       "      <td>-4.26667</td>\n",
       "      <td>260.13750</td>\n",
       "      <td>2.02500</td>\n",
       "      <td>0.00000</td>\n",
       "      <td>nan</td>\n",
       "      <td>nan</td>\n",
       "      <td>48.38333</td>\n",
       "      <td>N</td>\n",
       "      <td>N</td>\n",
       "    </tr>\n",
       "    <tr>\n",
       "      <th>4</th>\n",
       "      <td>1180001900</td>\n",
       "      <td>0</td>\n",
       "      <td>5.00000</td>\n",
       "      <td>103</td>\n",
       "      <td>여의대로</td>\n",
       "      <td>1</td>\n",
       "      <td>0</td>\n",
       "      <td>60.00000</td>\n",
       "      <td>0</td>\n",
       "      <td>0.00000</td>\n",
       "      <td>...</td>\n",
       "      <td>한강</td>\n",
       "      <td>-2.05000</td>\n",
       "      <td>319.78750</td>\n",
       "      <td>1.87917</td>\n",
       "      <td>0.00000</td>\n",
       "      <td>nan</td>\n",
       "      <td>nan</td>\n",
       "      <td>52.32083</td>\n",
       "      <td>N</td>\n",
       "      <td>N</td>\n",
       "    </tr>\n",
       "  </tbody>\n",
       "</table>\n",
       "<p>5 rows × 152 columns</p>\n",
       "</div>"
      ],
      "text/plain": [
       "      LINK_ID  ROAD_USE   LANES  ROAD_RANK ROAD_NAME  MULTI_LINK  CONNECT  \\\n",
       "0  1180001900         0 5.00000        103      여의대로           1        0   \n",
       "1  1180001900         0 5.00000        103      여의대로           1        0   \n",
       "2  1180001900         0 5.00000        103      여의대로           1        0   \n",
       "3  1180001900         0 5.00000        103      여의대로           1        0   \n",
       "4  1180001900         0 5.00000        103      여의대로           1        0   \n",
       "\n",
       "   MAX_SPD  REST_VEH  REST_W  ...  STNM     TEMP        WD      WS      RF  \\\n",
       "0 60.00000         0 0.00000  ...    한강  0.05217 238.74783 1.39565 0.00000   \n",
       "1 60.00000         0 0.00000  ...    한강 -0.62083 275.63750 2.27083 0.00000   \n",
       "2 60.00000         0 0.00000  ...    한강 -3.84167 301.15833 3.12083 0.00000   \n",
       "3 60.00000         0 0.00000  ...    한강 -4.26667 260.13750 2.02500 0.00000   \n",
       "4 60.00000         0 0.00000  ...    한강 -2.05000 319.78750 1.87917 0.00000   \n",
       "\n",
       "   AP  VP       HM GONGSA_YN  SAGO_YN  \n",
       "0 nan nan 43.57391         N        N  \n",
       "1 nan nan 50.27500         N        N  \n",
       "2 nan nan 46.32500         N        N  \n",
       "3 nan nan 48.38333         N        N  \n",
       "4 nan nan 52.32083         N        N  \n",
       "\n",
       "[5 rows x 152 columns]"
      ]
     },
     "execution_count": 64,
     "metadata": {},
     "output_type": "execute_result"
    }
   ],
   "source": [
    "final_data = pd.read_csv('full_data_kma_day.csv')\n",
    "final_data.head()"
   ]
  },
  {
   "cell_type": "code",
   "execution_count": null,
   "metadata": {},
   "outputs": [],
   "source": []
  },
  {
   "cell_type": "code",
   "execution_count": 65,
   "metadata": {},
   "outputs": [],
   "source": [
    "final_data = final_data.drop(['day', 'ROAD_NAME',  'day_category', 'REST_W', 'REST_H',\n",
    "                             'date',  'F_NODE', 'T_NODE', 'STNM'], axis = 1)"
   ]
  },
  {
   "cell_type": "code",
   "execution_count": 66,
   "metadata": {},
   "outputs": [],
   "source": [
    "final_data = final_data.fillna(final_data.median())"
   ]
  },
  {
   "cell_type": "markdown",
   "metadata": {},
   "source": [
    "# 도로긍급별 변수 추가 (도로등급, 고속도로 유/무, 연결로 고속도로 유/무)"
   ]
  },
  {
   "cell_type": "code",
   "execution_count": 67,
   "metadata": {},
   "outputs": [],
   "source": [
    "final_data['ROAD_RANK_101_YN'] = final_data.apply(lambda x: 'Y' if (x['ROAD_RANK'] == 101) else 'N', axis = 1)"
   ]
  },
  {
   "cell_type": "code",
   "execution_count": 202,
   "metadata": {},
   "outputs": [],
   "source": [
    "'''final_data['ROAD_RANK_101_GONGSA_YN'] = final_data.apply(lambda x: 'YY' if x['ROAD_RANK_101_YN'] == 'Y' and x['GONGSA_YN'] == 'Y'\n",
    "                                                        else ('YN' if x['ROAD_RANK_101_YN'] == 'Y' and x['GONGSA_YN'] == 'N'\n",
    "                                                        else ('NY' if x['ROAD_RANK_101_YN'] == 'N' and x['GONGSA_YN'] == 'Y'\n",
    "                                                        else 'NN')), axis = 1)'''"
   ]
  },
  {
   "cell_type": "code",
   "execution_count": 203,
   "metadata": {},
   "outputs": [
    {
     "data": {
      "text/plain": [
       "NN    648691\n",
       "YN     13628\n",
       "NY      1837\n",
       "YY        22\n",
       "Name: ROAD_RANK_101_GONGSA_YN, dtype: int64"
      ]
     },
     "execution_count": 203,
     "metadata": {},
     "output_type": "execute_result"
    }
   ],
   "source": [
    "# final_data['ROAD_RANK_101_GONGSA_YN'].value_counts()"
   ]
  },
  {
   "cell_type": "code",
   "execution_count": 68,
   "metadata": {},
   "outputs": [],
   "source": [
    "final_data['CONNECT_101_YN'] = final_data.apply(lambda x: 'Y' if (x['CONNECT'] == 101) else 'N', axis = 1)"
   ]
  },
  {
   "cell_type": "code",
   "execution_count": 69,
   "metadata": {},
   "outputs": [
    {
     "data": {
      "text/plain": [
       "N    663086\n",
       "Y      1092\n",
       "Name: CONNECT_101_YN, dtype: int64"
      ]
     },
     "execution_count": 69,
     "metadata": {},
     "output_type": "execute_result"
    }
   ],
   "source": [
    "final_data['CONNECT_101_YN'].value_counts()"
   ]
  },
  {
   "cell_type": "code",
   "execution_count": null,
   "metadata": {},
   "outputs": [],
   "source": []
  },
  {
   "cell_type": "code",
   "execution_count": null,
   "metadata": {},
   "outputs": [],
   "source": []
  },
  {
   "cell_type": "code",
   "execution_count": null,
   "metadata": {},
   "outputs": [],
   "source": []
  },
  {
   "cell_type": "code",
   "execution_count": 70,
   "metadata": {},
   "outputs": [],
   "source": [
    "'''AP (현지기압), VP (해면기압) 결측치 99% 이상'''\n",
    "final_data = final_data.drop(['AP', 'VP'], axis = 1)"
   ]
  },
  {
   "cell_type": "code",
   "execution_count": 71,
   "metadata": {},
   "outputs": [],
   "source": [
    "final_data.rename(columns = {'1시_x': 'pop_0시',\n",
    "                                             '2시_x': 'pop_1시',\n",
    "                                             '3시_x': 'pop_2시',\n",
    "                                             '4시_x': 'pop_3시',\n",
    "                                             '5시_x': 'pop_4시',\n",
    "                                             '6시_x': 'pop_5시',\n",
    "                                             '7시_x': 'pop_6시',\n",
    "                                             '8시_x': 'pop_7시',\n",
    "                                             '9시_x': 'pop_8시',\n",
    "                                             '10시_x': 'pop_9시',\n",
    "                                             '11시_x': 'pop_10시',\n",
    "                                             '12시_x': 'pop_11시',\n",
    "                                             '13시_x': 'pop_12시',\n",
    "                                             '14시_x': 'pop_13시',\n",
    "                                             '15시_x': 'pop_14시',\n",
    "                                             '16시_x': 'pop_15시',\n",
    "                                             '17시_x': 'pop_16시',\n",
    "                                             '18시_x': 'pop_17시',\n",
    "                                             '19시_x': 'pop_18시',\n",
    "                                             '20시_x': 'pop_19시',\n",
    "                                             '21시_x': 'pop_20시',\n",
    "                                             '22시_x': 'pop_21시',\n",
    "                                             '23시_x': 'pop_22시',\n",
    "                                             '24시_x': 'pop_23시'\n",
    "                                            }, inplace = True)"
   ]
  },
  {
   "cell_type": "code",
   "execution_count": 72,
   "metadata": {},
   "outputs": [],
   "source": [
    "final_data.rename(columns = {'1시_y': 'topis_0시',\n",
    "                                             '2시_y': 'topis_1시',\n",
    "                                             '3시_y': 'topis_2시',\n",
    "                                             '4시_y': 'topis_3시',\n",
    "                                             '5시_y': 'topis_4시',\n",
    "                                             '6시_y': 'topis_5시',\n",
    "                                             '7시_y': 'topis_6시',\n",
    "                                             '8시_y': 'topis_7시',\n",
    "                                             '9시_y': 'topis_8시',\n",
    "                                             '10시_y': 'topis_9시',\n",
    "                                             '11시_y': 'topis_10시',\n",
    "                                             '12시_y': 'topis_11시',\n",
    "                                             '13시_y': 'topis_12시',\n",
    "                                             '14시_y': 'topis_13시',\n",
    "                                             '15시_y': 'topis_14시',\n",
    "                                             '16시_y': 'topis_15시',\n",
    "                                             '17시_y': 'topis_16시',\n",
    "                                             '18시_y': 'topis_17시',\n",
    "                                             '19시_y': 'topis_18시',\n",
    "                                             '20시_y': 'topis_19시',\n",
    "                                             '21시_y': 'topis_20시',\n",
    "                                             '22시_y': 'topis_21시',\n",
    "                                             '23시_y': 'topis_22시',\n",
    "                                             '24시_y': 'topis_23시'\n",
    "                                            }, inplace = True)"
   ]
  },
  {
   "cell_type": "code",
   "execution_count": 428,
   "metadata": {},
   "outputs": [],
   "source": [
    "sago_y = final_data[final_data['SAGO_YN'] == 'Y']"
   ]
  },
  {
   "cell_type": "code",
   "execution_count": 102,
   "metadata": {},
   "outputs": [
    {
     "data": {
      "text/html": [
       "<div>\n",
       "<style scoped>\n",
       "    .dataframe tbody tr th:only-of-type {\n",
       "        vertical-align: middle;\n",
       "    }\n",
       "\n",
       "    .dataframe tbody tr th {\n",
       "        vertical-align: top;\n",
       "    }\n",
       "\n",
       "    .dataframe thead th {\n",
       "        text-align: right;\n",
       "    }\n",
       "</style>\n",
       "<table border=\"1\" class=\"dataframe\">\n",
       "  <thead>\n",
       "    <tr style=\"text-align: right;\">\n",
       "      <th></th>\n",
       "      <th>도로 등급</th>\n",
       "      <th>교통사고 건수</th>\n",
       "    </tr>\n",
       "  </thead>\n",
       "  <tbody>\n",
       "    <tr>\n",
       "      <th>0</th>\n",
       "      <td>104</td>\n",
       "      <td>1246</td>\n",
       "    </tr>\n",
       "    <tr>\n",
       "      <th>1</th>\n",
       "      <td>103</td>\n",
       "      <td>1118</td>\n",
       "    </tr>\n",
       "    <tr>\n",
       "      <th>2</th>\n",
       "      <td>101</td>\n",
       "      <td>851</td>\n",
       "    </tr>\n",
       "    <tr>\n",
       "      <th>3</th>\n",
       "      <td>107</td>\n",
       "      <td>390</td>\n",
       "    </tr>\n",
       "  </tbody>\n",
       "</table>\n",
       "</div>"
      ],
      "text/plain": [
       "   도로 등급  교통사고 건수\n",
       "0    104     1246\n",
       "1    103     1118\n",
       "2    101      851\n",
       "3    107      390"
      ]
     },
     "execution_count": 102,
     "metadata": {},
     "output_type": "execute_result"
    }
   ],
   "source": [
    "road_sago_cnt = pd.DataFrame(sago_y['ROAD_RANK'].value_counts().reset_index())\n",
    "road_sago_cnt.columns = ['도로 등급', '교통사고 건수']\n",
    "road_sago_cnt.head()"
   ]
  },
  {
   "cell_type": "code",
   "execution_count": 103,
   "metadata": {},
   "outputs": [],
   "source": [
    "# road_sago_cnt.to_excel('/Users/wbchoi/Downloads/road_sago_cnt.xlsx', index = False)"
   ]
  },
  {
   "cell_type": "code",
   "execution_count": 105,
   "metadata": {},
   "outputs": [
    {
     "data": {
      "image/png": "[encoded data removed]",
      "text/plain": [
       "<Figure size 360x360 with 1 Axes>"
      ]
     },
     "metadata": {
      "needs_background": "light"
     },
     "output_type": "display_data"
    }
   ],
   "source": [
    "road_sago_cnt.plot(x = '도로 등급', y = '교통사고 건수', kind='bar', legend = True)\n",
    "\n",
    "plt.rcParams['figure.figsize'] = (5, 5)\n",
    "plt.rcParams['font.family'] = 'AppleGothic'\n",
    "plt.rcParams['font.size'] = 12\n",
    "plt.grid()\n",
    "plt.title('도로등급별 교통사고 건수 현황')\n",
    "plt.show()"
   ]
  },
  {
   "cell_type": "code",
   "execution_count": null,
   "metadata": {},
   "outputs": [],
   "source": []
  },
  {
   "cell_type": "code",
   "execution_count": 52,
   "metadata": {},
   "outputs": [],
   "source": [
    "pop_topis = final_data.iloc[:, np.r_[80:104, 104:128, -1]]"
   ]
  },
  {
   "cell_type": "code",
   "execution_count": 53,
   "metadata": {},
   "outputs": [
    {
     "data": {
      "text/plain": [
       "(664178, 49)"
      ]
     },
     "execution_count": 53,
     "metadata": {},
     "output_type": "execute_result"
    }
   ],
   "source": [
    "pop_topis.shape"
   ]
  },
  {
   "cell_type": "code",
   "execution_count": 54,
   "metadata": {},
   "outputs": [
    {
     "data": {
      "text/html": [
       "<div>\n",
       "<style scoped>\n",
       "    .dataframe tbody tr th:only-of-type {\n",
       "        vertical-align: middle;\n",
       "    }\n",
       "\n",
       "    .dataframe tbody tr th {\n",
       "        vertical-align: top;\n",
       "    }\n",
       "\n",
       "    .dataframe thead th {\n",
       "        text-align: right;\n",
       "    }\n",
       "</style>\n",
       "<table border=\"1\" class=\"dataframe\">\n",
       "  <thead>\n",
       "    <tr style=\"text-align: right;\">\n",
       "      <th></th>\n",
       "      <th>유동인구 시간대</th>\n",
       "      <th>유동인구 중앙값</th>\n",
       "    </tr>\n",
       "  </thead>\n",
       "  <tbody>\n",
       "    <tr>\n",
       "      <th>0</th>\n",
       "      <td>pop_0시</td>\n",
       "      <td>74.16000</td>\n",
       "    </tr>\n",
       "    <tr>\n",
       "      <th>1</th>\n",
       "      <td>pop_1시</td>\n",
       "      <td>70.01837</td>\n",
       "    </tr>\n",
       "    <tr>\n",
       "      <th>2</th>\n",
       "      <td>pop_2시</td>\n",
       "      <td>68.40775</td>\n",
       "    </tr>\n",
       "    <tr>\n",
       "      <th>3</th>\n",
       "      <td>pop_3시</td>\n",
       "      <td>67.50461</td>\n",
       "    </tr>\n",
       "    <tr>\n",
       "      <th>4</th>\n",
       "      <td>pop_4시</td>\n",
       "      <td>68.03000</td>\n",
       "    </tr>\n",
       "  </tbody>\n",
       "</table>\n",
       "</div>"
      ],
      "text/plain": [
       "  유동인구 시간대  유동인구 중앙값\n",
       "0   pop_0시  74.16000\n",
       "1   pop_1시  70.01837\n",
       "2   pop_2시  68.40775\n",
       "3   pop_3시  67.50461\n",
       "4   pop_4시  68.03000"
      ]
     },
     "execution_count": 54,
     "metadata": {},
     "output_type": "execute_result"
    }
   ],
   "source": [
    "pop = final_data.iloc[:, 80:104]\n",
    "pop_median = pd.DataFrame(pop.median().reset_index())\n",
    "pop_median.columns = ['유동인구 시간대', '유동인구 중앙값']\n",
    "pop_median.head()"
   ]
  },
  {
   "cell_type": "code",
   "execution_count": 55,
   "metadata": {},
   "outputs": [
    {
     "data": {
      "text/html": [
       "<div>\n",
       "<style scoped>\n",
       "    .dataframe tbody tr th:only-of-type {\n",
       "        vertical-align: middle;\n",
       "    }\n",
       "\n",
       "    .dataframe tbody tr th {\n",
       "        vertical-align: top;\n",
       "    }\n",
       "\n",
       "    .dataframe thead th {\n",
       "        text-align: right;\n",
       "    }\n",
       "</style>\n",
       "<table border=\"1\" class=\"dataframe\">\n",
       "  <thead>\n",
       "    <tr style=\"text-align: right;\">\n",
       "      <th></th>\n",
       "      <th>구간별 속도 시간대</th>\n",
       "      <th>구간별 속도 중앙값</th>\n",
       "    </tr>\n",
       "  </thead>\n",
       "  <tbody>\n",
       "    <tr>\n",
       "      <th>0</th>\n",
       "      <td>topis_0시</td>\n",
       "      <td>28.84000</td>\n",
       "    </tr>\n",
       "    <tr>\n",
       "      <th>1</th>\n",
       "      <td>topis_1시</td>\n",
       "      <td>30.18000</td>\n",
       "    </tr>\n",
       "    <tr>\n",
       "      <th>2</th>\n",
       "      <td>topis_2시</td>\n",
       "      <td>31.32000</td>\n",
       "    </tr>\n",
       "    <tr>\n",
       "      <th>3</th>\n",
       "      <td>topis_3시</td>\n",
       "      <td>32.28000</td>\n",
       "    </tr>\n",
       "    <tr>\n",
       "      <th>4</th>\n",
       "      <td>topis_4시</td>\n",
       "      <td>32.57000</td>\n",
       "    </tr>\n",
       "  </tbody>\n",
       "</table>\n",
       "</div>"
      ],
      "text/plain": [
       "  구간별 속도 시간대  구간별 속도 중앙값\n",
       "0   topis_0시    28.84000\n",
       "1   topis_1시    30.18000\n",
       "2   topis_2시    31.32000\n",
       "3   topis_3시    32.28000\n",
       "4   topis_4시    32.57000"
      ]
     },
     "execution_count": 55,
     "metadata": {},
     "output_type": "execute_result"
    }
   ],
   "source": [
    "topis = final_data.iloc[:, 104:128]\n",
    "topis_median = pd.DataFrame(topis.median().reset_index())\n",
    "topis_median.columns = ['구간별 속도 시간대', '구간별 속도 중앙값']\n",
    "topis_median.head()"
   ]
  },
  {
   "cell_type": "code",
   "execution_count": 56,
   "metadata": {},
   "outputs": [
    {
     "data": {
      "text/html": [
       "<div>\n",
       "<style scoped>\n",
       "    .dataframe tbody tr th:only-of-type {\n",
       "        vertical-align: middle;\n",
       "    }\n",
       "\n",
       "    .dataframe tbody tr th {\n",
       "        vertical-align: top;\n",
       "    }\n",
       "\n",
       "    .dataframe thead th {\n",
       "        text-align: right;\n",
       "    }\n",
       "</style>\n",
       "<table border=\"1\" class=\"dataframe\">\n",
       "  <thead>\n",
       "    <tr style=\"text-align: right;\">\n",
       "      <th></th>\n",
       "      <th>유동인구 시간대</th>\n",
       "      <th>유동인구 중앙값</th>\n",
       "      <th>구간별 속도 시간대</th>\n",
       "      <th>구간별 속도 중앙값</th>\n",
       "    </tr>\n",
       "  </thead>\n",
       "  <tbody>\n",
       "    <tr>\n",
       "      <th>0</th>\n",
       "      <td>pop_0시</td>\n",
       "      <td>74.16000</td>\n",
       "      <td>topis_0시</td>\n",
       "      <td>28.84000</td>\n",
       "    </tr>\n",
       "    <tr>\n",
       "      <th>1</th>\n",
       "      <td>pop_1시</td>\n",
       "      <td>70.01837</td>\n",
       "      <td>topis_1시</td>\n",
       "      <td>30.18000</td>\n",
       "    </tr>\n",
       "    <tr>\n",
       "      <th>2</th>\n",
       "      <td>pop_2시</td>\n",
       "      <td>68.40775</td>\n",
       "      <td>topis_2시</td>\n",
       "      <td>31.32000</td>\n",
       "    </tr>\n",
       "    <tr>\n",
       "      <th>3</th>\n",
       "      <td>pop_3시</td>\n",
       "      <td>67.50461</td>\n",
       "      <td>topis_3시</td>\n",
       "      <td>32.28000</td>\n",
       "    </tr>\n",
       "    <tr>\n",
       "      <th>4</th>\n",
       "      <td>pop_4시</td>\n",
       "      <td>68.03000</td>\n",
       "      <td>topis_4시</td>\n",
       "      <td>32.57000</td>\n",
       "    </tr>\n",
       "  </tbody>\n",
       "</table>\n",
       "</div>"
      ],
      "text/plain": [
       "  유동인구 시간대  유동인구 중앙값 구간별 속도 시간대  구간별 속도 중앙값\n",
       "0   pop_0시  74.16000   topis_0시    28.84000\n",
       "1   pop_1시  70.01837   topis_1시    30.18000\n",
       "2   pop_2시  68.40775   topis_2시    31.32000\n",
       "3   pop_3시  67.50461   topis_3시    32.28000\n",
       "4   pop_4시  68.03000   topis_4시    32.57000"
      ]
     },
     "execution_count": 56,
     "metadata": {},
     "output_type": "execute_result"
    }
   ],
   "source": [
    "pop_topis_median = pd.concat([pop_median, topis_median], axis = 1)\n",
    "pop_topis_median.head()"
   ]
  },
  {
   "cell_type": "code",
   "execution_count": 57,
   "metadata": {},
   "outputs": [],
   "source": [
    "pop_topis_median = pop_topis_median.drop(['유동인구 시간대', '구간별 속도 시간대'], axis = 1)"
   ]
  },
  {
   "cell_type": "code",
   "execution_count": 58,
   "metadata": {},
   "outputs": [
    {
     "data": {
      "text/html": [
       "<div>\n",
       "<style scoped>\n",
       "    .dataframe tbody tr th:only-of-type {\n",
       "        vertical-align: middle;\n",
       "    }\n",
       "\n",
       "    .dataframe tbody tr th {\n",
       "        vertical-align: top;\n",
       "    }\n",
       "\n",
       "    .dataframe thead th {\n",
       "        text-align: right;\n",
       "    }\n",
       "</style>\n",
       "<table border=\"1\" class=\"dataframe\">\n",
       "  <thead>\n",
       "    <tr style=\"text-align: right;\">\n",
       "      <th></th>\n",
       "      <th>유동인구 중앙값</th>\n",
       "      <th>구간별 속도 중앙값</th>\n",
       "    </tr>\n",
       "  </thead>\n",
       "  <tbody>\n",
       "    <tr>\n",
       "      <th>0</th>\n",
       "      <td>74.16000</td>\n",
       "      <td>28.84000</td>\n",
       "    </tr>\n",
       "    <tr>\n",
       "      <th>1</th>\n",
       "      <td>70.01837</td>\n",
       "      <td>30.18000</td>\n",
       "    </tr>\n",
       "    <tr>\n",
       "      <th>2</th>\n",
       "      <td>68.40775</td>\n",
       "      <td>31.32000</td>\n",
       "    </tr>\n",
       "    <tr>\n",
       "      <th>3</th>\n",
       "      <td>67.50461</td>\n",
       "      <td>32.28000</td>\n",
       "    </tr>\n",
       "    <tr>\n",
       "      <th>4</th>\n",
       "      <td>68.03000</td>\n",
       "      <td>32.57000</td>\n",
       "    </tr>\n",
       "  </tbody>\n",
       "</table>\n",
       "</div>"
      ],
      "text/plain": [
       "   유동인구 중앙값  구간별 속도 중앙값\n",
       "0  74.16000    28.84000\n",
       "1  70.01837    30.18000\n",
       "2  68.40775    31.32000\n",
       "3  67.50461    32.28000\n",
       "4  68.03000    32.57000"
      ]
     },
     "execution_count": 58,
     "metadata": {},
     "output_type": "execute_result"
    }
   ],
   "source": [
    "pop_topis_median.head()"
   ]
  },
  {
   "cell_type": "code",
   "execution_count": 59,
   "metadata": {},
   "outputs": [
    {
     "data": {
      "text/plain": [
       "Text(0.5, 1.0, '시간대별 유동인구 및 구간별 속도 중앙값 현황')"
      ]
     },
     "execution_count": 59,
     "metadata": {},
     "output_type": "execute_result"
    },
    {
     "data": {
      "image/png": "[encoded data removed]",
      "text/plain": [
       "<Figure size 720x720 with 1 Axes>"
      ]
     },
     "metadata": {
      "needs_background": "light"
     },
     "output_type": "display_data"
    }
   ],
   "source": [
    "_, ax = plt.subplots()\n",
    "\n",
    "pop_topis_median.iloc[:,1].plot(kind = 'line', ax=ax, color = 'green', legend = True)\n",
    "pop_topis_median.iloc[:,0].plot(kind='bar', ax=ax, color = '#1f77b4', legend = True)\n",
    "plt.rcParams['figure.figsize'] = (10, 10)\n",
    "plt.rcParams['font.family'] = 'AppleGothic'\n",
    "plt.rcParams['font.size'] = 12\n",
    "plt.grid()\n",
    "plt.title('시간대별 유동인구 및 구간별 속도 중앙값 현황')"
   ]
  },
  {
   "cell_type": "code",
   "execution_count": null,
   "metadata": {},
   "outputs": [],
   "source": []
  },
  {
   "cell_type": "code",
   "execution_count": null,
   "metadata": {},
   "outputs": [],
   "source": []
  },
  {
   "cell_type": "code",
   "execution_count": 60,
   "metadata": {},
   "outputs": [
    {
     "data": {
      "text/html": [
       "<div>\n",
       "<style scoped>\n",
       "    .dataframe tbody tr th:only-of-type {\n",
       "        vertical-align: middle;\n",
       "    }\n",
       "\n",
       "    .dataframe tbody tr th {\n",
       "        vertical-align: top;\n",
       "    }\n",
       "\n",
       "    .dataframe thead th {\n",
       "        text-align: right;\n",
       "    }\n",
       "</style>\n",
       "<table border=\"1\" class=\"dataframe\">\n",
       "  <thead>\n",
       "    <tr style=\"text-align: right;\">\n",
       "      <th></th>\n",
       "      <th>pop_0시</th>\n",
       "      <th>pop_1시</th>\n",
       "      <th>pop_2시</th>\n",
       "      <th>pop_3시</th>\n",
       "      <th>pop_4시</th>\n",
       "      <th>pop_5시</th>\n",
       "      <th>pop_6시</th>\n",
       "      <th>pop_7시</th>\n",
       "      <th>pop_8시</th>\n",
       "      <th>pop_9시</th>\n",
       "      <th>...</th>\n",
       "      <th>pop_14시</th>\n",
       "      <th>pop_15시</th>\n",
       "      <th>pop_16시</th>\n",
       "      <th>pop_17시</th>\n",
       "      <th>pop_18시</th>\n",
       "      <th>pop_19시</th>\n",
       "      <th>pop_20시</th>\n",
       "      <th>pop_21시</th>\n",
       "      <th>pop_22시</th>\n",
       "      <th>pop_23시</th>\n",
       "    </tr>\n",
       "  </thead>\n",
       "  <tbody>\n",
       "    <tr>\n",
       "      <th>count</th>\n",
       "      <td>664178.00000</td>\n",
       "      <td>664178.00000</td>\n",
       "      <td>664178.00000</td>\n",
       "      <td>664178.00000</td>\n",
       "      <td>664178.00000</td>\n",
       "      <td>664178.00000</td>\n",
       "      <td>664178.00000</td>\n",
       "      <td>664178.00000</td>\n",
       "      <td>664178.00000</td>\n",
       "      <td>664178.00000</td>\n",
       "      <td>...</td>\n",
       "      <td>664178.00000</td>\n",
       "      <td>664178.00000</td>\n",
       "      <td>664178.00000</td>\n",
       "      <td>664178.00000</td>\n",
       "      <td>664178.00000</td>\n",
       "      <td>664178.00000</td>\n",
       "      <td>664178.00000</td>\n",
       "      <td>664178.00000</td>\n",
       "      <td>664178.00000</td>\n",
       "      <td>664178.00000</td>\n",
       "    </tr>\n",
       "    <tr>\n",
       "      <th>mean</th>\n",
       "      <td>108.54341</td>\n",
       "      <td>103.60941</td>\n",
       "      <td>101.81575</td>\n",
       "      <td>100.57459</td>\n",
       "      <td>100.70758</td>\n",
       "      <td>103.54352</td>\n",
       "      <td>111.70130</td>\n",
       "      <td>127.37007</td>\n",
       "      <td>157.37756</td>\n",
       "      <td>111.60749</td>\n",
       "      <td>...</td>\n",
       "      <td>203.67386</td>\n",
       "      <td>203.58445</td>\n",
       "      <td>202.15997</td>\n",
       "      <td>199.10856</td>\n",
       "      <td>193.94914</td>\n",
       "      <td>174.23323</td>\n",
       "      <td>156.35781</td>\n",
       "      <td>143.87797</td>\n",
       "      <td>131.62627</td>\n",
       "      <td>118.03080</td>\n",
       "    </tr>\n",
       "    <tr>\n",
       "      <th>std</th>\n",
       "      <td>107.58300</td>\n",
       "      <td>103.57776</td>\n",
       "      <td>102.18845</td>\n",
       "      <td>100.91666</td>\n",
       "      <td>100.53647</td>\n",
       "      <td>101.23104</td>\n",
       "      <td>106.49430</td>\n",
       "      <td>116.96676</td>\n",
       "      <td>144.93862</td>\n",
       "      <td>106.45822</td>\n",
       "      <td>...</td>\n",
       "      <td>197.40147</td>\n",
       "      <td>197.66066</td>\n",
       "      <td>196.08189</td>\n",
       "      <td>193.60292</td>\n",
       "      <td>192.72981</td>\n",
       "      <td>172.81722</td>\n",
       "      <td>152.69403</td>\n",
       "      <td>140.09155</td>\n",
       "      <td>129.20382</td>\n",
       "      <td>116.21716</td>\n",
       "    </tr>\n",
       "    <tr>\n",
       "      <th>min</th>\n",
       "      <td>0.00000</td>\n",
       "      <td>0.00000</td>\n",
       "      <td>0.00000</td>\n",
       "      <td>0.00000</td>\n",
       "      <td>0.00333</td>\n",
       "      <td>0.00333</td>\n",
       "      <td>0.00250</td>\n",
       "      <td>0.00000</td>\n",
       "      <td>0.00000</td>\n",
       "      <td>0.00250</td>\n",
       "      <td>...</td>\n",
       "      <td>0.00000</td>\n",
       "      <td>0.00000</td>\n",
       "      <td>0.00000</td>\n",
       "      <td>0.00000</td>\n",
       "      <td>0.00000</td>\n",
       "      <td>0.00000</td>\n",
       "      <td>0.00000</td>\n",
       "      <td>0.00000</td>\n",
       "      <td>0.00000</td>\n",
       "      <td>0.00000</td>\n",
       "    </tr>\n",
       "    <tr>\n",
       "      <th>25%</th>\n",
       "      <td>32.40000</td>\n",
       "      <td>30.39600</td>\n",
       "      <td>29.57073</td>\n",
       "      <td>29.18585</td>\n",
       "      <td>29.56000</td>\n",
       "      <td>31.73500</td>\n",
       "      <td>35.73206</td>\n",
       "      <td>42.66571</td>\n",
       "      <td>49.65617</td>\n",
       "      <td>35.67814</td>\n",
       "      <td>...</td>\n",
       "      <td>56.19250</td>\n",
       "      <td>56.23687</td>\n",
       "      <td>56.22606</td>\n",
       "      <td>55.59019</td>\n",
       "      <td>53.68644</td>\n",
       "      <td>49.37667</td>\n",
       "      <td>45.64600</td>\n",
       "      <td>42.65606</td>\n",
       "      <td>39.25000</td>\n",
       "      <td>35.42500</td>\n",
       "    </tr>\n",
       "    <tr>\n",
       "      <th>50%</th>\n",
       "      <td>74.16000</td>\n",
       "      <td>70.01837</td>\n",
       "      <td>68.40775</td>\n",
       "      <td>67.50461</td>\n",
       "      <td>68.03000</td>\n",
       "      <td>71.45056</td>\n",
       "      <td>79.06100</td>\n",
       "      <td>93.63800</td>\n",
       "      <td>115.28414</td>\n",
       "      <td>78.97354</td>\n",
       "      <td>...</td>\n",
       "      <td>140.80517</td>\n",
       "      <td>140.29721</td>\n",
       "      <td>139.27000</td>\n",
       "      <td>136.62115</td>\n",
       "      <td>130.80268</td>\n",
       "      <td>118.23583</td>\n",
       "      <td>108.53868</td>\n",
       "      <td>100.97400</td>\n",
       "      <td>92.34808</td>\n",
       "      <td>81.85789</td>\n",
       "    </tr>\n",
       "    <tr>\n",
       "      <th>75%</th>\n",
       "      <td>151.16438</td>\n",
       "      <td>144.14512</td>\n",
       "      <td>141.57542</td>\n",
       "      <td>139.89969</td>\n",
       "      <td>140.06321</td>\n",
       "      <td>144.13667</td>\n",
       "      <td>155.72984</td>\n",
       "      <td>178.25333</td>\n",
       "      <td>223.71167</td>\n",
       "      <td>155.58944</td>\n",
       "      <td>...</td>\n",
       "      <td>287.67750</td>\n",
       "      <td>287.62313</td>\n",
       "      <td>286.67681</td>\n",
       "      <td>282.82176</td>\n",
       "      <td>272.30250</td>\n",
       "      <td>245.57500</td>\n",
       "      <td>221.89765</td>\n",
       "      <td>202.79750</td>\n",
       "      <td>183.40167</td>\n",
       "      <td>164.98458</td>\n",
       "    </tr>\n",
       "    <tr>\n",
       "      <th>max</th>\n",
       "      <td>1191.75111</td>\n",
       "      <td>1210.38000</td>\n",
       "      <td>1203.55000</td>\n",
       "      <td>1160.09000</td>\n",
       "      <td>1080.35250</td>\n",
       "      <td>1245.50500</td>\n",
       "      <td>1316.61500</td>\n",
       "      <td>1348.07250</td>\n",
       "      <td>1683.65500</td>\n",
       "      <td>1316.61500</td>\n",
       "      <td>...</td>\n",
       "      <td>1544.27231</td>\n",
       "      <td>1699.87846</td>\n",
       "      <td>1854.32462</td>\n",
       "      <td>1944.16462</td>\n",
       "      <td>1948.46000</td>\n",
       "      <td>1864.04462</td>\n",
       "      <td>1751.14000</td>\n",
       "      <td>1659.35846</td>\n",
       "      <td>1483.74000</td>\n",
       "      <td>1283.87077</td>\n",
       "    </tr>\n",
       "  </tbody>\n",
       "</table>\n",
       "<p>8 rows × 24 columns</p>\n",
       "</div>"
      ],
      "text/plain": [
       "            pop_0시       pop_1시       pop_2시       pop_3시       pop_4시  \\\n",
       "count 664178.00000 664178.00000 664178.00000 664178.00000 664178.00000   \n",
       "mean     108.54341    103.60941    101.81575    100.57459    100.70758   \n",
       "std      107.58300    103.57776    102.18845    100.91666    100.53647   \n",
       "min        0.00000      0.00000      0.00000      0.00000      0.00333   \n",
       "25%       32.40000     30.39600     29.57073     29.18585     29.56000   \n",
       "50%       74.16000     70.01837     68.40775     67.50461     68.03000   \n",
       "75%      151.16438    144.14512    141.57542    139.89969    140.06321   \n",
       "max     1191.75111   1210.38000   1203.55000   1160.09000   1080.35250   \n",
       "\n",
       "            pop_5시       pop_6시       pop_7시       pop_8시       pop_9시  ...  \\\n",
       "count 664178.00000 664178.00000 664178.00000 664178.00000 664178.00000  ...   \n",
       "mean     103.54352    111.70130    127.37007    157.37756    111.60749  ...   \n",
       "std      101.23104    106.49430    116.96676    144.93862    106.45822  ...   \n",
       "min        0.00333      0.00250      0.00000      0.00000      0.00250  ...   \n",
       "25%       31.73500     35.73206     42.66571     49.65617     35.67814  ...   \n",
       "50%       71.45056     79.06100     93.63800    115.28414     78.97354  ...   \n",
       "75%      144.13667    155.72984    178.25333    223.71167    155.58944  ...   \n",
       "max     1245.50500   1316.61500   1348.07250   1683.65500   1316.61500  ...   \n",
       "\n",
       "           pop_14시      pop_15시      pop_16시      pop_17시      pop_18시  \\\n",
       "count 664178.00000 664178.00000 664178.00000 664178.00000 664178.00000   \n",
       "mean     203.67386    203.58445    202.15997    199.10856    193.94914   \n",
       "std      197.40147    197.66066    196.08189    193.60292    192.72981   \n",
       "min        0.00000      0.00000      0.00000      0.00000      0.00000   \n",
       "25%       56.19250     56.23687     56.22606     55.59019     53.68644   \n",
       "50%      140.80517    140.29721    139.27000    136.62115    130.80268   \n",
       "75%      287.67750    287.62313    286.67681    282.82176    272.30250   \n",
       "max     1544.27231   1699.87846   1854.32462   1944.16462   1948.46000   \n",
       "\n",
       "           pop_19시      pop_20시      pop_21시      pop_22시      pop_23시  \n",
       "count 664178.00000 664178.00000 664178.00000 664178.00000 664178.00000  \n",
       "mean     174.23323    156.35781    143.87797    131.62627    118.03080  \n",
       "std      172.81722    152.69403    140.09155    129.20382    116.21716  \n",
       "min        0.00000      0.00000      0.00000      0.00000      0.00000  \n",
       "25%       49.37667     45.64600     42.65606     39.25000     35.42500  \n",
       "50%      118.23583    108.53868    100.97400     92.34808     81.85789  \n",
       "75%      245.57500    221.89765    202.79750    183.40167    164.98458  \n",
       "max     1864.04462   1751.14000   1659.35846   1483.74000   1283.87077  \n",
       "\n",
       "[8 rows x 24 columns]"
      ]
     },
     "execution_count": 60,
     "metadata": {},
     "output_type": "execute_result"
    }
   ],
   "source": [
    "pop_topis.iloc[:, 0:24].describe()"
   ]
  },
  {
   "cell_type": "markdown",
   "metadata": {},
   "source": [
    "# 시간대별 유동인구 분포 - right skewed (좌로 치우침) mean > median"
   ]
  },
  {
   "cell_type": "code",
   "execution_count": 61,
   "metadata": {},
   "outputs": [
    {
     "data": {
      "text/plain": [
       "pop_0시     74.16000\n",
       "pop_1시     70.01837\n",
       "pop_2시     68.40775\n",
       "pop_3시     67.50461\n",
       "pop_4시     68.03000\n",
       "pop_5시     71.45056\n",
       "pop_6시     79.06100\n",
       "pop_7시     93.63800\n",
       "pop_8시    115.28414\n",
       "pop_9시     78.97354\n",
       "pop_10시   132.30292\n",
       "pop_11시   135.83819\n",
       "pop_12시   135.91464\n",
       "pop_13시   140.30250\n",
       "pop_14시   140.80517\n",
       "pop_15시   140.29721\n",
       "pop_16시   139.27000\n",
       "pop_17시   136.62115\n",
       "pop_18시   130.80268\n",
       "pop_19시   118.23583\n",
       "pop_20시   108.53868\n",
       "pop_21시   100.97400\n",
       "pop_22시    92.34808\n",
       "pop_23시    81.85789\n",
       "dtype: float64"
      ]
     },
     "execution_count": 61,
     "metadata": {},
     "output_type": "execute_result"
    }
   ],
   "source": [
    "pop_topis.iloc[:, 0:24].median()"
   ]
  },
  {
   "cell_type": "code",
   "execution_count": 73,
   "metadata": {},
   "outputs": [],
   "source": [
    "'''pop_topis['pop_22_07시'] = (pop_topis['pop_22시'] + pop_topis['pop_23시'] + pop_topis['pop_0시'] + pop_topis['pop_1시'] + pop_topis['pop_2시'] +\n",
    "                        pop_topis['pop_3시'] + pop_topis['pop_4시'] + pop_topis['pop_5시'] + pop_topis['pop_6시']) / 9\n",
    "pop_topis['pop_07_09시'] = (pop_topis['pop_7시'] + pop_topis['pop_8시']) / 2\n",
    "pop_topis['pop_09_19시'] = (pop_topis['pop_9시'] + pop_topis['pop_10시'] + pop_topis['pop_11시'] + pop_topis['pop_12시'] +\n",
    "                          pop_topis['pop_13시'] + pop_topis['pop_14시'] + pop_topis['pop_15시'] + pop_topis['pop_16시'] + \n",
    "                          pop_topis['pop_17시'] + pop_topis['pop_18시']) / 10\n",
    "pop_topis['pop_19_22시'] = (pop_topis['pop_19시'] + pop_topis['pop_20시'] + pop_topis['pop_21시']) / 3'''\n",
    "\n",
    "final_data['pop_22_07시'] = (final_data['pop_22시'] + final_data['pop_23시'] + final_data['pop_0시'] + final_data['pop_1시'] + final_data['pop_2시'] +\n",
    "                        final_data['pop_3시'] + final_data['pop_4시'] + final_data['pop_5시'] + final_data['pop_6시']) / 9\n",
    "final_data['pop_07_09시'] = (final_data['pop_7시'] + final_data['pop_8시']) / 2\n",
    "final_data['pop_09_19시'] = (final_data['pop_9시'] + final_data['pop_10시'] + final_data['pop_11시'] + final_data['pop_12시'] +\n",
    "                          final_data['pop_13시'] + final_data['pop_14시'] + final_data['pop_15시'] + final_data['pop_16시'] +\n",
    "                          final_data['pop_17시'] + final_data['pop_18시']) / 10\n",
    "final_data['pop_19_22시'] = (final_data['pop_19시'] + final_data['pop_20시'] + final_data['pop_21시']) / 3"
   ]
  },
  {
   "cell_type": "markdown",
   "metadata": {},
   "source": [
    "# 시간대별 구간별 속도 분포 - right skewed (좌로 치우침) mean > median"
   ]
  },
  {
   "cell_type": "code",
   "execution_count": 65,
   "metadata": {},
   "outputs": [
    {
     "data": {
      "text/plain": [
       "topis_0시    28.84000\n",
       "topis_1시    30.18000\n",
       "topis_2시    31.32000\n",
       "topis_3시    32.28000\n",
       "topis_4시    32.57000\n",
       "topis_5시    31.75000\n",
       "topis_6시    30.26000\n",
       "topis_7시    27.88000\n",
       "topis_8시    25.69000\n",
       "topis_9시    24.83000\n",
       "topis_10시   24.31000\n",
       "topis_11시   23.90000\n",
       "topis_12시   24.13000\n",
       "topis_13시   23.49000\n",
       "topis_14시   22.66000\n",
       "topis_15시   22.30000\n",
       "topis_16시   22.23000\n",
       "topis_17시   21.89000\n",
       "topis_18시   21.21000\n",
       "topis_19시   22.75000\n",
       "topis_20시   24.85000\n",
       "topis_21시   25.67000\n",
       "topis_22시   26.47000\n",
       "topis_23시   27.70000\n",
       "dtype: float64"
      ]
     },
     "execution_count": 65,
     "metadata": {},
     "output_type": "execute_result"
    }
   ],
   "source": [
    "pop_topis.iloc[:, 24:48].median()"
   ]
  },
  {
   "cell_type": "code",
   "execution_count": 74,
   "metadata": {},
   "outputs": [],
   "source": [
    "'''pop_topis['topis_22_07시'] = (pop_topis['topis_22시'] + pop_topis['topis_23시'] + pop_topis['topis_0시'] + pop_topis['topis_1시'] + pop_topis['topis_2시'] +\n",
    "                        pop_topis['topis_3시'] + pop_topis['topis_4시'] + pop_topis['topis_5시'] + pop_topis['topis_6시']) / 9\n",
    "pop_topis['topis_07_09시'] = (pop_topis['topis_7시'] + pop_topis['topis_8시']) / 2\n",
    "pop_topis['topis_09_19시'] = (pop_topis['topis_9시'] + pop_topis['topis_10시'] + pop_topis['topis_11시'] + pop_topis['topis_12시'] +\n",
    "                          pop_topis['topis_13시'] + pop_topis['topis_14시'] + pop_topis['topis_15시'] + pop_topis['topis_16시'] +\n",
    "                          pop_topis['topis_17시'] + pop_topis['topis_18시']) / 10\n",
    "pop_topis['topis_19_22시'] = (pop_topis['topis_19시'] + pop_topis['topis_20시'] + pop_topis['topis_21시']) / 3'''\n",
    "\n",
    "final_data['topis_22_07시'] = (final_data['topis_22시'] + final_data['topis_23시'] + final_data['topis_0시'] + final_data['topis_1시'] + final_data['topis_2시'] +\n",
    "                        final_data['topis_3시'] + final_data['topis_4시'] + final_data['topis_5시'] + final_data['topis_6시']) / 9\n",
    "final_data['topis_07_09시'] = (final_data['topis_7시'] + final_data['topis_8시']) / 2\n",
    "final_data['topis_09_19시'] = (final_data['topis_9시'] + final_data['topis_10시'] + final_data['topis_11시'] + final_data['topis_12시'] +\n",
    "                          final_data['topis_13시'] + final_data['topis_14시'] + final_data['topis_15시'] + final_data['topis_16시'] +\n",
    "                          final_data['topis_17시'] + final_data['topis_18시']) / 10\n",
    "final_data['topis_19_22시'] = (final_data['topis_19시'] + final_data['topis_20시'] + final_data['topis_21시']) / 3"
   ]
  },
  {
   "cell_type": "code",
   "execution_count": null,
   "metadata": {},
   "outputs": [],
   "source": [
    "pop_topis_cat = pop_topis[['pop_22_07시', 'pop_07_09시', 'pop_09_19시', 'pop_19_22시', 'topis_22_07시', 'topis_07_09시', 'topis_09_19시',\n",
    "                           'topis_19_22시', 'SAGO_YN']]"
   ]
  },
  {
   "cell_type": "code",
   "execution_count": 261,
   "metadata": {},
   "outputs": [
    {
     "data": {
      "text/html": [
       "<div>\n",
       "<style scoped>\n",
       "    .dataframe tbody tr th:only-of-type {\n",
       "        vertical-align: middle;\n",
       "    }\n",
       "\n",
       "    .dataframe tbody tr th {\n",
       "        vertical-align: top;\n",
       "    }\n",
       "\n",
       "    .dataframe thead th {\n",
       "        text-align: right;\n",
       "    }\n",
       "</style>\n",
       "<table border=\"1\" class=\"dataframe\">\n",
       "  <thead>\n",
       "    <tr style=\"text-align: right;\">\n",
       "      <th></th>\n",
       "      <th>pop_22_07시</th>\n",
       "      <th>pop_07_09시</th>\n",
       "      <th>pop_09_19시</th>\n",
       "      <th>pop_19_22시</th>\n",
       "      <th>topis_22_07시</th>\n",
       "      <th>topis_07_09시</th>\n",
       "      <th>topis_09_19시</th>\n",
       "      <th>topis_19_22시</th>\n",
       "    </tr>\n",
       "  </thead>\n",
       "  <tbody>\n",
       "    <tr>\n",
       "      <th>pop_22_07시</th>\n",
       "      <td>1.00000</td>\n",
       "      <td>0.87576</td>\n",
       "      <td>0.71227</td>\n",
       "      <td>0.86965</td>\n",
       "      <td>-0.29033</td>\n",
       "      <td>-0.23102</td>\n",
       "      <td>-0.29812</td>\n",
       "      <td>-0.29553</td>\n",
       "    </tr>\n",
       "    <tr>\n",
       "      <th>pop_07_09시</th>\n",
       "      <td>0.87576</td>\n",
       "      <td>1.00000</td>\n",
       "      <td>0.87689</td>\n",
       "      <td>0.89368</td>\n",
       "      <td>-0.31379</td>\n",
       "      <td>-0.29823</td>\n",
       "      <td>-0.36278</td>\n",
       "      <td>-0.34557</td>\n",
       "    </tr>\n",
       "    <tr>\n",
       "      <th>pop_09_19시</th>\n",
       "      <td>0.71227</td>\n",
       "      <td>0.87689</td>\n",
       "      <td>1.00000</td>\n",
       "      <td>0.91899</td>\n",
       "      <td>-0.34224</td>\n",
       "      <td>-0.30693</td>\n",
       "      <td>-0.42025</td>\n",
       "      <td>-0.39174</td>\n",
       "    </tr>\n",
       "    <tr>\n",
       "      <th>pop_19_22시</th>\n",
       "      <td>0.86965</td>\n",
       "      <td>0.89368</td>\n",
       "      <td>0.91899</td>\n",
       "      <td>1.00000</td>\n",
       "      <td>-0.34168</td>\n",
       "      <td>-0.28546</td>\n",
       "      <td>-0.39063</td>\n",
       "      <td>-0.38321</td>\n",
       "    </tr>\n",
       "    <tr>\n",
       "      <th>topis_22_07시</th>\n",
       "      <td>-0.29033</td>\n",
       "      <td>-0.31379</td>\n",
       "      <td>-0.34224</td>\n",
       "      <td>-0.34168</td>\n",
       "      <td>1.00000</td>\n",
       "      <td>0.78181</td>\n",
       "      <td>0.80333</td>\n",
       "      <td>0.84155</td>\n",
       "    </tr>\n",
       "    <tr>\n",
       "      <th>topis_07_09시</th>\n",
       "      <td>-0.23102</td>\n",
       "      <td>-0.29823</td>\n",
       "      <td>-0.30693</td>\n",
       "      <td>-0.28546</td>\n",
       "      <td>0.78181</td>\n",
       "      <td>1.00000</td>\n",
       "      <td>0.83599</td>\n",
       "      <td>0.76658</td>\n",
       "    </tr>\n",
       "    <tr>\n",
       "      <th>topis_09_19시</th>\n",
       "      <td>-0.29812</td>\n",
       "      <td>-0.36278</td>\n",
       "      <td>-0.42025</td>\n",
       "      <td>-0.39063</td>\n",
       "      <td>0.80333</td>\n",
       "      <td>0.83599</td>\n",
       "      <td>1.00000</td>\n",
       "      <td>0.90360</td>\n",
       "    </tr>\n",
       "    <tr>\n",
       "      <th>topis_19_22시</th>\n",
       "      <td>-0.29553</td>\n",
       "      <td>-0.34557</td>\n",
       "      <td>-0.39174</td>\n",
       "      <td>-0.38321</td>\n",
       "      <td>0.84155</td>\n",
       "      <td>0.76658</td>\n",
       "      <td>0.90360</td>\n",
       "      <td>1.00000</td>\n",
       "    </tr>\n",
       "  </tbody>\n",
       "</table>\n",
       "</div>"
      ],
      "text/plain": [
       "              pop_22_07시  pop_07_09시  pop_09_19시  pop_19_22시  topis_22_07시  \\\n",
       "pop_22_07시       1.00000     0.87576     0.71227     0.86965      -0.29033   \n",
       "pop_07_09시       0.87576     1.00000     0.87689     0.89368      -0.31379   \n",
       "pop_09_19시       0.71227     0.87689     1.00000     0.91899      -0.34224   \n",
       "pop_19_22시       0.86965     0.89368     0.91899     1.00000      -0.34168   \n",
       "topis_22_07시    -0.29033    -0.31379    -0.34224    -0.34168       1.00000   \n",
       "topis_07_09시    -0.23102    -0.29823    -0.30693    -0.28546       0.78181   \n",
       "topis_09_19시    -0.29812    -0.36278    -0.42025    -0.39063       0.80333   \n",
       "topis_19_22시    -0.29553    -0.34557    -0.39174    -0.38321       0.84155   \n",
       "\n",
       "              topis_07_09시  topis_09_19시  topis_19_22시  \n",
       "pop_22_07시        -0.23102      -0.29812      -0.29553  \n",
       "pop_07_09시        -0.29823      -0.36278      -0.34557  \n",
       "pop_09_19시        -0.30693      -0.42025      -0.39174  \n",
       "pop_19_22시        -0.28546      -0.39063      -0.38321  \n",
       "topis_22_07시       0.78181       0.80333       0.84155  \n",
       "topis_07_09시       1.00000       0.83599       0.76658  \n",
       "topis_09_19시       0.83599       1.00000       0.90360  \n",
       "topis_19_22시       0.76658       0.90360       1.00000  "
      ]
     },
     "execution_count": 261,
     "metadata": {},
     "output_type": "execute_result"
    }
   ],
   "source": [
    "pop_topis_cat.corr(method = 'pearson')"
   ]
  },
  {
   "cell_type": "code",
   "execution_count": 262,
   "metadata": {},
   "outputs": [
    {
     "data": {
      "image/png": "[encoded data removed]",
      "text/plain": [
       "<Figure size 864x720 with 2 Axes>"
      ]
     },
     "metadata": {
      "needs_background": "light"
     },
     "output_type": "display_data"
    }
   ],
   "source": [
    "#Using Pearson Correlation\n",
    "plt.figure(figsize=(12,10))\n",
    "cor = pop_topis_cat.corr(method = 'pearson')\n",
    "sns.heatmap(cor, annot=True, cmap= 'Blues')\n",
    "\n",
    "plt.rcParams['figure.figsize'] = (20, 20)\n",
    "plt.rcParams['font.family'] = 'AppleGothic'\n",
    "plt.rcParams['font.size'] = 12\n",
    "plt.rcParams['axes.unicode_minus'] = False\n",
    "plt.title('시간구분별 평균 유동인구 및 구간별 속도 상관 분석')\n",
    "plt.show()"
   ]
  },
  {
   "cell_type": "code",
   "execution_count": null,
   "metadata": {},
   "outputs": [],
   "source": []
  },
  {
   "cell_type": "code",
   "execution_count": null,
   "metadata": {},
   "outputs": [],
   "source": []
  },
  {
   "cell_type": "code",
   "execution_count": null,
   "metadata": {},
   "outputs": [],
   "source": []
  },
  {
   "cell_type": "code",
   "execution_count": null,
   "metadata": {},
   "outputs": [],
   "source": []
  },
  {
   "cell_type": "code",
   "execution_count": null,
   "metadata": {},
   "outputs": [],
   "source": []
  },
  {
   "cell_type": "markdown",
   "metadata": {},
   "source": [
    "# 도로환경변수 (CNT 변수) - 교통사고 예측 분석 (Grid Search  Weighted Logistic Regression)"
   ]
  },
  {
   "cell_type": "code",
   "execution_count": 742,
   "metadata": {},
   "outputs": [],
   "source": [
    "category_final_data_cnt = final_data[['BUS_CNT', 'SUB_CNT', 'CW_CNT', 'HUMP_CNT',\n",
    "                                 'A3_ROADTYPE_1_CNT', 'A3_ROADTYPE_2_CNT', 'A3_ROADTYPE_3_CNT',\n",
    "                                 'A3_ROADTYPE_4_CNT', 'A3_ROADTYPE_5_CNT', 'A3_ROADTYPE_6_CNT',\n",
    "                                  'A1_LANE_02_CNT', 'A1_LANE_04_CNT', 'A1_LANE_10_CNT', 'A1_LANE_12_CNT',\n",
    "                                  'A1_BARR_02_CNT', 'A1_BARR_03_CNT', 'A1_BARR_05_CNT',\n",
    "                                  'A2_STOP_1_CNT', 'A2_STOP_2_CNT', 'S_P_KIDS_CNT', 'S_P_BIKE_CNT', 'S_P_UTERN_CNT', 'S_P_UTERNX_CNT',\n",
    "                                  'SN_P_HDUFID_CNT', 'SF_P_ALL_CNT', 'SF_P_UTERN_CNT', 'SF_L_ALL_CNT', 'SF_L_1_CNT', 'SF_L_2_CNT',\n",
    "                                  'SF_PL_CW_CNT', 'SF_PL_HUMP_CNT', 'SF_PL_BIKE_CW_CNT', 'NODE_INTER_CNT', 'NODE_INTERS_CNT', 'NODE_ROTARY_CNT',\n",
    "                                   'NODE_LANES_CNT', 'NODE_ALL_CNT', 'SAGO_YN'\n",
    "                                 ]]"
   ]
  },
  {
   "cell_type": "code",
   "execution_count": 743,
   "metadata": {},
   "outputs": [
    {
     "name": "stderr",
     "output_type": "stream",
     "text": [
      "/Users/wbchoi/anaconda3/lib/python3.7/site-packages/ipykernel_launcher.py:1: SettingWithCopyWarning: \n",
      "A value is trying to be set on a copy of a slice from a DataFrame.\n",
      "Try using .loc[row_indexer,col_indexer] = value instead\n",
      "\n",
      "See the caveats in the documentation: https://pandas.pydata.org/pandas-docs/stable/user_guide/indexing.html#returning-a-view-versus-a-copy\n",
      "  \"\"\"Entry point for launching an IPython kernel.\n"
     ]
    }
   ],
   "source": [
    "category_final_data_cnt['SAGO_YN'] = category_final_data_cnt.apply(lambda x: 1 if x['SAGO_YN'] == 'Y' else 0, axis = 1)"
   ]
  },
  {
   "cell_type": "code",
   "execution_count": 744,
   "metadata": {},
   "outputs": [
    {
     "data": {
      "text/plain": [
       "0    660573\n",
       "1      3605\n",
       "Name: SAGO_YN, dtype: int64"
      ]
     },
     "execution_count": 744,
     "metadata": {},
     "output_type": "execute_result"
    }
   ],
   "source": [
    "category_final_data_cnt['SAGO_YN'].value_counts()"
   ]
  },
  {
   "cell_type": "code",
   "execution_count": null,
   "metadata": {},
   "outputs": [],
   "source": []
  },
  {
   "cell_type": "markdown",
   "metadata": {},
   "source": [
    "# 도로환경변수 (CNT 변수) - 교통사고 예측 분석 (Logistic Regression 기반 변수 중요도 도출)"
   ]
  },
  {
   "cell_type": "code",
   "execution_count": 750,
   "metadata": {},
   "outputs": [
    {
     "name": "stdout",
     "output_type": "stream",
     "text": [
      "[[-1.23603595 -0.49853863  2.19310958 ... -0.06056243 -0.4400948\n",
      "  -0.04545455]\n",
      " [-0.48597806 -0.49853863 -1.01163178 ... -0.06056243 -0.4400948\n",
      "  -0.04545455]\n",
      " [-0.861007   -0.49853863 -1.01163178 ... -0.06056243 -0.4400948\n",
      "  -0.02950195]\n",
      " ...\n",
      " [-1.23603595 -0.49853863 -1.01163178 ... -0.06056243  0.94804103\n",
      "   0.02899093]\n",
      " [-0.11094912 -0.49853863 -0.21044644 ... -0.06056243 -0.4400948\n",
      "  -0.04545455]\n",
      " [-0.48597806  1.9660549  -0.21044644 ... -0.06056243 -0.4400948\n",
      "  -0.04545455]]\n"
     ]
    },
    {
     "name": "stderr",
     "output_type": "stream",
     "text": [
      "/Users/wbchoi/anaconda3/lib/python3.7/site-packages/sklearn/linear_model/_logistic.py:940: ConvergenceWarning: lbfgs failed to converge (status=1):\n",
      "STOP: TOTAL NO. of ITERATIONS REACHED LIMIT.\n",
      "\n",
      "Increase the number of iterations (max_iter) or scale the data as shown in:\n",
      "    https://scikit-learn.org/stable/modules/preprocessing.html\n",
      "Please also refer to the documentation for alternative solver options:\n",
      "    https://scikit-learn.org/stable/modules/linear_model.html#logistic-regression\n",
      "  extra_warning_msg=_LOGISTIC_SOLVER_CONVERGENCE_MSG)\n"
     ]
    },
    {
     "data": {
      "text/plain": [
       "LogisticRegression(C=1.0, class_weight=None, dual=False, fit_intercept=True,\n",
       "                   intercept_scaling=1, l1_ratio=None, max_iter=100,\n",
       "                   multi_class='auto', n_jobs=None, penalty='l2',\n",
       "                   random_state=777, solver='lbfgs', tol=0.0001, verbose=0,\n",
       "                   warm_start=False)"
      ]
     },
     "execution_count": 750,
     "metadata": {},
     "output_type": "execute_result"
    }
   ],
   "source": [
    "x = category_final_data_cnt.iloc[:, 0:-1]\n",
    "y = category_final_data_cnt.iloc[:, -1]\n",
    "\n",
    "x_train, x_test, y_train, y_test = train_test_split(x, y, test_size = 0.2, random_state = 42)\n",
    "\n",
    "# 표준화: 평균 0, 분산 1\n",
    "sc = StandardScaler()\n",
    "x_std = sc.fit_transform(x_train)\n",
    "print(x_std)\n",
    "\n",
    "weights = {0:1.0, 1: 1000.0}\n",
    "\n",
    "# define model\n",
    "# model = LogisticRegression(random_state = 0, class_weight = 'balanced', solver = 'lbfgs')\n",
    "# model = LogisticRegression(random_state = 0, class_weight = weights, solver = 'lbfgs')\n",
    "model = LogisticRegression(random_state = 777, solver = 'lbfgs')\n",
    "\n",
    "# fit the model\n",
    "model.fit(x_std, y_train)"
   ]
  },
  {
   "cell_type": "code",
   "execution_count": 751,
   "metadata": {},
   "outputs": [
    {
     "name": "stdout",
     "output_type": "stream",
     "text": [
      "Feature: 0, Score: 0.12374\n",
      "Feature: 1, Score: 0.06011\n",
      "Feature: 2, Score: 0.13803\n",
      "Feature: 3, Score: 0.04975\n",
      "Feature: 4, Score: 3.07278\n",
      "Feature: 5, Score: 0.11372\n",
      "Feature: 6, Score: 0.01528\n",
      "Feature: 7, Score: 0.01950\n",
      "Feature: 8, Score: 0.02595\n",
      "Feature: 9, Score: 0.20699\n",
      "Feature: 10, Score: 0.06378\n",
      "Feature: 11, Score: 0.24141\n",
      "Feature: 12, Score: 0.04317\n",
      "Feature: 13, Score: 0.17932\n",
      "Feature: 14, Score: 0.09465\n",
      "Feature: 15, Score: 0.01999\n",
      "Feature: 16, Score: 0.03792\n",
      "Feature: 17, Score: 0.09557\n",
      "Feature: 18, Score: 3.14569\n",
      "Feature: 19, Score: 0.02419\n",
      "Feature: 20, Score: 0.02999\n",
      "Feature: 21, Score: 0.01123\n",
      "Feature: 22, Score: 0.05884\n",
      "Feature: 23, Score: 0.78824\n",
      "Feature: 24, Score: 3.58952\n",
      "Feature: 25, Score: 0.05189\n",
      "Feature: 26, Score: 0.05210\n",
      "Feature: 27, Score: 0.05210\n",
      "Feature: 28, Score: 0.00000\n",
      "Feature: 29, Score: 0.01313\n",
      "Feature: 30, Score: 0.00237\n",
      "Feature: 31, Score: 0.00861\n",
      "Feature: 32, Score: 1.36448\n",
      "Feature: 33, Score: 1.36440\n",
      "Feature: 34, Score: 0.05400\n",
      "Feature: 35, Score: 0.05789\n",
      "Feature: 36, Score: 1.58242\n"
     ]
    }
   ],
   "source": [
    "# get importance\n",
    "importance = abs(model.coef_[0])\n",
    "\n",
    "# summarize feature importance\n",
    "for i,v in enumerate(importance):\n",
    "    print('Feature: %0d, Score: %.5f' % (i,v))"
   ]
  },
  {
   "cell_type": "code",
   "execution_count": 752,
   "metadata": {},
   "outputs": [
    {
     "data": {
      "image/png": "[encoded data removed]",
      "text/plain": [
       "<Figure size 720x720 with 1 Axes>"
      ]
     },
     "metadata": {
      "needs_background": "light"
     },
     "output_type": "display_data"
    }
   ],
   "source": [
    "# plot feature importance\n",
    "plt.bar([x for x in range(len(importance))], importance)\n",
    "plt.rcParams['axes.unicode_minus'] = False\n",
    "plt.show()"
   ]
  },
  {
   "cell_type": "code",
   "execution_count": 753,
   "metadata": {},
   "outputs": [],
   "source": [
    "feature_importance = 100.0 * (importance / importance.max())\n",
    "sorted_idx = np.argsort(feature_importance)\n",
    "pos = np.arange(sorted_idx.shape[0]) + .5"
   ]
  },
  {
   "cell_type": "code",
   "execution_count": 754,
   "metadata": {
    "scrolled": false
   },
   "outputs": [
    {
     "data": {
      "image/png": "[encoded data removed]",
      "text/plain": [
       "<Figure size 720x720 with 1 Axes>"
      ]
     },
     "metadata": {
      "needs_background": "light"
     },
     "output_type": "display_data"
    }
   ],
   "source": [
    "featfig = plt.figure()\n",
    "featax = featfig.add_subplot(1, 1, 1)\n",
    "featax.barh(pos, feature_importance[sorted_idx], align='center')\n",
    "featax.set_yticks(pos)\n",
    "featax.set_yticklabels(np.array(X.columns)[sorted_idx], fontsize=8)\n",
    "featax.set_xlabel('Relative Feature Importance (%)')\n",
    "\n",
    "plt.tight_layout()\n",
    "# plt.title('로지스틱 회귀 - 상대적 변수 중요도 (교통사고 유:무 = 1000:1 샘플링)')\n",
    "plt.title('로지스틱 회귀 - 상대적 변수 중요도')\n",
    "\n",
    "plt.rcParams['figure.figsize'] = (10, 10)\n",
    "plt.rcParams['font.family'] = 'AppleGothic'\n",
    "plt.rcParams['font.size'] = 12\n",
    "plt.grid()\n",
    "plt.show()"
   ]
  },
  {
   "cell_type": "code",
   "execution_count": null,
   "metadata": {},
   "outputs": [],
   "source": []
  },
  {
   "cell_type": "code",
   "execution_count": null,
   "metadata": {},
   "outputs": [],
   "source": []
  },
  {
   "cell_type": "markdown",
   "metadata": {},
   "source": [
    "# 시간구분별 유동인구,  TOPIS-소통정보, 기상정보 - 교통사고 예측분석 (가설 검정)"
   ]
  },
  {
   "cell_type": "code",
   "execution_count": 801,
   "metadata": {},
   "outputs": [],
   "source": [
    "pop_topis_kma = pd.DataFrame()"
   ]
  },
  {
   "cell_type": "code",
   "execution_count": 802,
   "metadata": {},
   "outputs": [],
   "source": [
    "pop_topis_kma['pop_22_07시'] = (final_data['pop_22시'] + final_data['pop_23시'] + final_data['pop_0시'] + final_data['pop_1시'] + final_data['pop_2시'] +\n",
    "                        final_data['pop_3시'] + final_data['pop_4시'] + final_data['pop_5시'] + final_data['pop_6시']) / 9\n",
    "pop_topis_kma['pop_07_09시'] = (final_data['pop_7시'] + final_data['pop_8시']) / 2\n",
    "pop_topis_kma['pop_09_19시'] = (final_data['pop_9시'] + final_data['pop_10시'] + final_data['pop_11시'] + final_data['pop_12시'] +\n",
    "                          final_data['pop_13시'] + final_data['pop_14시'] + final_data['pop_15시'] + final_data['pop_16시'] +\n",
    "                          +final_data['pop_17시'] + final_data['pop_18시']) / 10\n",
    "pop_topis_kma['pop_19_22시'] = (final_data['pop_19시'] + final_data['pop_20시'] + final_data['pop_21시']) / 3"
   ]
  },
  {
   "cell_type": "code",
   "execution_count": 803,
   "metadata": {},
   "outputs": [],
   "source": [
    "pop_topis_kma['topis_22_07시'] = (final_data['topis_22시'] + final_data['topis_23시'] + final_data['topis_0시'] + final_data['topis_1시'] + final_data['topis_2시'] +\n",
    "                        final_data['topis_3시'] + final_data['topis_4시'] + final_data['topis_5시'] + final_data['topis_6시']) / 9\n",
    "pop_topis_kma['topis_07_09시'] = (final_data['topis_7시'] + final_data['topis_8시']) / 2\n",
    "pop_topis_kma['topis_09_19시'] = (final_data['topis_9시'] + final_data['topis_10시'] + final_data['topis_11시'] + final_data['topis_12시'] +\n",
    "                          final_data['topis_13시'] + final_data['topis_14시'] + final_data['topis_15시'] + final_data['topis_16시'] +\n",
    "                          +final_data['topis_17시'] + final_data['topis_18시']) / 10\n",
    "pop_topis_kma['topis_19_22시'] = (final_data['topis_19시'] + final_data['topis_20시'] + final_data['topis_21시']) / 3"
   ]
  },
  {
   "cell_type": "code",
   "execution_count": 804,
   "metadata": {},
   "outputs": [],
   "source": [
    "pop_topis_kma['TEMP'] = final_data['TEMP']\n",
    "pop_topis_kma['HM'] = final_data['HM']\n",
    "pop_topis_kma['RF'] = final_data['RF']\n",
    "pop_topis_kma['WD'] = final_data['WD']\n",
    "pop_topis_kma['WS'] = final_data['WS']\n",
    "pop_topis_kma['SAGO_YN'] = final_data['SAGO_YN']"
   ]
  },
  {
   "cell_type": "code",
   "execution_count": 805,
   "metadata": {},
   "outputs": [
    {
     "data": {
      "text/html": [
       "<div>\n",
       "<style scoped>\n",
       "    .dataframe tbody tr th:only-of-type {\n",
       "        vertical-align: middle;\n",
       "    }\n",
       "\n",
       "    .dataframe tbody tr th {\n",
       "        vertical-align: top;\n",
       "    }\n",
       "\n",
       "    .dataframe thead th {\n",
       "        text-align: right;\n",
       "    }\n",
       "</style>\n",
       "<table border=\"1\" class=\"dataframe\">\n",
       "  <thead>\n",
       "    <tr style=\"text-align: right;\">\n",
       "      <th></th>\n",
       "      <th>pop_22_07시</th>\n",
       "      <th>pop_07_09시</th>\n",
       "      <th>pop_09_19시</th>\n",
       "      <th>pop_19_22시</th>\n",
       "      <th>topis_22_07시</th>\n",
       "      <th>topis_07_09시</th>\n",
       "      <th>topis_09_19시</th>\n",
       "      <th>topis_19_22시</th>\n",
       "      <th>TEMP</th>\n",
       "      <th>HM</th>\n",
       "      <th>RF</th>\n",
       "      <th>WD</th>\n",
       "      <th>WS</th>\n",
       "      <th>SAGO_YN</th>\n",
       "    </tr>\n",
       "  </thead>\n",
       "  <tbody>\n",
       "    <tr>\n",
       "      <th>0</th>\n",
       "      <td>25.60313</td>\n",
       "      <td>24.93281</td>\n",
       "      <td>40.05531</td>\n",
       "      <td>37.09042</td>\n",
       "      <td>34.73111</td>\n",
       "      <td>40.13500</td>\n",
       "      <td>21.24500</td>\n",
       "      <td>25.97667</td>\n",
       "      <td>0.05217</td>\n",
       "      <td>43.57391</td>\n",
       "      <td>0.00000</td>\n",
       "      <td>238.74783</td>\n",
       "      <td>1.39565</td>\n",
       "      <td>N</td>\n",
       "    </tr>\n",
       "    <tr>\n",
       "      <th>1</th>\n",
       "      <td>27.08993</td>\n",
       "      <td>76.92781</td>\n",
       "      <td>129.45788</td>\n",
       "      <td>59.85063</td>\n",
       "      <td>36.44889</td>\n",
       "      <td>23.96500</td>\n",
       "      <td>20.31700</td>\n",
       "      <td>23.32333</td>\n",
       "      <td>-0.62083</td>\n",
       "      <td>50.27500</td>\n",
       "      <td>0.00000</td>\n",
       "      <td>275.63750</td>\n",
       "      <td>2.27083</td>\n",
       "      <td>N</td>\n",
       "    </tr>\n",
       "    <tr>\n",
       "      <th>2</th>\n",
       "      <td>28.85729</td>\n",
       "      <td>75.24281</td>\n",
       "      <td>131.00294</td>\n",
       "      <td>57.49083</td>\n",
       "      <td>35.76222</td>\n",
       "      <td>24.81000</td>\n",
       "      <td>19.88900</td>\n",
       "      <td>22.51333</td>\n",
       "      <td>-3.84167</td>\n",
       "      <td>46.32500</td>\n",
       "      <td>0.00000</td>\n",
       "      <td>301.15833</td>\n",
       "      <td>3.12083</td>\n",
       "      <td>N</td>\n",
       "    </tr>\n",
       "    <tr>\n",
       "      <th>3</th>\n",
       "      <td>29.46361</td>\n",
       "      <td>74.22156</td>\n",
       "      <td>129.02338</td>\n",
       "      <td>60.48896</td>\n",
       "      <td>34.82000</td>\n",
       "      <td>23.62500</td>\n",
       "      <td>20.18900</td>\n",
       "      <td>23.27000</td>\n",
       "      <td>-4.26667</td>\n",
       "      <td>48.38333</td>\n",
       "      <td>0.00000</td>\n",
       "      <td>260.13750</td>\n",
       "      <td>2.02500</td>\n",
       "      <td>N</td>\n",
       "    </tr>\n",
       "    <tr>\n",
       "      <th>4</th>\n",
       "      <td>30.14875</td>\n",
       "      <td>75.39344</td>\n",
       "      <td>127.54294</td>\n",
       "      <td>69.82729</td>\n",
       "      <td>36.54889</td>\n",
       "      <td>25.04500</td>\n",
       "      <td>18.59600</td>\n",
       "      <td>12.21333</td>\n",
       "      <td>-2.05000</td>\n",
       "      <td>52.32083</td>\n",
       "      <td>0.00000</td>\n",
       "      <td>319.78750</td>\n",
       "      <td>1.87917</td>\n",
       "      <td>N</td>\n",
       "    </tr>\n",
       "  </tbody>\n",
       "</table>\n",
       "</div>"
      ],
      "text/plain": [
       "   pop_22_07시  pop_07_09시  pop_09_19시  pop_19_22시  topis_22_07시  topis_07_09시  \\\n",
       "0    25.60313    24.93281    40.05531    37.09042      34.73111      40.13500   \n",
       "1    27.08993    76.92781   129.45788    59.85063      36.44889      23.96500   \n",
       "2    28.85729    75.24281   131.00294    57.49083      35.76222      24.81000   \n",
       "3    29.46361    74.22156   129.02338    60.48896      34.82000      23.62500   \n",
       "4    30.14875    75.39344   127.54294    69.82729      36.54889      25.04500   \n",
       "\n",
       "   topis_09_19시  topis_19_22시     TEMP       HM      RF        WD      WS  \\\n",
       "0      21.24500      25.97667  0.05217 43.57391 0.00000 238.74783 1.39565   \n",
       "1      20.31700      23.32333 -0.62083 50.27500 0.00000 275.63750 2.27083   \n",
       "2      19.88900      22.51333 -3.84167 46.32500 0.00000 301.15833 3.12083   \n",
       "3      20.18900      23.27000 -4.26667 48.38333 0.00000 260.13750 2.02500   \n",
       "4      18.59600      12.21333 -2.05000 52.32083 0.00000 319.78750 1.87917   \n",
       "\n",
       "  SAGO_YN  \n",
       "0       N  \n",
       "1       N  \n",
       "2       N  \n",
       "3       N  \n",
       "4       N  "
      ]
     },
     "execution_count": 805,
     "metadata": {},
     "output_type": "execute_result"
    }
   ],
   "source": [
    "pop_topis_kma.head()"
   ]
  },
  {
   "cell_type": "code",
   "execution_count": 806,
   "metadata": {},
   "outputs": [
    {
     "data": {
      "text/html": [
       "<div>\n",
       "<style scoped>\n",
       "    .dataframe tbody tr th:only-of-type {\n",
       "        vertical-align: middle;\n",
       "    }\n",
       "\n",
       "    .dataframe tbody tr th {\n",
       "        vertical-align: top;\n",
       "    }\n",
       "\n",
       "    .dataframe thead th {\n",
       "        text-align: right;\n",
       "    }\n",
       "</style>\n",
       "<table border=\"1\" class=\"dataframe\">\n",
       "  <thead>\n",
       "    <tr style=\"text-align: right;\">\n",
       "      <th></th>\n",
       "      <th>pop_22_07시</th>\n",
       "      <th>pop_07_09시</th>\n",
       "      <th>pop_09_19시</th>\n",
       "      <th>pop_19_22시</th>\n",
       "      <th>topis_22_07시</th>\n",
       "      <th>topis_07_09시</th>\n",
       "      <th>topis_09_19시</th>\n",
       "      <th>topis_19_22시</th>\n",
       "      <th>TEMP</th>\n",
       "      <th>HM</th>\n",
       "      <th>RF</th>\n",
       "      <th>WD</th>\n",
       "      <th>WS</th>\n",
       "    </tr>\n",
       "  </thead>\n",
       "  <tbody>\n",
       "    <tr>\n",
       "      <th>count</th>\n",
       "      <td>664178.00000</td>\n",
       "      <td>664178.00000</td>\n",
       "      <td>664178.00000</td>\n",
       "      <td>664178.00000</td>\n",
       "      <td>664178.00000</td>\n",
       "      <td>664178.00000</td>\n",
       "      <td>664178.00000</td>\n",
       "      <td>664178.00000</td>\n",
       "      <td>664178.00000</td>\n",
       "      <td>664178.00000</td>\n",
       "      <td>664178.00000</td>\n",
       "      <td>664178.00000</td>\n",
       "      <td>664178.00000</td>\n",
       "    </tr>\n",
       "    <tr>\n",
       "      <th>mean</th>\n",
       "      <td>108.90585</td>\n",
       "      <td>142.37381</td>\n",
       "      <td>188.81486</td>\n",
       "      <td>158.15634</td>\n",
       "      <td>31.61562</td>\n",
       "      <td>27.71120</td>\n",
       "      <td>23.83946</td>\n",
       "      <td>25.16541</td>\n",
       "      <td>12.14367</td>\n",
       "      <td>58.29604</td>\n",
       "      <td>0.10613</td>\n",
       "      <td>191.42595</td>\n",
       "      <td>1.77433</td>\n",
       "    </tr>\n",
       "    <tr>\n",
       "      <th>std</th>\n",
       "      <td>105.87213</td>\n",
       "      <td>128.68960</td>\n",
       "      <td>177.14699</td>\n",
       "      <td>154.12335</td>\n",
       "      <td>9.18328</td>\n",
       "      <td>8.42066</td>\n",
       "      <td>7.85595</td>\n",
       "      <td>8.02635</td>\n",
       "      <td>10.67260</td>\n",
       "      <td>10.31958</td>\n",
       "      <td>0.42354</td>\n",
       "      <td>66.04745</td>\n",
       "      <td>0.83886</td>\n",
       "    </tr>\n",
       "    <tr>\n",
       "      <th>min</th>\n",
       "      <td>0.00222</td>\n",
       "      <td>0.00000</td>\n",
       "      <td>0.00050</td>\n",
       "      <td>0.00000</td>\n",
       "      <td>7.35333</td>\n",
       "      <td>4.16500</td>\n",
       "      <td>2.85800</td>\n",
       "      <td>2.77667</td>\n",
       "      <td>-19.87917</td>\n",
       "      <td>-99.90000</td>\n",
       "      <td>0.00000</td>\n",
       "      <td>0.00000</td>\n",
       "      <td>0.00000</td>\n",
       "    </tr>\n",
       "    <tr>\n",
       "      <th>25%</th>\n",
       "      <td>33.73611</td>\n",
       "      <td>46.84564</td>\n",
       "      <td>54.86366</td>\n",
       "      <td>46.33212</td>\n",
       "      <td>26.80111</td>\n",
       "      <td>23.36000</td>\n",
       "      <td>19.32300</td>\n",
       "      <td>20.75333</td>\n",
       "      <td>3.71250</td>\n",
       "      <td>57.80833</td>\n",
       "      <td>0.00000</td>\n",
       "      <td>144.12500</td>\n",
       "      <td>1.18333</td>\n",
       "    </tr>\n",
       "    <tr>\n",
       "      <th>50%</th>\n",
       "      <td>75.96571</td>\n",
       "      <td>105.50964</td>\n",
       "      <td>133.50167</td>\n",
       "      <td>109.61217</td>\n",
       "      <td>30.15222</td>\n",
       "      <td>26.78500</td>\n",
       "      <td>23.09500</td>\n",
       "      <td>24.42333</td>\n",
       "      <td>12.72083</td>\n",
       "      <td>57.80833</td>\n",
       "      <td>0.00000</td>\n",
       "      <td>191.72917</td>\n",
       "      <td>1.59167</td>\n",
       "    </tr>\n",
       "    <tr>\n",
       "      <th>75%</th>\n",
       "      <td>151.48200</td>\n",
       "      <td>203.45797</td>\n",
       "      <td>270.93121</td>\n",
       "      <td>224.42993</td>\n",
       "      <td>33.75889</td>\n",
       "      <td>30.47000</td>\n",
       "      <td>26.69500</td>\n",
       "      <td>28.18000</td>\n",
       "      <td>21.24583</td>\n",
       "      <td>57.80833</td>\n",
       "      <td>0.00000</td>\n",
       "      <td>239.15417</td>\n",
       "      <td>2.14583</td>\n",
       "    </tr>\n",
       "    <tr>\n",
       "      <th>max</th>\n",
       "      <td>1039.28444</td>\n",
       "      <td>1287.14125</td>\n",
       "      <td>1406.68908</td>\n",
       "      <td>1754.62923</td>\n",
       "      <td>108.50000</td>\n",
       "      <td>110.87500</td>\n",
       "      <td>90.42500</td>\n",
       "      <td>90.55667</td>\n",
       "      <td>34.35000</td>\n",
       "      <td>99.59583</td>\n",
       "      <td>7.87500</td>\n",
       "      <td>351.20000</td>\n",
       "      <td>6.84091</td>\n",
       "    </tr>\n",
       "  </tbody>\n",
       "</table>\n",
       "</div>"
      ],
      "text/plain": [
       "        pop_22_07시   pop_07_09시   pop_09_19시   pop_19_22시  topis_22_07시  \\\n",
       "count 664178.00000 664178.00000 664178.00000 664178.00000  664178.00000   \n",
       "mean     108.90585    142.37381    188.81486    158.15634      31.61562   \n",
       "std      105.87213    128.68960    177.14699    154.12335       9.18328   \n",
       "min        0.00222      0.00000      0.00050      0.00000       7.35333   \n",
       "25%       33.73611     46.84564     54.86366     46.33212      26.80111   \n",
       "50%       75.96571    105.50964    133.50167    109.61217      30.15222   \n",
       "75%      151.48200    203.45797    270.93121    224.42993      33.75889   \n",
       "max     1039.28444   1287.14125   1406.68908   1754.62923     108.50000   \n",
       "\n",
       "       topis_07_09시  topis_09_19시  topis_19_22시         TEMP           HM  \\\n",
       "count  664178.00000  664178.00000  664178.00000 664178.00000 664178.00000   \n",
       "mean       27.71120      23.83946      25.16541     12.14367     58.29604   \n",
       "std         8.42066       7.85595       8.02635     10.67260     10.31958   \n",
       "min         4.16500       2.85800       2.77667    -19.87917    -99.90000   \n",
       "25%        23.36000      19.32300      20.75333      3.71250     57.80833   \n",
       "50%        26.78500      23.09500      24.42333     12.72083     57.80833   \n",
       "75%        30.47000      26.69500      28.18000     21.24583     57.80833   \n",
       "max       110.87500      90.42500      90.55667     34.35000     99.59583   \n",
       "\n",
       "                RF           WD           WS  \n",
       "count 664178.00000 664178.00000 664178.00000  \n",
       "mean       0.10613    191.42595      1.77433  \n",
       "std        0.42354     66.04745      0.83886  \n",
       "min        0.00000      0.00000      0.00000  \n",
       "25%        0.00000    144.12500      1.18333  \n",
       "50%        0.00000    191.72917      1.59167  \n",
       "75%        0.00000    239.15417      2.14583  \n",
       "max        7.87500    351.20000      6.84091  "
      ]
     },
     "execution_count": 806,
     "metadata": {},
     "output_type": "execute_result"
    }
   ],
   "source": [
    "pop_topis_kma.describe()"
   ]
  },
  {
   "cell_type": "code",
   "execution_count": 807,
   "metadata": {},
   "outputs": [
    {
     "data": {
      "text/html": [
       "<div>\n",
       "<style scoped>\n",
       "    .dataframe tbody tr th:only-of-type {\n",
       "        vertical-align: middle;\n",
       "    }\n",
       "\n",
       "    .dataframe tbody tr th {\n",
       "        vertical-align: top;\n",
       "    }\n",
       "\n",
       "    .dataframe thead th {\n",
       "        text-align: right;\n",
       "    }\n",
       "</style>\n",
       "<table border=\"1\" class=\"dataframe\">\n",
       "  <thead>\n",
       "    <tr style=\"text-align: right;\">\n",
       "      <th></th>\n",
       "      <th>pop_22_07시</th>\n",
       "      <th>pop_07_09시</th>\n",
       "      <th>pop_09_19시</th>\n",
       "      <th>pop_19_22시</th>\n",
       "      <th>topis_22_07시</th>\n",
       "      <th>topis_07_09시</th>\n",
       "      <th>topis_09_19시</th>\n",
       "      <th>topis_19_22시</th>\n",
       "      <th>TEMP</th>\n",
       "      <th>HM</th>\n",
       "      <th>RF</th>\n",
       "      <th>WD</th>\n",
       "      <th>WS</th>\n",
       "      <th>SAGO_YN</th>\n",
       "    </tr>\n",
       "  </thead>\n",
       "  <tbody>\n",
       "    <tr>\n",
       "      <th>0</th>\n",
       "      <td>25.60313</td>\n",
       "      <td>24.93281</td>\n",
       "      <td>40.05531</td>\n",
       "      <td>37.09042</td>\n",
       "      <td>34.73111</td>\n",
       "      <td>40.13500</td>\n",
       "      <td>21.24500</td>\n",
       "      <td>25.97667</td>\n",
       "      <td>0.05217</td>\n",
       "      <td>43.57391</td>\n",
       "      <td>0.00000</td>\n",
       "      <td>238.74783</td>\n",
       "      <td>1.39565</td>\n",
       "      <td>N</td>\n",
       "    </tr>\n",
       "    <tr>\n",
       "      <th>1</th>\n",
       "      <td>27.08993</td>\n",
       "      <td>76.92781</td>\n",
       "      <td>129.45788</td>\n",
       "      <td>59.85063</td>\n",
       "      <td>36.44889</td>\n",
       "      <td>23.96500</td>\n",
       "      <td>20.31700</td>\n",
       "      <td>23.32333</td>\n",
       "      <td>-0.62083</td>\n",
       "      <td>50.27500</td>\n",
       "      <td>0.00000</td>\n",
       "      <td>275.63750</td>\n",
       "      <td>2.27083</td>\n",
       "      <td>N</td>\n",
       "    </tr>\n",
       "    <tr>\n",
       "      <th>2</th>\n",
       "      <td>28.85729</td>\n",
       "      <td>75.24281</td>\n",
       "      <td>131.00294</td>\n",
       "      <td>57.49083</td>\n",
       "      <td>35.76222</td>\n",
       "      <td>24.81000</td>\n",
       "      <td>19.88900</td>\n",
       "      <td>22.51333</td>\n",
       "      <td>-3.84167</td>\n",
       "      <td>46.32500</td>\n",
       "      <td>0.00000</td>\n",
       "      <td>301.15833</td>\n",
       "      <td>3.12083</td>\n",
       "      <td>N</td>\n",
       "    </tr>\n",
       "    <tr>\n",
       "      <th>3</th>\n",
       "      <td>29.46361</td>\n",
       "      <td>74.22156</td>\n",
       "      <td>129.02338</td>\n",
       "      <td>60.48896</td>\n",
       "      <td>34.82000</td>\n",
       "      <td>23.62500</td>\n",
       "      <td>20.18900</td>\n",
       "      <td>23.27000</td>\n",
       "      <td>-4.26667</td>\n",
       "      <td>48.38333</td>\n",
       "      <td>0.00000</td>\n",
       "      <td>260.13750</td>\n",
       "      <td>2.02500</td>\n",
       "      <td>N</td>\n",
       "    </tr>\n",
       "    <tr>\n",
       "      <th>4</th>\n",
       "      <td>30.14875</td>\n",
       "      <td>75.39344</td>\n",
       "      <td>127.54294</td>\n",
       "      <td>69.82729</td>\n",
       "      <td>36.54889</td>\n",
       "      <td>25.04500</td>\n",
       "      <td>18.59600</td>\n",
       "      <td>12.21333</td>\n",
       "      <td>-2.05000</td>\n",
       "      <td>52.32083</td>\n",
       "      <td>0.00000</td>\n",
       "      <td>319.78750</td>\n",
       "      <td>1.87917</td>\n",
       "      <td>N</td>\n",
       "    </tr>\n",
       "    <tr>\n",
       "      <th>...</th>\n",
       "      <td>...</td>\n",
       "      <td>...</td>\n",
       "      <td>...</td>\n",
       "      <td>...</td>\n",
       "      <td>...</td>\n",
       "      <td>...</td>\n",
       "      <td>...</td>\n",
       "      <td>...</td>\n",
       "      <td>...</td>\n",
       "      <td>...</td>\n",
       "      <td>...</td>\n",
       "      <td>...</td>\n",
       "      <td>...</td>\n",
       "      <td>...</td>\n",
       "    </tr>\n",
       "    <tr>\n",
       "      <th>664173</th>\n",
       "      <td>135.73582</td>\n",
       "      <td>125.63441</td>\n",
       "      <td>94.36059</td>\n",
       "      <td>109.84569</td>\n",
       "      <td>30.15222</td>\n",
       "      <td>26.78500</td>\n",
       "      <td>23.09500</td>\n",
       "      <td>24.42333</td>\n",
       "      <td>24.73750</td>\n",
       "      <td>57.80833</td>\n",
       "      <td>0.00000</td>\n",
       "      <td>130.85000</td>\n",
       "      <td>1.00000</td>\n",
       "      <td>N</td>\n",
       "    </tr>\n",
       "    <tr>\n",
       "      <th>664174</th>\n",
       "      <td>135.07595</td>\n",
       "      <td>125.18441</td>\n",
       "      <td>90.25371</td>\n",
       "      <td>108.91922</td>\n",
       "      <td>30.15222</td>\n",
       "      <td>26.78500</td>\n",
       "      <td>23.09500</td>\n",
       "      <td>24.42333</td>\n",
       "      <td>24.95833</td>\n",
       "      <td>57.80833</td>\n",
       "      <td>0.02083</td>\n",
       "      <td>144.72083</td>\n",
       "      <td>1.00833</td>\n",
       "      <td>N</td>\n",
       "    </tr>\n",
       "    <tr>\n",
       "      <th>664175</th>\n",
       "      <td>134.31013</td>\n",
       "      <td>125.60059</td>\n",
       "      <td>90.52788</td>\n",
       "      <td>108.86431</td>\n",
       "      <td>30.15222</td>\n",
       "      <td>26.78500</td>\n",
       "      <td>23.09500</td>\n",
       "      <td>24.42333</td>\n",
       "      <td>24.28333</td>\n",
       "      <td>57.80833</td>\n",
       "      <td>0.00000</td>\n",
       "      <td>187.62083</td>\n",
       "      <td>0.75833</td>\n",
       "      <td>N</td>\n",
       "    </tr>\n",
       "    <tr>\n",
       "      <th>664176</th>\n",
       "      <td>144.38725</td>\n",
       "      <td>141.13676</td>\n",
       "      <td>118.76588</td>\n",
       "      <td>116.72039</td>\n",
       "      <td>30.15222</td>\n",
       "      <td>26.78500</td>\n",
       "      <td>23.09500</td>\n",
       "      <td>24.42333</td>\n",
       "      <td>21.95000</td>\n",
       "      <td>57.80833</td>\n",
       "      <td>0.04167</td>\n",
       "      <td>78.75833</td>\n",
       "      <td>1.15833</td>\n",
       "      <td>N</td>\n",
       "    </tr>\n",
       "    <tr>\n",
       "      <th>664177</th>\n",
       "      <td>144.92464</td>\n",
       "      <td>140.63353</td>\n",
       "      <td>120.37800</td>\n",
       "      <td>128.70333</td>\n",
       "      <td>30.15222</td>\n",
       "      <td>26.78500</td>\n",
       "      <td>23.09500</td>\n",
       "      <td>24.42333</td>\n",
       "      <td>23.39583</td>\n",
       "      <td>57.80833</td>\n",
       "      <td>0.00000</td>\n",
       "      <td>201.45833</td>\n",
       "      <td>1.21250</td>\n",
       "      <td>N</td>\n",
       "    </tr>\n",
       "  </tbody>\n",
       "</table>\n",
       "<p>664178 rows × 14 columns</p>\n",
       "</div>"
      ],
      "text/plain": [
       "        pop_22_07시  pop_07_09시  pop_09_19시  pop_19_22시  topis_22_07시  \\\n",
       "0         25.60313    24.93281    40.05531    37.09042      34.73111   \n",
       "1         27.08993    76.92781   129.45788    59.85063      36.44889   \n",
       "2         28.85729    75.24281   131.00294    57.49083      35.76222   \n",
       "3         29.46361    74.22156   129.02338    60.48896      34.82000   \n",
       "4         30.14875    75.39344   127.54294    69.82729      36.54889   \n",
       "...            ...         ...         ...         ...           ...   \n",
       "664173   135.73582   125.63441    94.36059   109.84569      30.15222   \n",
       "664174   135.07595   125.18441    90.25371   108.91922      30.15222   \n",
       "664175   134.31013   125.60059    90.52788   108.86431      30.15222   \n",
       "664176   144.38725   141.13676   118.76588   116.72039      30.15222   \n",
       "664177   144.92464   140.63353   120.37800   128.70333      30.15222   \n",
       "\n",
       "        topis_07_09시  topis_09_19시  topis_19_22시     TEMP       HM      RF  \\\n",
       "0           40.13500      21.24500      25.97667  0.05217 43.57391 0.00000   \n",
       "1           23.96500      20.31700      23.32333 -0.62083 50.27500 0.00000   \n",
       "2           24.81000      19.88900      22.51333 -3.84167 46.32500 0.00000   \n",
       "3           23.62500      20.18900      23.27000 -4.26667 48.38333 0.00000   \n",
       "4           25.04500      18.59600      12.21333 -2.05000 52.32083 0.00000   \n",
       "...              ...           ...           ...      ...      ...     ...   \n",
       "664173      26.78500      23.09500      24.42333 24.73750 57.80833 0.00000   \n",
       "664174      26.78500      23.09500      24.42333 24.95833 57.80833 0.02083   \n",
       "664175      26.78500      23.09500      24.42333 24.28333 57.80833 0.00000   \n",
       "664176      26.78500      23.09500      24.42333 21.95000 57.80833 0.04167   \n",
       "664177      26.78500      23.09500      24.42333 23.39583 57.80833 0.00000   \n",
       "\n",
       "              WD      WS SAGO_YN  \n",
       "0      238.74783 1.39565       N  \n",
       "1      275.63750 2.27083       N  \n",
       "2      301.15833 3.12083       N  \n",
       "3      260.13750 2.02500       N  \n",
       "4      319.78750 1.87917       N  \n",
       "...          ...     ...     ...  \n",
       "664173 130.85000 1.00000       N  \n",
       "664174 144.72083 1.00833       N  \n",
       "664175 187.62083 0.75833       N  \n",
       "664176  78.75833 1.15833       N  \n",
       "664177 201.45833 1.21250       N  \n",
       "\n",
       "[664178 rows x 14 columns]"
      ]
     },
     "execution_count": 807,
     "metadata": {},
     "output_type": "execute_result"
    }
   ],
   "source": [
    "pop_topis_kma.fillna(pop_topis_kma.median())"
   ]
  },
  {
   "cell_type": "code",
   "execution_count": 808,
   "metadata": {},
   "outputs": [],
   "source": [
    "pop_topis_kma['SAGO_YN'] = pop_topis_kma.apply(lambda x: 1 if x['SAGO_YN'] == 'Y' else 0, axis = 1)"
   ]
  },
  {
   "cell_type": "code",
   "execution_count": 809,
   "metadata": {},
   "outputs": [
    {
     "data": {
      "text/plain": [
       "0    660573\n",
       "1      3605\n",
       "Name: SAGO_YN, dtype: int64"
      ]
     },
     "execution_count": 809,
     "metadata": {},
     "output_type": "execute_result"
    }
   ],
   "source": [
    "pop_topis_kma['SAGO_YN'].value_counts()"
   ]
  },
  {
   "cell_type": "code",
   "execution_count": 810,
   "metadata": {},
   "outputs": [
    {
     "name": "stdout",
     "output_type": "stream",
     "text": [
      "[[-0.98008223 -1.043719   -0.98101709 ... -0.25091304  0.81567545\n",
      "  -0.43240731]\n",
      " [-0.01969067 -0.26680852 -0.39586413 ... -0.25091304  2.03575472\n",
      "   1.55892959]\n",
      " [-0.64744975 -0.76677175 -0.86248077 ... -0.25091304  1.11298342\n",
      "  -0.83464743]\n",
      " ...\n",
      " [-0.83474034 -0.81800009 -0.69330764 ... -0.25091304  0.00752511\n",
      "   0.08404914]\n",
      " [-0.83879774 -0.3493748  -0.4059445  ... -0.20152291  0.75738718\n",
      "   1.22621245]\n",
      " [ 0.90609131  2.33939099  1.4206288  ... -0.25091304  1.01028506\n",
      "   0.55581225]]\n"
     ]
    },
    {
     "data": {
      "text/plain": [
       "LogisticRegression(C=1.0, class_weight=None, dual=False, fit_intercept=True,\n",
       "                   intercept_scaling=1, l1_ratio=None, max_iter=100,\n",
       "                   multi_class='auto', n_jobs=None, penalty='l2',\n",
       "                   random_state=777, solver='lbfgs', tol=0.0001, verbose=0,\n",
       "                   warm_start=False)"
      ]
     },
     "execution_count": 810,
     "metadata": {},
     "output_type": "execute_result"
    }
   ],
   "source": [
    "X = pop_topis_kma.iloc[:, 0:-1]\n",
    "Y = pop_topis_kma.iloc[:, -1]\n",
    "\n",
    "X_train, X_test, Y_train, Y_test = train_test_split(X, Y, test_size = 0.2, random_state = 42)\n",
    "\n",
    "# 표준화: 평균 0, 분산 1\n",
    "sc = StandardScaler()\n",
    "X_std = sc.fit_transform(X_train)\n",
    "print(X_std)\n",
    "\n",
    "# weights = {0:1.0, 1: 1000.0}\n",
    "\n",
    "# define model\n",
    "# model = LogisticRegression(random_state = 0, class_weight = 'balanced', solver = 'lbfgs')\n",
    "# model = LogisticRegression(random_state = 0, class_weight = weights, solver = 'lbfgs')\n",
    "model = LogisticRegression(random_state = 777, solver = 'lbfgs')\n",
    "\n",
    "# fit the model\n",
    "model.fit(X_std, Y_train)"
   ]
  },
  {
   "cell_type": "code",
   "execution_count": 811,
   "metadata": {},
   "outputs": [
    {
     "data": {
      "text/html": [
       "<div>\n",
       "<style scoped>\n",
       "    .dataframe tbody tr th:only-of-type {\n",
       "        vertical-align: middle;\n",
       "    }\n",
       "\n",
       "    .dataframe tbody tr th {\n",
       "        vertical-align: top;\n",
       "    }\n",
       "\n",
       "    .dataframe thead th {\n",
       "        text-align: right;\n",
       "    }\n",
       "</style>\n",
       "<table border=\"1\" class=\"dataframe\">\n",
       "  <thead>\n",
       "    <tr style=\"text-align: right;\">\n",
       "      <th></th>\n",
       "      <th>pop_22_07시</th>\n",
       "      <th>pop_07_09시</th>\n",
       "      <th>pop_09_19시</th>\n",
       "      <th>pop_19_22시</th>\n",
       "      <th>topis_22_07시</th>\n",
       "      <th>topis_07_09시</th>\n",
       "      <th>topis_09_19시</th>\n",
       "      <th>topis_19_22시</th>\n",
       "      <th>TEMP</th>\n",
       "      <th>HM</th>\n",
       "      <th>RF</th>\n",
       "      <th>WD</th>\n",
       "      <th>WS</th>\n",
       "    </tr>\n",
       "  </thead>\n",
       "  <tbody>\n",
       "    <tr>\n",
       "      <th>0</th>\n",
       "      <td>25.60313</td>\n",
       "      <td>24.93281</td>\n",
       "      <td>40.05531</td>\n",
       "      <td>37.09042</td>\n",
       "      <td>34.73111</td>\n",
       "      <td>40.13500</td>\n",
       "      <td>21.24500</td>\n",
       "      <td>25.97667</td>\n",
       "      <td>0.05217</td>\n",
       "      <td>43.57391</td>\n",
       "      <td>0.00000</td>\n",
       "      <td>238.74783</td>\n",
       "      <td>1.39565</td>\n",
       "    </tr>\n",
       "    <tr>\n",
       "      <th>1</th>\n",
       "      <td>27.08993</td>\n",
       "      <td>76.92781</td>\n",
       "      <td>129.45788</td>\n",
       "      <td>59.85063</td>\n",
       "      <td>36.44889</td>\n",
       "      <td>23.96500</td>\n",
       "      <td>20.31700</td>\n",
       "      <td>23.32333</td>\n",
       "      <td>-0.62083</td>\n",
       "      <td>50.27500</td>\n",
       "      <td>0.00000</td>\n",
       "      <td>275.63750</td>\n",
       "      <td>2.27083</td>\n",
       "    </tr>\n",
       "    <tr>\n",
       "      <th>2</th>\n",
       "      <td>28.85729</td>\n",
       "      <td>75.24281</td>\n",
       "      <td>131.00294</td>\n",
       "      <td>57.49083</td>\n",
       "      <td>35.76222</td>\n",
       "      <td>24.81000</td>\n",
       "      <td>19.88900</td>\n",
       "      <td>22.51333</td>\n",
       "      <td>-3.84167</td>\n",
       "      <td>46.32500</td>\n",
       "      <td>0.00000</td>\n",
       "      <td>301.15833</td>\n",
       "      <td>3.12083</td>\n",
       "    </tr>\n",
       "    <tr>\n",
       "      <th>3</th>\n",
       "      <td>29.46361</td>\n",
       "      <td>74.22156</td>\n",
       "      <td>129.02338</td>\n",
       "      <td>60.48896</td>\n",
       "      <td>34.82000</td>\n",
       "      <td>23.62500</td>\n",
       "      <td>20.18900</td>\n",
       "      <td>23.27000</td>\n",
       "      <td>-4.26667</td>\n",
       "      <td>48.38333</td>\n",
       "      <td>0.00000</td>\n",
       "      <td>260.13750</td>\n",
       "      <td>2.02500</td>\n",
       "    </tr>\n",
       "    <tr>\n",
       "      <th>4</th>\n",
       "      <td>30.14875</td>\n",
       "      <td>75.39344</td>\n",
       "      <td>127.54294</td>\n",
       "      <td>69.82729</td>\n",
       "      <td>36.54889</td>\n",
       "      <td>25.04500</td>\n",
       "      <td>18.59600</td>\n",
       "      <td>12.21333</td>\n",
       "      <td>-2.05000</td>\n",
       "      <td>52.32083</td>\n",
       "      <td>0.00000</td>\n",
       "      <td>319.78750</td>\n",
       "      <td>1.87917</td>\n",
       "    </tr>\n",
       "  </tbody>\n",
       "</table>\n",
       "</div>"
      ],
      "text/plain": [
       "   pop_22_07시  pop_07_09시  pop_09_19시  pop_19_22시  topis_22_07시  topis_07_09시  \\\n",
       "0    25.60313    24.93281    40.05531    37.09042      34.73111      40.13500   \n",
       "1    27.08993    76.92781   129.45788    59.85063      36.44889      23.96500   \n",
       "2    28.85729    75.24281   131.00294    57.49083      35.76222      24.81000   \n",
       "3    29.46361    74.22156   129.02338    60.48896      34.82000      23.62500   \n",
       "4    30.14875    75.39344   127.54294    69.82729      36.54889      25.04500   \n",
       "\n",
       "   topis_09_19시  topis_19_22시     TEMP       HM      RF        WD      WS  \n",
       "0      21.24500      25.97667  0.05217 43.57391 0.00000 238.74783 1.39565  \n",
       "1      20.31700      23.32333 -0.62083 50.27500 0.00000 275.63750 2.27083  \n",
       "2      19.88900      22.51333 -3.84167 46.32500 0.00000 301.15833 3.12083  \n",
       "3      20.18900      23.27000 -4.26667 48.38333 0.00000 260.13750 2.02500  \n",
       "4      18.59600      12.21333 -2.05000 52.32083 0.00000 319.78750 1.87917  "
      ]
     },
     "execution_count": 811,
     "metadata": {},
     "output_type": "execute_result"
    }
   ],
   "source": [
    "X.head()"
   ]
  },
  {
   "cell_type": "code",
   "execution_count": 812,
   "metadata": {},
   "outputs": [
    {
     "name": "stdout",
     "output_type": "stream",
     "text": [
      "Feature: 0, Score: 0.01727\n",
      "Feature: 1, Score: 0.07176\n",
      "Feature: 2, Score: 0.17688\n",
      "Feature: 3, Score: 0.32167\n",
      "Feature: 4, Score: 0.66466\n",
      "Feature: 5, Score: 0.01459\n",
      "Feature: 6, Score: 0.24691\n",
      "Feature: 7, Score: 0.05598\n",
      "Feature: 8, Score: 0.11663\n",
      "Feature: 9, Score: 0.00128\n",
      "Feature: 10, Score: 0.02130\n",
      "Feature: 11, Score: 0.01586\n",
      "Feature: 12, Score: 0.13634\n"
     ]
    }
   ],
   "source": [
    "# get importance\n",
    "importance = abs(model.coef_[0])\n",
    "\n",
    "# summarize feature importance\n",
    "for i,v in enumerate(importance):\n",
    "    print('Feature: %0d, Score: %.5f' % (i,v))"
   ]
  },
  {
   "cell_type": "code",
   "execution_count": 813,
   "metadata": {},
   "outputs": [
    {
     "data": {
      "image/png": "[encoded data removed]",
      "text/plain": [
       "<Figure size 720x720 with 1 Axes>"
      ]
     },
     "metadata": {
      "needs_background": "light"
     },
     "output_type": "display_data"
    }
   ],
   "source": [
    "# plot feature importance\n",
    "plt.bar([x for x in range(len(importance))], importance)\n",
    "plt.rcParams['axes.unicode_minus'] = False\n",
    "plt.show()"
   ]
  },
  {
   "cell_type": "code",
   "execution_count": 814,
   "metadata": {},
   "outputs": [],
   "source": [
    "feature_importance = 100.0 * (importance / importance.max())\n",
    "sorted_idx = np.argsort(feature_importance)\n",
    "pos = np.arange(sorted_idx.shape[0]) + .5"
   ]
  },
  {
   "cell_type": "code",
   "execution_count": 815,
   "metadata": {},
   "outputs": [
    {
     "data": {
      "image/png": "[encoded data removed]",
      "text/plain": [
       "<Figure size 720x720 with 1 Axes>"
      ]
     },
     "metadata": {
      "needs_background": "light"
     },
     "output_type": "display_data"
    }
   ],
   "source": [
    "featfig = plt.figure()\n",
    "featax = featfig.add_subplot(1, 1, 1)\n",
    "featax.barh(pos, feature_importance[sorted_idx], align='center')\n",
    "featax.set_yticks(pos)\n",
    "featax.set_yticklabels(np.array(X.columns)[sorted_idx], fontsize=8)\n",
    "featax.set_xlabel('Relative Feature Importance (%)')\n",
    "\n",
    "plt.tight_layout()\n",
    "# plt.title('로지스틱 회귀 - 상대적 변수 중요도 (교통사고 유:무 = 1000:1 샘플링)')\n",
    "plt.title('로지스틱 회귀 - 상대적 변수 중요도')\n",
    "\n",
    "plt.rcParams['figure.figsize'] = (10, 10)\n",
    "plt.rcParams['font.family'] = 'AppleGothic'\n",
    "plt.rcParams['font.size'] = 12\n",
    "plt.grid()\n",
    "plt.show()"
   ]
  },
  {
   "cell_type": "code",
   "execution_count": null,
   "metadata": {},
   "outputs": [],
   "source": []
  },
  {
   "cell_type": "code",
   "execution_count": null,
   "metadata": {},
   "outputs": [],
   "source": []
  },
  {
   "cell_type": "code",
   "execution_count": null,
   "metadata": {},
   "outputs": [],
   "source": []
  },
  {
   "cell_type": "code",
   "execution_count": null,
   "metadata": {},
   "outputs": [],
   "source": []
  },
  {
   "cell_type": "code",
   "execution_count": null,
   "metadata": {},
   "outputs": [],
   "source": []
  },
  {
   "cell_type": "markdown",
   "metadata": {},
   "source": [
    "# Auto Feature Selection "
   ]
  },
  {
   "cell_type": "code",
   "execution_count": 75,
   "metadata": {},
   "outputs": [],
   "source": [
    "eda_final_data = final_data[['ROAD_TYPE', 'LANES', 'MAX_SPD', 'ROAD_USE', 'MULTI_LINK', 'REST_VEH', 'CONNECT_101_YN', \n",
    "                             'BUS_YN', 'SUB_YN', 'CW_YN', 'HUMP_YN',\n",
    "                                 'A3_ROADTYPE_1_YN', 'A3_ROADTYPE_2_YN', 'A3_ROADTYPE_3_YN',\n",
    "                                 'A3_ROADTYPE_4_YN', 'A3_ROADTYPE_5_YN', 'A3_ROADTYPE_6_YN',\n",
    "                                  'A1_LANE_02_YN', 'A1_LANE_04_YN', 'A1_LANE_10_YN', 'A1_LANE_12_YN',\n",
    "                                  'A1_BARR_02_YN', 'A1_BARR_03_YN', 'A1_BARR_05_YN',\n",
    "                                  'A2_STOP_1_YN', 'A2_STOP_2_YN', 'S_P_KIDS_YN', 'S_P_BIKE_YN', 'S_P_UTERN_YN', 'S_P_UTERNX_YN',\n",
    "                                  'SN_P_HDUFID_YN', 'SF_P_ALL_YN', 'SF_P_UTERN_YN', 'SF_L_ALL_YN', 'SF_L_1_YN', 'SF_L_2_YN',\n",
    "                                  'SF_PL_CW_YN', 'SF_PL_HUMP_YN', 'SF_PL_BIKE_CW_YN', 'NODE_INTER_YN', 'NODE_INTERS_YN', 'NODE_ROTARY_YN',\n",
    "                                   'NODE_LANES_YN', 'NODE_ALL_YN','ROAD_RANK_101_YN', 'GONGSA_YN',\n",
    "                                  'BUS_CNT', 'SUB_CNT', 'CW_CNT', 'HUMP_CNT',\n",
    "                                 'A3_ROADTYPE_1_CNT', 'A3_ROADTYPE_2_CNT', 'A3_ROADTYPE_3_CNT',\n",
    "                                 'A3_ROADTYPE_4_CNT', 'A3_ROADTYPE_5_CNT', 'A3_ROADTYPE_6_CNT',\n",
    "                                  'A1_LANE_02_CNT', 'A1_LANE_04_CNT', 'A1_LANE_10_CNT', 'A1_LANE_12_CNT',\n",
    "                                  'A1_BARR_02_CNT', 'A1_BARR_03_CNT', 'A1_BARR_05_CNT',\n",
    "                                  'A2_STOP_1_CNT', 'A2_STOP_2_CNT', 'S_P_KIDS_CNT', 'S_P_BIKE_CNT', 'S_P_UTERN_CNT', 'S_P_UTERNX_CNT',\n",
    "                                  'SN_P_HDUFID_CNT', 'SF_P_ALL_CNT', 'SF_P_UTERN_CNT', 'SF_L_ALL_CNT', 'SF_L_1_CNT', 'SF_L_2_CNT',\n",
    "                                  'SF_PL_CW_CNT', 'SF_PL_HUMP_CNT', 'SF_PL_BIKE_CW_CNT', 'NODE_INTER_CNT', 'NODE_INTERS_CNT', 'NODE_ROTARY_CNT',\n",
    "                                   'NODE_LANES_CNT', 'NODE_ALL_CNT', 'pop_09_19시', 'pop_19_22시', 'pop_22_07시', 'pop_07_09시',\n",
    "                                   'topis_09_19시', 'topis_19_22시', 'topis_22_07시', 'topis_07_09시', 'WS', 'TEMP', 'HM', 'RF', 'WD',\n",
    "                                    'SAGO_YN']]"
   ]
  },
  {
   "cell_type": "code",
   "execution_count": 76,
   "metadata": {},
   "outputs": [
    {
     "name": "stderr",
     "output_type": "stream",
     "text": [
      "/Users/wbchoi/anaconda3/lib/python3.7/site-packages/pandas/core/frame.py:4133: SettingWithCopyWarning: \n",
      "A value is trying to be set on a copy of a slice from a DataFrame\n",
      "\n",
      "See the caveats in the documentation: https://pandas.pydata.org/pandas-docs/stable/user_guide/indexing.html#returning-a-view-versus-a-copy\n",
      "  errors=errors,\n"
     ]
    }
   ],
   "source": [
    "eda_final_data.rename(columns = {'pop_09_19시': 'pop_09_19',\n",
    "                                             'pop_19_22시': 'pop_19_22',\n",
    "                                             'pop_22_07시': 'pop_22_07',\n",
    "                                             'pop_07_09시': 'pop_07_09',\n",
    "                                             'topis_09_19시': 'topis_09_19',\n",
    "                                             'topis_19_22시': 'topis_19_22',\n",
    "                                             'topis_22_07시': 'topis_22_07',\n",
    "                                             'topis_07_09시': 'topis_07_09'\n",
    "                                            }, inplace = True)"
   ]
  },
  {
   "cell_type": "code",
   "execution_count": 77,
   "metadata": {},
   "outputs": [
    {
     "data": {
      "text/plain": [
       "Index(['ROAD_TYPE', 'LANES', 'MAX_SPD', 'ROAD_USE', 'MULTI_LINK', 'REST_VEH',\n",
       "       'CONNECT_101_YN', 'BUS_YN', 'SUB_YN', 'CW_YN', 'HUMP_YN',\n",
       "       'A3_ROADTYPE_1_YN', 'A3_ROADTYPE_2_YN', 'A3_ROADTYPE_3_YN',\n",
       "       'A3_ROADTYPE_4_YN', 'A3_ROADTYPE_5_YN', 'A3_ROADTYPE_6_YN',\n",
       "       'A1_LANE_02_YN', 'A1_LANE_04_YN', 'A1_LANE_10_YN', 'A1_LANE_12_YN',\n",
       "       'A1_BARR_02_YN', 'A1_BARR_03_YN', 'A1_BARR_05_YN', 'A2_STOP_1_YN',\n",
       "       'A2_STOP_2_YN', 'S_P_KIDS_YN', 'S_P_BIKE_YN', 'S_P_UTERN_YN',\n",
       "       'S_P_UTERNX_YN', 'SN_P_HDUFID_YN', 'SF_P_ALL_YN', 'SF_P_UTERN_YN',\n",
       "       'SF_L_ALL_YN', 'SF_L_1_YN', 'SF_L_2_YN', 'SF_PL_CW_YN', 'SF_PL_HUMP_YN',\n",
       "       'SF_PL_BIKE_CW_YN', 'NODE_INTER_YN', 'NODE_INTERS_YN', 'NODE_ROTARY_YN',\n",
       "       'NODE_LANES_YN', 'NODE_ALL_YN', 'ROAD_RANK_101_YN', 'GONGSA_YN',\n",
       "       'BUS_CNT', 'SUB_CNT', 'CW_CNT', 'HUMP_CNT', 'A3_ROADTYPE_1_CNT',\n",
       "       'A3_ROADTYPE_2_CNT', 'A3_ROADTYPE_3_CNT', 'A3_ROADTYPE_4_CNT',\n",
       "       'A3_ROADTYPE_5_CNT', 'A3_ROADTYPE_6_CNT', 'A1_LANE_02_CNT',\n",
       "       'A1_LANE_04_CNT', 'A1_LANE_10_CNT', 'A1_LANE_12_CNT', 'A1_BARR_02_CNT',\n",
       "       'A1_BARR_03_CNT', 'A1_BARR_05_CNT', 'A2_STOP_1_CNT', 'A2_STOP_2_CNT',\n",
       "       'S_P_KIDS_CNT', 'S_P_BIKE_CNT', 'S_P_UTERN_CNT', 'S_P_UTERNX_CNT',\n",
       "       'SN_P_HDUFID_CNT', 'SF_P_ALL_CNT', 'SF_P_UTERN_CNT', 'SF_L_ALL_CNT',\n",
       "       'SF_L_1_CNT', 'SF_L_2_CNT', 'SF_PL_CW_CNT', 'SF_PL_HUMP_CNT',\n",
       "       'SF_PL_BIKE_CW_CNT', 'NODE_INTER_CNT', 'NODE_INTERS_CNT',\n",
       "       'NODE_ROTARY_CNT', 'NODE_LANES_CNT', 'NODE_ALL_CNT', 'pop_09_19',\n",
       "       'pop_19_22', 'pop_22_07', 'pop_07_09', 'topis_09_19', 'topis_19_22',\n",
       "       'topis_22_07', 'topis_07_09', 'WS', 'TEMP', 'HM', 'RF', 'WD',\n",
       "       'SAGO_YN'],\n",
       "      dtype='object')"
      ]
     },
     "execution_count": 77,
     "metadata": {},
     "output_type": "execute_result"
    }
   ],
   "source": [
    "eda_final_data.columns"
   ]
  },
  {
   "cell_type": "code",
   "execution_count": 78,
   "metadata": {},
   "outputs": [
    {
     "data": {
      "text/plain": [
       "Index(['BUS_CNT', 'SUB_CNT', 'CW_CNT', 'HUMP_CNT', 'A3_ROADTYPE_1_CNT',\n",
       "       'A3_ROADTYPE_2_CNT', 'A3_ROADTYPE_3_CNT', 'A3_ROADTYPE_4_CNT',\n",
       "       'A3_ROADTYPE_5_CNT', 'A3_ROADTYPE_6_CNT', 'A1_LANE_02_CNT',\n",
       "       'A1_LANE_04_CNT', 'A1_LANE_10_CNT', 'A1_LANE_12_CNT', 'A1_BARR_02_CNT',\n",
       "       'A1_BARR_03_CNT', 'A1_BARR_05_CNT', 'A2_STOP_1_CNT', 'A2_STOP_2_CNT',\n",
       "       'S_P_KIDS_CNT', 'S_P_BIKE_CNT', 'S_P_UTERN_CNT', 'S_P_UTERNX_CNT',\n",
       "       'SN_P_HDUFID_CNT', 'SF_P_ALL_CNT', 'SF_P_UTERN_CNT', 'SF_L_ALL_CNT',\n",
       "       'SF_L_1_CNT', 'SF_L_2_CNT', 'SF_PL_CW_CNT', 'SF_PL_HUMP_CNT',\n",
       "       'SF_PL_BIKE_CW_CNT', 'NODE_INTER_CNT', 'NODE_INTERS_CNT',\n",
       "       'NODE_ROTARY_CNT', 'NODE_LANES_CNT', 'NODE_ALL_CNT', 'pop_09_19',\n",
       "       'pop_19_22', 'pop_22_07', 'pop_07_09', 'topis_09_19', 'topis_19_22',\n",
       "       'topis_22_07', 'topis_07_09', 'WS', 'TEMP', 'HM', 'RF', 'WD'],\n",
       "      dtype='object')"
      ]
     },
     "execution_count": 78,
     "metadata": {},
     "output_type": "execute_result"
    }
   ],
   "source": [
    "eda_final_data.iloc[:, 46:96].columns"
   ]
  },
  {
   "cell_type": "code",
   "execution_count": 79,
   "metadata": {},
   "outputs": [
    {
     "name": "stderr",
     "output_type": "stream",
     "text": [
      "/Users/wbchoi/anaconda3/lib/python3.7/site-packages/pandas/core/indexing.py:966: SettingWithCopyWarning: \n",
      "A value is trying to be set on a copy of a slice from a DataFrame.\n",
      "Try using .loc[row_indexer,col_indexer] = value instead\n",
      "\n",
      "See the caveats in the documentation: https://pandas.pydata.org/pandas-docs/stable/user_guide/indexing.html#returning-a-view-versus-a-copy\n",
      "  self.obj[item] = s\n"
     ]
    },
    {
     "data": {
      "text/html": [
       "<div>\n",
       "<style scoped>\n",
       "    .dataframe tbody tr th:only-of-type {\n",
       "        vertical-align: middle;\n",
       "    }\n",
       "\n",
       "    .dataframe tbody tr th {\n",
       "        vertical-align: top;\n",
       "    }\n",
       "\n",
       "    .dataframe thead th {\n",
       "        text-align: right;\n",
       "    }\n",
       "</style>\n",
       "<table border=\"1\" class=\"dataframe\">\n",
       "  <thead>\n",
       "    <tr style=\"text-align: right;\">\n",
       "      <th></th>\n",
       "      <th>BUS_CNT</th>\n",
       "      <th>SUB_CNT</th>\n",
       "      <th>CW_CNT</th>\n",
       "      <th>HUMP_CNT</th>\n",
       "      <th>A3_ROADTYPE_1_CNT</th>\n",
       "      <th>A3_ROADTYPE_2_CNT</th>\n",
       "      <th>A3_ROADTYPE_3_CNT</th>\n",
       "      <th>A3_ROADTYPE_4_CNT</th>\n",
       "      <th>A3_ROADTYPE_5_CNT</th>\n",
       "      <th>A3_ROADTYPE_6_CNT</th>\n",
       "      <th>...</th>\n",
       "      <th>pop_07_09</th>\n",
       "      <th>topis_09_19</th>\n",
       "      <th>topis_19_22</th>\n",
       "      <th>topis_22_07</th>\n",
       "      <th>topis_07_09</th>\n",
       "      <th>WS</th>\n",
       "      <th>TEMP</th>\n",
       "      <th>HM</th>\n",
       "      <th>RF</th>\n",
       "      <th>WD</th>\n",
       "    </tr>\n",
       "  </thead>\n",
       "  <tbody>\n",
       "    <tr>\n",
       "      <th>0</th>\n",
       "      <td>0.14286</td>\n",
       "      <td>0.00000</td>\n",
       "      <td>0.22222</td>\n",
       "      <td>0.00000</td>\n",
       "      <td>0.00000</td>\n",
       "      <td>0.00000</td>\n",
       "      <td>0.00000</td>\n",
       "      <td>0.00000</td>\n",
       "      <td>0.00000</td>\n",
       "      <td>0.00000</td>\n",
       "      <td>...</td>\n",
       "      <td>0.01937</td>\n",
       "      <td>0.20998</td>\n",
       "      <td>0.26430</td>\n",
       "      <td>0.27067</td>\n",
       "      <td>0.33708</td>\n",
       "      <td>0.20402</td>\n",
       "      <td>0.36754</td>\n",
       "      <td>0.71918</td>\n",
       "      <td>0.00000</td>\n",
       "      <td>0.67981</td>\n",
       "    </tr>\n",
       "    <tr>\n",
       "      <th>1</th>\n",
       "      <td>0.14286</td>\n",
       "      <td>0.00000</td>\n",
       "      <td>0.22222</td>\n",
       "      <td>0.00000</td>\n",
       "      <td>0.00000</td>\n",
       "      <td>0.00000</td>\n",
       "      <td>0.00000</td>\n",
       "      <td>0.00000</td>\n",
       "      <td>0.00000</td>\n",
       "      <td>0.00000</td>\n",
       "      <td>...</td>\n",
       "      <td>0.05977</td>\n",
       "      <td>0.19938</td>\n",
       "      <td>0.23407</td>\n",
       "      <td>0.28766</td>\n",
       "      <td>0.18555</td>\n",
       "      <td>0.33195</td>\n",
       "      <td>0.35513</td>\n",
       "      <td>0.75277</td>\n",
       "      <td>0.00000</td>\n",
       "      <td>0.78484</td>\n",
       "    </tr>\n",
       "    <tr>\n",
       "      <th>2</th>\n",
       "      <td>0.14286</td>\n",
       "      <td>0.00000</td>\n",
       "      <td>0.22222</td>\n",
       "      <td>0.00000</td>\n",
       "      <td>0.00000</td>\n",
       "      <td>0.00000</td>\n",
       "      <td>0.00000</td>\n",
       "      <td>0.00000</td>\n",
       "      <td>0.00000</td>\n",
       "      <td>0.00000</td>\n",
       "      <td>...</td>\n",
       "      <td>0.05846</td>\n",
       "      <td>0.19449</td>\n",
       "      <td>0.22484</td>\n",
       "      <td>0.28087</td>\n",
       "      <td>0.19347</td>\n",
       "      <td>0.45620</td>\n",
       "      <td>0.29574</td>\n",
       "      <td>0.73297</td>\n",
       "      <td>0.00000</td>\n",
       "      <td>0.85751</td>\n",
       "    </tr>\n",
       "    <tr>\n",
       "      <th>3</th>\n",
       "      <td>0.14286</td>\n",
       "      <td>0.00000</td>\n",
       "      <td>0.22222</td>\n",
       "      <td>0.00000</td>\n",
       "      <td>0.00000</td>\n",
       "      <td>0.00000</td>\n",
       "      <td>0.00000</td>\n",
       "      <td>0.00000</td>\n",
       "      <td>0.00000</td>\n",
       "      <td>0.00000</td>\n",
       "      <td>...</td>\n",
       "      <td>0.05766</td>\n",
       "      <td>0.19792</td>\n",
       "      <td>0.23346</td>\n",
       "      <td>0.27155</td>\n",
       "      <td>0.18236</td>\n",
       "      <td>0.29601</td>\n",
       "      <td>0.28790</td>\n",
       "      <td>0.74329</td>\n",
       "      <td>0.00000</td>\n",
       "      <td>0.74071</td>\n",
       "    </tr>\n",
       "    <tr>\n",
       "      <th>4</th>\n",
       "      <td>0.14286</td>\n",
       "      <td>0.00000</td>\n",
       "      <td>0.22222</td>\n",
       "      <td>0.00000</td>\n",
       "      <td>0.00000</td>\n",
       "      <td>0.00000</td>\n",
       "      <td>0.00000</td>\n",
       "      <td>0.00000</td>\n",
       "      <td>0.00000</td>\n",
       "      <td>0.00000</td>\n",
       "      <td>...</td>\n",
       "      <td>0.05857</td>\n",
       "      <td>0.17973</td>\n",
       "      <td>0.10750</td>\n",
       "      <td>0.28865</td>\n",
       "      <td>0.19567</td>\n",
       "      <td>0.27470</td>\n",
       "      <td>0.32877</td>\n",
       "      <td>0.76303</td>\n",
       "      <td>0.00000</td>\n",
       "      <td>0.91056</td>\n",
       "    </tr>\n",
       "  </tbody>\n",
       "</table>\n",
       "<p>5 rows × 50 columns</p>\n",
       "</div>"
      ],
      "text/plain": [
       "   BUS_CNT  SUB_CNT  CW_CNT  HUMP_CNT  A3_ROADTYPE_1_CNT  A3_ROADTYPE_2_CNT  \\\n",
       "0  0.14286  0.00000 0.22222   0.00000            0.00000            0.00000   \n",
       "1  0.14286  0.00000 0.22222   0.00000            0.00000            0.00000   \n",
       "2  0.14286  0.00000 0.22222   0.00000            0.00000            0.00000   \n",
       "3  0.14286  0.00000 0.22222   0.00000            0.00000            0.00000   \n",
       "4  0.14286  0.00000 0.22222   0.00000            0.00000            0.00000   \n",
       "\n",
       "   A3_ROADTYPE_3_CNT  A3_ROADTYPE_4_CNT  A3_ROADTYPE_5_CNT  A3_ROADTYPE_6_CNT  \\\n",
       "0            0.00000            0.00000            0.00000            0.00000   \n",
       "1            0.00000            0.00000            0.00000            0.00000   \n",
       "2            0.00000            0.00000            0.00000            0.00000   \n",
       "3            0.00000            0.00000            0.00000            0.00000   \n",
       "4            0.00000            0.00000            0.00000            0.00000   \n",
       "\n",
       "   ...  pop_07_09  topis_09_19  topis_19_22  topis_22_07  topis_07_09      WS  \\\n",
       "0  ...    0.01937      0.20998      0.26430      0.27067      0.33708 0.20402   \n",
       "1  ...    0.05977      0.19938      0.23407      0.28766      0.18555 0.33195   \n",
       "2  ...    0.05846      0.19449      0.22484      0.28087      0.19347 0.45620   \n",
       "3  ...    0.05766      0.19792      0.23346      0.27155      0.18236 0.29601   \n",
       "4  ...    0.05857      0.17973      0.10750      0.28865      0.19567 0.27470   \n",
       "\n",
       "     TEMP      HM      RF      WD  \n",
       "0 0.36754 0.71918 0.00000 0.67981  \n",
       "1 0.35513 0.75277 0.00000 0.78484  \n",
       "2 0.29574 0.73297 0.00000 0.85751  \n",
       "3 0.28790 0.74329 0.00000 0.74071  \n",
       "4 0.32877 0.76303 0.00000 0.91056  \n",
       "\n",
       "[5 rows x 50 columns]"
      ]
     },
     "execution_count": 79,
     "metadata": {},
     "output_type": "execute_result"
    }
   ],
   "source": [
    "# 연속형 변수 및 도로환경변수 (CNT) Min - Max scaling\n",
    "sc = MinMaxScaler()\n",
    "eda_final_data.iloc[:, 46:96] = sc.fit_transform(eda_final_data.iloc[:, 46:96])\n",
    "eda_final_data.iloc[:, 46:96].head()"
   ]
  },
  {
   "cell_type": "code",
   "execution_count": 80,
   "metadata": {},
   "outputs": [
    {
     "name": "stderr",
     "output_type": "stream",
     "text": [
      "/Users/wbchoi/anaconda3/lib/python3.7/site-packages/ipykernel_launcher.py:1: SettingWithCopyWarning: \n",
      "A value is trying to be set on a copy of a slice from a DataFrame.\n",
      "Try using .loc[row_indexer,col_indexer] = value instead\n",
      "\n",
      "See the caveats in the documentation: https://pandas.pydata.org/pandas-docs/stable/user_guide/indexing.html#returning-a-view-versus-a-copy\n",
      "  \"\"\"Entry point for launching an IPython kernel.\n"
     ]
    }
   ],
   "source": [
    "eda_final_data['SAGO_YN'] = eda_final_data.apply(lambda x: 1 if x['SAGO_YN'] == 'Y' else 0, axis = 1)"
   ]
  },
  {
   "cell_type": "code",
   "execution_count": 81,
   "metadata": {},
   "outputs": [
    {
     "data": {
      "text/plain": [
       "0    660573\n",
       "1      3605\n",
       "Name: SAGO_YN, dtype: int64"
      ]
     },
     "execution_count": 81,
     "metadata": {},
     "output_type": "execute_result"
    }
   ],
   "source": [
    "eda_final_data['SAGO_YN'].value_counts()"
   ]
  },
  {
   "cell_type": "code",
   "execution_count": 82,
   "metadata": {},
   "outputs": [
    {
     "data": {
      "text/plain": [
       "Index(['CONNECT_101_YN', 'BUS_YN', 'SUB_YN', 'CW_YN', 'HUMP_YN',\n",
       "       'A3_ROADTYPE_1_YN', 'A3_ROADTYPE_2_YN', 'A3_ROADTYPE_3_YN',\n",
       "       'A3_ROADTYPE_4_YN', 'A3_ROADTYPE_5_YN', 'A3_ROADTYPE_6_YN',\n",
       "       'A1_LANE_02_YN', 'A1_LANE_04_YN', 'A1_LANE_10_YN', 'A1_LANE_12_YN',\n",
       "       'A1_BARR_02_YN', 'A1_BARR_03_YN', 'A1_BARR_05_YN', 'A2_STOP_1_YN',\n",
       "       'A2_STOP_2_YN', 'S_P_KIDS_YN', 'S_P_BIKE_YN', 'S_P_UTERN_YN',\n",
       "       'S_P_UTERNX_YN', 'SN_P_HDUFID_YN', 'SF_P_ALL_YN', 'SF_P_UTERN_YN',\n",
       "       'SF_L_ALL_YN', 'SF_L_1_YN', 'SF_L_2_YN', 'SF_PL_CW_YN', 'SF_PL_HUMP_YN',\n",
       "       'SF_PL_BIKE_CW_YN', 'NODE_INTER_YN', 'NODE_INTERS_YN', 'NODE_ROTARY_YN',\n",
       "       'NODE_LANES_YN', 'NODE_ALL_YN', 'ROAD_RANK_101_YN', 'GONGSA_YN'],\n",
       "      dtype='object')"
      ]
     },
     "execution_count": 82,
     "metadata": {},
     "output_type": "execute_result"
    }
   ],
   "source": [
    "eda_final_data.iloc[:, 6:46].columns"
   ]
  },
  {
   "cell_type": "code",
   "execution_count": 83,
   "metadata": {},
   "outputs": [
    {
     "name": "stderr",
     "output_type": "stream",
     "text": [
      "/Users/wbchoi/anaconda3/lib/python3.7/site-packages/pandas/core/indexing.py:966: SettingWithCopyWarning: \n",
      "A value is trying to be set on a copy of a slice from a DataFrame.\n",
      "Try using .loc[row_indexer,col_indexer] = value instead\n",
      "\n",
      "See the caveats in the documentation: https://pandas.pydata.org/pandas-docs/stable/user_guide/indexing.html#returning-a-view-versus-a-copy\n",
      "  self.obj[item] = s\n"
     ]
    }
   ],
   "source": [
    "for i in range(eda_final_data.iloc[:, 6:46].shape[1]):\n",
    "    eda_final_data.iloc[:, i+6] = eda_final_data.apply(lambda x: 1 if x[i+6] == 'Y' else 0, axis = 1)"
   ]
  },
  {
   "cell_type": "code",
   "execution_count": null,
   "metadata": {},
   "outputs": [],
   "source": []
  },
  {
   "cell_type": "code",
   "execution_count": null,
   "metadata": {},
   "outputs": [],
   "source": []
  },
  {
   "cell_type": "code",
   "execution_count": null,
   "metadata": {},
   "outputs": [],
   "source": []
  },
  {
   "cell_type": "code",
   "execution_count": 84,
   "metadata": {},
   "outputs": [],
   "source": [
    "cat_X = eda_final_data.iloc[:, 0:83]\n",
    "num_X = eda_final_data.iloc[:, 83:-1]\n",
    "\n",
    "X = eda_final_data.iloc[:, 0:-1]\n",
    "y = eda_final_data.iloc[:, -1]"
   ]
  },
  {
   "cell_type": "code",
   "execution_count": 85,
   "metadata": {},
   "outputs": [],
   "source": [
    "X_train, X_test, y_train , y_test = train_test_split(X, y, test_size = 0.2, random_state = 777)"
   ]
  },
  {
   "cell_type": "code",
   "execution_count": 86,
   "metadata": {},
   "outputs": [],
   "source": [
    "cat_feature_name = cat_X.columns.tolist()\n",
    "num_feature_name = num_X.columns.tolist()\n",
    "feature_name = X.columns.tolist()"
   ]
  },
  {
   "cell_type": "code",
   "execution_count": 687,
   "metadata": {},
   "outputs": [],
   "source": [
    "def cor_selector(X, y):\n",
    "    cor_list = []\n",
    "    # calculate the correlation with y for each feature\n",
    "    for i in X.columns.tolist():\n",
    "        cor = np.corrcoef(X[i], y)[0, 1]\n",
    "        cor_list.append(cor)\n",
    "    # replace NaN with 0\n",
    "    cor_list = [0 if np.isnan(i) else i for i in cor_list]\n",
    "    # feature name\n",
    "    cor_feature = X.iloc[:,np.argsort(np.abs(cor_list))[-100:]].columns.tolist()\n",
    "    # feature selection? 0 for not select, 1 for select\n",
    "    cor_support = [True if i in cor_feature else False for i in num_feature_name]\n",
    "    return cor_support, cor_feature"
   ]
  },
  {
   "cell_type": "code",
   "execution_count": null,
   "metadata": {},
   "outputs": [],
   "source": []
  },
  {
   "cell_type": "code",
   "execution_count": 583,
   "metadata": {},
   "outputs": [
    {
     "name": "stdout",
     "output_type": "stream",
     "text": [
      "13 selected features\n"
     ]
    }
   ],
   "source": [
    "cor_support, cor_feature = cor_selector(num_X, y)\n",
    "print(str(len(cor_feature)), 'selected features')"
   ]
  },
  {
   "cell_type": "code",
   "execution_count": 584,
   "metadata": {
    "scrolled": true
   },
   "outputs": [
    {
     "data": {
      "text/plain": [
       "SelectKBest(k=40, score_func=<function chi2 at 0x7f819061d598>)"
      ]
     },
     "execution_count": 584,
     "metadata": {},
     "output_type": "execute_result"
    }
   ],
   "source": [
    "'''Chi - Square 검정'''\n",
    "chi_selector = SelectKBest(chi2, k=40)\n",
    "chi_selector.fit(cat_X, y)"
   ]
  },
  {
   "cell_type": "code",
   "execution_count": 585,
   "metadata": {},
   "outputs": [
    {
     "name": "stdout",
     "output_type": "stream",
     "text": [
      "40 selected features\n"
     ]
    }
   ],
   "source": [
    "chi_support = chi_selector.get_support()\n",
    "chi_feature = cat_X.loc[:,chi_support].columns.tolist()\n",
    "print(str(len(chi_feature)), 'selected features')"
   ]
  },
  {
   "cell_type": "code",
   "execution_count": 586,
   "metadata": {},
   "outputs": [],
   "source": [
    "'''맥니마 검정'''\n",
    "mcnemar_result_yn = pd.DataFrame(columns = {'칼럼명', '자유도', 'p-value', '맥니마_통계량'})"
   ]
  },
  {
   "cell_type": "code",
   "execution_count": 587,
   "metadata": {},
   "outputs": [],
   "source": [
    "mcnemar_test_table = final_data[['BUS_YN', 'SUB_YN', 'CW_YN', 'HUMP_YN',\n",
    "                                 'A3_ROADTYPE_1_YN', 'A3_ROADTYPE_2_YN', 'A3_ROADTYPE_3_YN',\n",
    "                                 'A3_ROADTYPE_4_YN', 'A3_ROADTYPE_5_YN', 'A3_ROADTYPE_6_YN',\n",
    "                                  'A1_LANE_02_YN', 'A1_LANE_04_YN', 'A1_LANE_10_YN', 'A1_LANE_12_YN',\n",
    "                                  'A1_BARR_02_YN', 'A1_BARR_03_YN', 'A1_BARR_05_YN',\n",
    "                                  'A2_STOP_1_YN', 'A2_STOP_2_YN', 'S_P_KIDS_YN', 'S_P_BIKE_YN', 'S_P_UTERN_YN', 'S_P_UTERNX_YN',\n",
    "                                  'SN_P_HDUFID_YN', 'SF_P_ALL_YN', 'SF_P_UTERN_YN', 'SF_L_ALL_YN', 'SF_L_1_YN', 'SF_L_2_YN',\n",
    "                                  'SF_PL_CW_YN', 'SF_PL_HUMP_YN', 'SF_PL_BIKE_CW_YN', 'NODE_INTER_YN', 'NODE_INTERS_YN', 'NODE_ROTARY_YN',\n",
    "                                   'NODE_LANES_YN', 'NODE_ALL_YN', 'ROAD_RANK_101_YN', 'GONGSA_YN','SAGO_YN'\n",
    "                                ]]"
   ]
  },
  {
   "cell_type": "code",
   "execution_count": 588,
   "metadata": {
    "scrolled": true
   },
   "outputs": [
    {
     "name": "stdout",
     "output_type": "stream",
     "text": [
      "칼럼 명 :  Index(['BUS_YN'], dtype='object')\n",
      "자유도 :  4\n",
      "맥니마 통계량 : 1.186\n",
      "칼럼 명 :  Index(['SUB_YN'], dtype='object')\n",
      "자유도 :  4\n",
      "맥니마 통계량 : 64.717\n",
      "칼럼 명 :  Index(['CW_YN'], dtype='object')\n",
      "자유도 :  4\n",
      "맥니마 통계량 : 275.054\n",
      "칼럼 명 :  Index(['HUMP_YN'], dtype='object')\n",
      "자유도 :  4\n",
      "맥니마 통계량 : 44.596\n",
      "칼럼 명 :  Index(['A3_ROADTYPE_1_YN'], dtype='object')\n",
      "자유도 :  4\n",
      "맥니마 통계량 : 1170.897\n",
      "칼럼 명 :  Index(['A3_ROADTYPE_2_YN'], dtype='object')\n",
      "자유도 :  4\n",
      "맥니마 통계량 : 20.307\n",
      "칼럼 명 :  Index(['A3_ROADTYPE_3_YN'], dtype='object')\n",
      "자유도 :  4\n",
      "맥니마 통계량 : 2272.918\n",
      "칼럼 명 :  Index(['A3_ROADTYPE_4_YN'], dtype='object')\n",
      "자유도 :  4\n",
      "맥니마 통계량 : 0.324\n",
      "칼럼 명 :  Index(['A3_ROADTYPE_5_YN'], dtype='object')\n",
      "자유도 :  4\n",
      "맥니마 통계량 : 42.783\n",
      "칼럼 명 :  Index(['A3_ROADTYPE_6_YN'], dtype='object')\n",
      "자유도 :  4\n",
      "맥니마 통계량 : 2.819\n",
      "칼럼 명 :  Index(['A1_LANE_02_YN'], dtype='object')\n",
      "자유도 :  4\n",
      "맥니마 통계량 : 122.501\n",
      "칼럼 명 :  Index(['A1_LANE_04_YN'], dtype='object')\n",
      "자유도 :  4\n",
      "맥니마 통계량 : 1206.446\n",
      "칼럼 명 :  Index(['A1_LANE_10_YN'], dtype='object')\n",
      "자유도 :  4\n",
      "맥니마 통계량 : 5.521\n",
      "칼럼 명 :  Index(['A1_LANE_12_YN'], dtype='object')\n",
      "자유도 :  4\n",
      "맥니마 통계량 : 2.819\n",
      "칼럼 명 :  Index(['A1_BARR_02_YN'], dtype='object')\n",
      "자유도 :  4\n",
      "맥니마 통계량 : 1403.793\n",
      "칼럼 명 :  Index(['A1_BARR_03_YN'], dtype='object')\n",
      "자유도 :  4\n",
      "맥니마 통계량 : 1760.229\n",
      "칼럼 명 :  Index(['A1_BARR_05_YN'], dtype='object')\n",
      "자유도 :  4\n",
      "맥니마 통계량 : 16.882\n",
      "칼럼 명 :  Index(['A2_STOP_1_YN'], dtype='object')\n",
      "자유도 :  4\n",
      "맥니마 통계량 : 41.969\n",
      "칼럼 명 :  Index(['A2_STOP_2_YN'], dtype='object')\n",
      "자유도 :  4\n",
      "맥니마 통계량 : 184.556\n",
      "칼럼 명 :  Index(['S_P_KIDS_YN'], dtype='object')\n",
      "자유도 :  4\n",
      "맥니마 통계량 : 44.647\n",
      "칼럼 명 :  Index(['S_P_BIKE_YN'], dtype='object')\n",
      "자유도 :  4\n",
      "맥니마 통계량 : 0.399\n",
      "칼럼 명 :  Index(['S_P_UTERN_YN'], dtype='object')\n",
      "자유도 :  4\n",
      "맥니마 통계량 : 64.424\n",
      "칼럼 명 :  Index(['S_P_UTERNX_YN'], dtype='object')\n",
      "자유도 :  4\n",
      "맥니마 통계량 : 234.641\n",
      "칼럼 명 :  Index(['SN_P_HDUFID_YN'], dtype='object')\n",
      "자유도 :  4\n",
      "맥니마 통계량 : 546.068\n",
      "칼럼 명 :  Index(['SF_P_ALL_YN'], dtype='object')\n",
      "자유도 :  4\n",
      "맥니마 통계량 : 1313.535\n",
      "칼럼 명 :  Index(['SF_P_UTERN_YN'], dtype='object')\n",
      "자유도 :  4\n",
      "맥니마 통계량 : 89.975\n",
      "칼럼 명 :  Index(['SF_L_ALL_YN'], dtype='object')\n",
      "자유도 :  4\n",
      "맥니마 통계량 : 206.155\n",
      "칼럼 명 :  Index(['SF_L_1_YN'], dtype='object')\n",
      "자유도 :  4\n",
      "맥니마 통계량 : 206.155\n"
     ]
    },
    {
     "name": "stderr",
     "output_type": "stream",
     "text": [
      "/Users/wbchoi/anaconda3/lib/python3.7/site-packages/researchpy/crosstab.py:94: RuntimeWarning: divide by zero encountered in double_scalars\n",
      "  V = numpy.sqrt(test_val / (n * min((num_row - 1), (num_col - 1))))\n"
     ]
    },
    {
     "name": "stdout",
     "output_type": "stream",
     "text": [
      "칼럼 명 :  Index(['SF_L_2_YN'], dtype='object')\n",
      "자유도 :  2\n",
      "맥니마 통계량 : 0.000\n",
      "칼럼 명 :  Index(['SF_PL_CW_YN'], dtype='object')\n",
      "자유도 :  4\n",
      "맥니마 통계량 : 143.828\n",
      "칼럼 명 :  Index(['SF_PL_HUMP_YN'], dtype='object')\n",
      "자유도 :  4\n",
      "맥니마 통계량 : 24.342\n",
      "칼럼 명 :  Index(['SF_PL_BIKE_CW_YN'], dtype='object')\n",
      "자유도 :  4\n",
      "맥니마 통계량 : 1.598\n",
      "칼럼 명 :  Index(['NODE_INTER_YN'], dtype='object')\n",
      "자유도 :  4\n",
      "맥니마 통계량 : 449.214\n",
      "칼럼 명 :  Index(['NODE_INTERS_YN'], dtype='object')\n",
      "자유도 :  4\n",
      "맥니마 통계량 : 458.524\n",
      "칼럼 명 :  Index(['NODE_ROTARY_YN'], dtype='object')\n",
      "자유도 :  4\n",
      "맥니마 통계량 : 0.541\n",
      "칼럼 명 :  Index(['NODE_LANES_YN'], dtype='object')\n",
      "자유도 :  4\n",
      "맥니마 통계량 : 1866.831\n",
      "칼럼 명 :  Index(['NODE_ALL_YN'], dtype='object')\n",
      "자유도 :  4\n",
      "맥니마 통계량 : 1320.996\n",
      "칼럼 명 :  Index(['ROAD_RANK_101_YN'], dtype='object')\n",
      "자유도 :  4\n",
      "맥니마 통계량 : 8363.178\n",
      "칼럼 명 :  Index(['GONGSA_YN'], dtype='object')\n",
      "자유도 :  4\n",
      "맥니마 통계량 : 89.394\n"
     ]
    }
   ],
   "source": [
    "for i in range(mcnemar_test_table.shape[1] - 1):\n",
    "    crosstab, test_results = rp.crosstab(mcnemar_test_table.iloc[:, i], mcnemar_test_table.iloc[:, -1],\n",
    "                                               test= 'mcnemar')\n",
    "    \n",
    "    print('칼럼 명 : ', mcnemar_test_table.iloc[:, i:i+1].columns)\n",
    "    print('자유도 : ', stats.chi2_contingency(crosstab)[2])\n",
    "    print('맥니마 통계량 : %.3f' %(stats.chi2_contingency(crosstab)[0]))\n",
    "    \n",
    "    mcnemar_result_yn.loc[i] = [mcnemar_test_table.iloc[:, i:i+1].columns,\n",
    "                         stats.chi2_contingency(crosstab)[2],\n",
    "                         stats.chi2_contingency(crosstab)[1],\n",
    "                         stats.chi2_contingency(crosstab)[0]\n",
    "                         ]"
   ]
  },
  {
   "cell_type": "code",
   "execution_count": 589,
   "metadata": {},
   "outputs": [],
   "source": [
    "mcnemar_result_yn.columns = ['칼럼명', '자유도', 'p-value', '맥니마_통계량']\n",
    "\n",
    "'''p-value < 0.05 (95% t신뢰확률에서의 유의수준) -> 대립가설 채택'''\n",
    "\n",
    "mcnemar_result_yn['검정 결과'] = mcnemar_result_yn.apply(lambda x: '귀무가설 채택' if x['p-value'] >= 0.05 else '대립가설 채택', axis = 1)"
   ]
  },
  {
   "cell_type": "code",
   "execution_count": 590,
   "metadata": {},
   "outputs": [
    {
     "data": {
      "text/plain": [
       "대립가설 채택    30\n",
       "귀무가설 채택     9\n",
       "Name: 검정 결과, dtype: int64"
      ]
     },
     "execution_count": 590,
     "metadata": {},
     "output_type": "execute_result"
    }
   ],
   "source": [
    "mcnemar_result_yn['검정 결과'].value_counts()"
   ]
  },
  {
   "cell_type": "code",
   "execution_count": 591,
   "metadata": {},
   "outputs": [
    {
     "data": {
      "text/html": [
       "<div>\n",
       "<style scoped>\n",
       "    .dataframe tbody tr th:only-of-type {\n",
       "        vertical-align: middle;\n",
       "    }\n",
       "\n",
       "    .dataframe tbody tr th {\n",
       "        vertical-align: top;\n",
       "    }\n",
       "\n",
       "    .dataframe thead th {\n",
       "        text-align: right;\n",
       "    }\n",
       "</style>\n",
       "<table border=\"1\" class=\"dataframe\">\n",
       "  <thead>\n",
       "    <tr style=\"text-align: right;\">\n",
       "      <th></th>\n",
       "      <th>칼럼명</th>\n",
       "      <th>자유도</th>\n",
       "      <th>p-value</th>\n",
       "      <th>맥니마_통계량</th>\n",
       "      <th>검정 결과</th>\n",
       "    </tr>\n",
       "  </thead>\n",
       "  <tbody>\n",
       "    <tr>\n",
       "      <th>1</th>\n",
       "      <td>Index(['SUB_YN'], dtype='object')</td>\n",
       "      <td>4</td>\n",
       "      <td>0.00000</td>\n",
       "      <td>64.71662</td>\n",
       "      <td>대립가설 채택</td>\n",
       "    </tr>\n",
       "    <tr>\n",
       "      <th>2</th>\n",
       "      <td>Index(['CW_YN'], dtype='object')</td>\n",
       "      <td>4</td>\n",
       "      <td>0.00000</td>\n",
       "      <td>275.05416</td>\n",
       "      <td>대립가설 채택</td>\n",
       "    </tr>\n",
       "    <tr>\n",
       "      <th>3</th>\n",
       "      <td>Index(['HUMP_YN'], dtype='object')</td>\n",
       "      <td>4</td>\n",
       "      <td>0.00000</td>\n",
       "      <td>44.59593</td>\n",
       "      <td>대립가설 채택</td>\n",
       "    </tr>\n",
       "    <tr>\n",
       "      <th>4</th>\n",
       "      <td>Index(['A3_ROADTYPE_1_YN'], dtype='object')</td>\n",
       "      <td>4</td>\n",
       "      <td>0.00000</td>\n",
       "      <td>1170.89674</td>\n",
       "      <td>대립가설 채택</td>\n",
       "    </tr>\n",
       "    <tr>\n",
       "      <th>5</th>\n",
       "      <td>Index(['A3_ROADTYPE_2_YN'], dtype='object')</td>\n",
       "      <td>4</td>\n",
       "      <td>0.00043</td>\n",
       "      <td>20.30707</td>\n",
       "      <td>대립가설 채택</td>\n",
       "    </tr>\n",
       "    <tr>\n",
       "      <th>6</th>\n",
       "      <td>Index(['A3_ROADTYPE_3_YN'], dtype='object')</td>\n",
       "      <td>4</td>\n",
       "      <td>0.00000</td>\n",
       "      <td>2272.91798</td>\n",
       "      <td>대립가설 채택</td>\n",
       "    </tr>\n",
       "    <tr>\n",
       "      <th>8</th>\n",
       "      <td>Index(['A3_ROADTYPE_5_YN'], dtype='object')</td>\n",
       "      <td>4</td>\n",
       "      <td>0.00000</td>\n",
       "      <td>42.78271</td>\n",
       "      <td>대립가설 채택</td>\n",
       "    </tr>\n",
       "    <tr>\n",
       "      <th>10</th>\n",
       "      <td>Index(['A1_LANE_02_YN'], dtype='object')</td>\n",
       "      <td>4</td>\n",
       "      <td>0.00000</td>\n",
       "      <td>122.50069</td>\n",
       "      <td>대립가설 채택</td>\n",
       "    </tr>\n",
       "    <tr>\n",
       "      <th>11</th>\n",
       "      <td>Index(['A1_LANE_04_YN'], dtype='object')</td>\n",
       "      <td>4</td>\n",
       "      <td>0.00000</td>\n",
       "      <td>1206.44581</td>\n",
       "      <td>대립가설 채택</td>\n",
       "    </tr>\n",
       "    <tr>\n",
       "      <th>14</th>\n",
       "      <td>Index(['A1_BARR_02_YN'], dtype='object')</td>\n",
       "      <td>4</td>\n",
       "      <td>0.00000</td>\n",
       "      <td>1403.79258</td>\n",
       "      <td>대립가설 채택</td>\n",
       "    </tr>\n",
       "    <tr>\n",
       "      <th>15</th>\n",
       "      <td>Index(['A1_BARR_03_YN'], dtype='object')</td>\n",
       "      <td>4</td>\n",
       "      <td>0.00000</td>\n",
       "      <td>1760.22853</td>\n",
       "      <td>대립가설 채택</td>\n",
       "    </tr>\n",
       "    <tr>\n",
       "      <th>16</th>\n",
       "      <td>Index(['A1_BARR_05_YN'], dtype='object')</td>\n",
       "      <td>4</td>\n",
       "      <td>0.00204</td>\n",
       "      <td>16.88190</td>\n",
       "      <td>대립가설 채택</td>\n",
       "    </tr>\n",
       "    <tr>\n",
       "      <th>17</th>\n",
       "      <td>Index(['A2_STOP_1_YN'], dtype='object')</td>\n",
       "      <td>4</td>\n",
       "      <td>0.00000</td>\n",
       "      <td>41.96911</td>\n",
       "      <td>대립가설 채택</td>\n",
       "    </tr>\n",
       "    <tr>\n",
       "      <th>18</th>\n",
       "      <td>Index(['A2_STOP_2_YN'], dtype='object')</td>\n",
       "      <td>4</td>\n",
       "      <td>0.00000</td>\n",
       "      <td>184.55578</td>\n",
       "      <td>대립가설 채택</td>\n",
       "    </tr>\n",
       "    <tr>\n",
       "      <th>19</th>\n",
       "      <td>Index(['S_P_KIDS_YN'], dtype='object')</td>\n",
       "      <td>4</td>\n",
       "      <td>0.00000</td>\n",
       "      <td>44.64653</td>\n",
       "      <td>대립가설 채택</td>\n",
       "    </tr>\n",
       "    <tr>\n",
       "      <th>21</th>\n",
       "      <td>Index(['S_P_UTERN_YN'], dtype='object')</td>\n",
       "      <td>4</td>\n",
       "      <td>0.00000</td>\n",
       "      <td>64.42410</td>\n",
       "      <td>대립가설 채택</td>\n",
       "    </tr>\n",
       "    <tr>\n",
       "      <th>22</th>\n",
       "      <td>Index(['S_P_UTERNX_YN'], dtype='object')</td>\n",
       "      <td>4</td>\n",
       "      <td>0.00000</td>\n",
       "      <td>234.64131</td>\n",
       "      <td>대립가설 채택</td>\n",
       "    </tr>\n",
       "    <tr>\n",
       "      <th>23</th>\n",
       "      <td>Index(['SN_P_HDUFID_YN'], dtype='object')</td>\n",
       "      <td>4</td>\n",
       "      <td>0.00000</td>\n",
       "      <td>546.06784</td>\n",
       "      <td>대립가설 채택</td>\n",
       "    </tr>\n",
       "    <tr>\n",
       "      <th>24</th>\n",
       "      <td>Index(['SF_P_ALL_YN'], dtype='object')</td>\n",
       "      <td>4</td>\n",
       "      <td>0.00000</td>\n",
       "      <td>1313.53451</td>\n",
       "      <td>대립가설 채택</td>\n",
       "    </tr>\n",
       "    <tr>\n",
       "      <th>25</th>\n",
       "      <td>Index(['SF_P_UTERN_YN'], dtype='object')</td>\n",
       "      <td>4</td>\n",
       "      <td>0.00000</td>\n",
       "      <td>89.97515</td>\n",
       "      <td>대립가설 채택</td>\n",
       "    </tr>\n",
       "    <tr>\n",
       "      <th>26</th>\n",
       "      <td>Index(['SF_L_ALL_YN'], dtype='object')</td>\n",
       "      <td>4</td>\n",
       "      <td>0.00000</td>\n",
       "      <td>206.15477</td>\n",
       "      <td>대립가설 채택</td>\n",
       "    </tr>\n",
       "    <tr>\n",
       "      <th>27</th>\n",
       "      <td>Index(['SF_L_1_YN'], dtype='object')</td>\n",
       "      <td>4</td>\n",
       "      <td>0.00000</td>\n",
       "      <td>206.15477</td>\n",
       "      <td>대립가설 채택</td>\n",
       "    </tr>\n",
       "    <tr>\n",
       "      <th>29</th>\n",
       "      <td>Index(['SF_PL_CW_YN'], dtype='object')</td>\n",
       "      <td>4</td>\n",
       "      <td>0.00000</td>\n",
       "      <td>143.82812</td>\n",
       "      <td>대립가설 채택</td>\n",
       "    </tr>\n",
       "    <tr>\n",
       "      <th>30</th>\n",
       "      <td>Index(['SF_PL_HUMP_YN'], dtype='object')</td>\n",
       "      <td>4</td>\n",
       "      <td>0.00007</td>\n",
       "      <td>24.34173</td>\n",
       "      <td>대립가설 채택</td>\n",
       "    </tr>\n",
       "    <tr>\n",
       "      <th>32</th>\n",
       "      <td>Index(['NODE_INTER_YN'], dtype='object')</td>\n",
       "      <td>4</td>\n",
       "      <td>0.00000</td>\n",
       "      <td>449.21421</td>\n",
       "      <td>대립가설 채택</td>\n",
       "    </tr>\n",
       "    <tr>\n",
       "      <th>33</th>\n",
       "      <td>Index(['NODE_INTERS_YN'], dtype='object')</td>\n",
       "      <td>4</td>\n",
       "      <td>0.00000</td>\n",
       "      <td>458.52402</td>\n",
       "      <td>대립가설 채택</td>\n",
       "    </tr>\n",
       "    <tr>\n",
       "      <th>35</th>\n",
       "      <td>Index(['NODE_LANES_YN'], dtype='object')</td>\n",
       "      <td>4</td>\n",
       "      <td>0.00000</td>\n",
       "      <td>1866.83064</td>\n",
       "      <td>대립가설 채택</td>\n",
       "    </tr>\n",
       "    <tr>\n",
       "      <th>36</th>\n",
       "      <td>Index(['NODE_ALL_YN'], dtype='object')</td>\n",
       "      <td>4</td>\n",
       "      <td>0.00000</td>\n",
       "      <td>1320.99647</td>\n",
       "      <td>대립가설 채택</td>\n",
       "    </tr>\n",
       "    <tr>\n",
       "      <th>37</th>\n",
       "      <td>Index(['ROAD_RANK_101_YN'], dtype='object')</td>\n",
       "      <td>4</td>\n",
       "      <td>0.00000</td>\n",
       "      <td>8363.17767</td>\n",
       "      <td>대립가설 채택</td>\n",
       "    </tr>\n",
       "    <tr>\n",
       "      <th>38</th>\n",
       "      <td>Index(['GONGSA_YN'], dtype='object')</td>\n",
       "      <td>4</td>\n",
       "      <td>0.00000</td>\n",
       "      <td>89.39382</td>\n",
       "      <td>대립가설 채택</td>\n",
       "    </tr>\n",
       "  </tbody>\n",
       "</table>\n",
       "</div>"
      ],
      "text/plain": [
       "                                            칼럼명 자유도  p-value    맥니마_통계량  \\\n",
       "1             Index(['SUB_YN'], dtype='object')   4  0.00000   64.71662   \n",
       "2              Index(['CW_YN'], dtype='object')   4  0.00000  275.05416   \n",
       "3            Index(['HUMP_YN'], dtype='object')   4  0.00000   44.59593   \n",
       "4   Index(['A3_ROADTYPE_1_YN'], dtype='object')   4  0.00000 1170.89674   \n",
       "5   Index(['A3_ROADTYPE_2_YN'], dtype='object')   4  0.00043   20.30707   \n",
       "6   Index(['A3_ROADTYPE_3_YN'], dtype='object')   4  0.00000 2272.91798   \n",
       "8   Index(['A3_ROADTYPE_5_YN'], dtype='object')   4  0.00000   42.78271   \n",
       "10     Index(['A1_LANE_02_YN'], dtype='object')   4  0.00000  122.50069   \n",
       "11     Index(['A1_LANE_04_YN'], dtype='object')   4  0.00000 1206.44581   \n",
       "14     Index(['A1_BARR_02_YN'], dtype='object')   4  0.00000 1403.79258   \n",
       "15     Index(['A1_BARR_03_YN'], dtype='object')   4  0.00000 1760.22853   \n",
       "16     Index(['A1_BARR_05_YN'], dtype='object')   4  0.00204   16.88190   \n",
       "17      Index(['A2_STOP_1_YN'], dtype='object')   4  0.00000   41.96911   \n",
       "18      Index(['A2_STOP_2_YN'], dtype='object')   4  0.00000  184.55578   \n",
       "19       Index(['S_P_KIDS_YN'], dtype='object')   4  0.00000   44.64653   \n",
       "21      Index(['S_P_UTERN_YN'], dtype='object')   4  0.00000   64.42410   \n",
       "22     Index(['S_P_UTERNX_YN'], dtype='object')   4  0.00000  234.64131   \n",
       "23    Index(['SN_P_HDUFID_YN'], dtype='object')   4  0.00000  546.06784   \n",
       "24       Index(['SF_P_ALL_YN'], dtype='object')   4  0.00000 1313.53451   \n",
       "25     Index(['SF_P_UTERN_YN'], dtype='object')   4  0.00000   89.97515   \n",
       "26       Index(['SF_L_ALL_YN'], dtype='object')   4  0.00000  206.15477   \n",
       "27         Index(['SF_L_1_YN'], dtype='object')   4  0.00000  206.15477   \n",
       "29       Index(['SF_PL_CW_YN'], dtype='object')   4  0.00000  143.82812   \n",
       "30     Index(['SF_PL_HUMP_YN'], dtype='object')   4  0.00007   24.34173   \n",
       "32     Index(['NODE_INTER_YN'], dtype='object')   4  0.00000  449.21421   \n",
       "33    Index(['NODE_INTERS_YN'], dtype='object')   4  0.00000  458.52402   \n",
       "35     Index(['NODE_LANES_YN'], dtype='object')   4  0.00000 1866.83064   \n",
       "36       Index(['NODE_ALL_YN'], dtype='object')   4  0.00000 1320.99647   \n",
       "37  Index(['ROAD_RANK_101_YN'], dtype='object')   4  0.00000 8363.17767   \n",
       "38         Index(['GONGSA_YN'], dtype='object')   4  0.00000   89.39382   \n",
       "\n",
       "      검정 결과  \n",
       "1   대립가설 채택  \n",
       "2   대립가설 채택  \n",
       "3   대립가설 채택  \n",
       "4   대립가설 채택  \n",
       "5   대립가설 채택  \n",
       "6   대립가설 채택  \n",
       "8   대립가설 채택  \n",
       "10  대립가설 채택  \n",
       "11  대립가설 채택  \n",
       "14  대립가설 채택  \n",
       "15  대립가설 채택  \n",
       "16  대립가설 채택  \n",
       "17  대립가설 채택  \n",
       "18  대립가설 채택  \n",
       "19  대립가설 채택  \n",
       "21  대립가설 채택  \n",
       "22  대립가설 채택  \n",
       "23  대립가설 채택  \n",
       "24  대립가설 채택  \n",
       "25  대립가설 채택  \n",
       "26  대립가설 채택  \n",
       "27  대립가설 채택  \n",
       "29  대립가설 채택  \n",
       "30  대립가설 채택  \n",
       "32  대립가설 채택  \n",
       "33  대립가설 채택  \n",
       "35  대립가설 채택  \n",
       "36  대립가설 채택  \n",
       "37  대립가설 채택  \n",
       "38  대립가설 채택  "
      ]
     },
     "execution_count": 591,
     "metadata": {},
     "output_type": "execute_result"
    }
   ],
   "source": [
    "mcnemar_result_yn[mcnemar_result_yn['검정 결과'] == '대립가설 채택'].head(30)"
   ]
  },
  {
   "cell_type": "code",
   "execution_count": 592,
   "metadata": {},
   "outputs": [
    {
     "name": "stdout",
     "output_type": "stream",
     "text": [
      "Fitting estimator with 92 features.\n"
     ]
    },
    {
     "name": "stderr",
     "output_type": "stream",
     "text": [
      "/Users/wbchoi/anaconda3/lib/python3.7/site-packages/sklearn/linear_model/_logistic.py:940: ConvergenceWarning: lbfgs failed to converge (status=1):\n",
      "STOP: TOTAL NO. of ITERATIONS REACHED LIMIT.\n",
      "\n",
      "Increase the number of iterations (max_iter) or scale the data as shown in:\n",
      "    https://scikit-learn.org/stable/modules/preprocessing.html\n",
      "Please also refer to the documentation for alternative solver options:\n",
      "    https://scikit-learn.org/stable/modules/linear_model.html#logistic-regression\n",
      "  extra_warning_msg=_LOGISTIC_SOLVER_CONVERGENCE_MSG)\n"
     ]
    },
    {
     "name": "stdout",
     "output_type": "stream",
     "text": [
      "Fitting estimator with 82 features.\n"
     ]
    },
    {
     "name": "stderr",
     "output_type": "stream",
     "text": [
      "/Users/wbchoi/anaconda3/lib/python3.7/site-packages/sklearn/linear_model/_logistic.py:940: ConvergenceWarning: lbfgs failed to converge (status=1):\n",
      "STOP: TOTAL NO. of ITERATIONS REACHED LIMIT.\n",
      "\n",
      "Increase the number of iterations (max_iter) or scale the data as shown in:\n",
      "    https://scikit-learn.org/stable/modules/preprocessing.html\n",
      "Please also refer to the documentation for alternative solver options:\n",
      "    https://scikit-learn.org/stable/modules/linear_model.html#logistic-regression\n",
      "  extra_warning_msg=_LOGISTIC_SOLVER_CONVERGENCE_MSG)\n"
     ]
    },
    {
     "name": "stdout",
     "output_type": "stream",
     "text": [
      "Fitting estimator with 72 features.\n"
     ]
    },
    {
     "name": "stderr",
     "output_type": "stream",
     "text": [
      "/Users/wbchoi/anaconda3/lib/python3.7/site-packages/sklearn/linear_model/_logistic.py:940: ConvergenceWarning: lbfgs failed to converge (status=1):\n",
      "STOP: TOTAL NO. of ITERATIONS REACHED LIMIT.\n",
      "\n",
      "Increase the number of iterations (max_iter) or scale the data as shown in:\n",
      "    https://scikit-learn.org/stable/modules/preprocessing.html\n",
      "Please also refer to the documentation for alternative solver options:\n",
      "    https://scikit-learn.org/stable/modules/linear_model.html#logistic-regression\n",
      "  extra_warning_msg=_LOGISTIC_SOLVER_CONVERGENCE_MSG)\n"
     ]
    },
    {
     "name": "stdout",
     "output_type": "stream",
     "text": [
      "Fitting estimator with 62 features.\n"
     ]
    },
    {
     "name": "stderr",
     "output_type": "stream",
     "text": [
      "/Users/wbchoi/anaconda3/lib/python3.7/site-packages/sklearn/linear_model/_logistic.py:940: ConvergenceWarning: lbfgs failed to converge (status=1):\n",
      "STOP: TOTAL NO. of ITERATIONS REACHED LIMIT.\n",
      "\n",
      "Increase the number of iterations (max_iter) or scale the data as shown in:\n",
      "    https://scikit-learn.org/stable/modules/preprocessing.html\n",
      "Please also refer to the documentation for alternative solver options:\n",
      "    https://scikit-learn.org/stable/modules/linear_model.html#logistic-regression\n",
      "  extra_warning_msg=_LOGISTIC_SOLVER_CONVERGENCE_MSG)\n"
     ]
    },
    {
     "name": "stdout",
     "output_type": "stream",
     "text": [
      "Fitting estimator with 52 features.\n"
     ]
    },
    {
     "name": "stderr",
     "output_type": "stream",
     "text": [
      "/Users/wbchoi/anaconda3/lib/python3.7/site-packages/sklearn/linear_model/_logistic.py:940: ConvergenceWarning: lbfgs failed to converge (status=1):\n",
      "STOP: TOTAL NO. of ITERATIONS REACHED LIMIT.\n",
      "\n",
      "Increase the number of iterations (max_iter) or scale the data as shown in:\n",
      "    https://scikit-learn.org/stable/modules/preprocessing.html\n",
      "Please also refer to the documentation for alternative solver options:\n",
      "    https://scikit-learn.org/stable/modules/linear_model.html#logistic-regression\n",
      "  extra_warning_msg=_LOGISTIC_SOLVER_CONVERGENCE_MSG)\n",
      "/Users/wbchoi/anaconda3/lib/python3.7/site-packages/sklearn/linear_model/_logistic.py:940: ConvergenceWarning: lbfgs failed to converge (status=1):\n",
      "STOP: TOTAL NO. of ITERATIONS REACHED LIMIT.\n",
      "\n",
      "Increase the number of iterations (max_iter) or scale the data as shown in:\n",
      "    https://scikit-learn.org/stable/modules/preprocessing.html\n",
      "Please also refer to the documentation for alternative solver options:\n",
      "    https://scikit-learn.org/stable/modules/linear_model.html#logistic-regression\n",
      "  extra_warning_msg=_LOGISTIC_SOLVER_CONVERGENCE_MSG)\n"
     ]
    },
    {
     "data": {
      "text/plain": [
       "RFE(estimator=LogisticRegression(C=1.0, class_weight='balanced', dual=False,\n",
       "                                 fit_intercept=True, intercept_scaling=1,\n",
       "                                 l1_ratio=None, max_iter=100,\n",
       "                                 multi_class='auto', n_jobs=None, penalty='l2',\n",
       "                                 random_state=None, solver='lbfgs', tol=0.0001,\n",
       "                                 verbose=0, warm_start=False),\n",
       "    n_features_to_select=45, step=10, verbose=5)"
      ]
     },
     "execution_count": 592,
     "metadata": {},
     "output_type": "execute_result"
    }
   ],
   "source": [
    "'''RFE'''\n",
    "rfe_selector = RFE(estimator=LogisticRegression(penalty=\"l2\", class_weight = 'balanced', solver = 'lbfgs'), n_features_to_select=45, step=10, verbose=5)\n",
    "rfe_selector.fit(X, y)"
   ]
  },
  {
   "cell_type": "code",
   "execution_count": 593,
   "metadata": {},
   "outputs": [
    {
     "name": "stdout",
     "output_type": "stream",
     "text": [
      "45 selected features\n"
     ]
    }
   ],
   "source": [
    "rfe_support = rfe_selector.get_support()\n",
    "rfe_feature = X.loc[:,rfe_support].columns.tolist()\n",
    "print(str(len(rfe_feature)), 'selected features')"
   ]
  },
  {
   "cell_type": "code",
   "execution_count": null,
   "metadata": {},
   "outputs": [],
   "source": []
  },
  {
   "cell_type": "code",
   "execution_count": 594,
   "metadata": {},
   "outputs": [
    {
     "data": {
      "text/plain": [
       "SelectFromModel(estimator=LogisticRegression(C=1.0, class_weight='balanced',\n",
       "                                             dual=False, fit_intercept=True,\n",
       "                                             intercept_scaling=1, l1_ratio=None,\n",
       "                                             max_iter=100, multi_class='auto',\n",
       "                                             n_jobs=None, penalty='l2',\n",
       "                                             random_state=None, solver='lbfgs',\n",
       "                                             tol=0.0001, verbose=0,\n",
       "                                             warm_start=False),\n",
       "                max_features=None, norm_order=1, prefit=False,\n",
       "                threshold='1.25*median')"
      ]
     },
     "execution_count": 594,
     "metadata": {},
     "output_type": "execute_result"
    }
   ],
   "source": [
    "'''Logistic Regression'''\n",
    "\n",
    "embeded_lr_selector = SelectFromModel(LogisticRegression(penalty=\"l2\", class_weight = 'balanced', solver = 'lbfgs'), '1.25*median')\n",
    "embeded_lr_selector.fit(num_X, y)"
   ]
  },
  {
   "cell_type": "code",
   "execution_count": 595,
   "metadata": {},
   "outputs": [
    {
     "name": "stdout",
     "output_type": "stream",
     "text": [
      "5 selected features\n"
     ]
    }
   ],
   "source": [
    "embeded_lr_support = embeded_lr_selector.get_support()\n",
    "embeded_lr_feature = num_X.loc[:,embeded_lr_support].columns.tolist()\n",
    "print(str(len(embeded_lr_feature)), 'selected features')"
   ]
  },
  {
   "cell_type": "code",
   "execution_count": null,
   "metadata": {},
   "outputs": [],
   "source": []
  },
  {
   "cell_type": "code",
   "execution_count": 87,
   "metadata": {},
   "outputs": [
    {
     "data": {
      "text/plain": [
       "RandomForestClassifier(bootstrap=True, ccp_alpha=0.0, class_weight='balanced',\n",
       "                       criterion='gini', max_depth=None, max_features='auto',\n",
       "                       max_leaf_nodes=None, max_samples=None,\n",
       "                       min_impurity_decrease=0.0, min_impurity_split=None,\n",
       "                       min_samples_leaf=1, min_samples_split=2,\n",
       "                       min_weight_fraction_leaf=0.0, n_estimators=100,\n",
       "                       n_jobs=None, oob_score=False, random_state=None,\n",
       "                       verbose=0, warm_start=False)"
      ]
     },
     "execution_count": 87,
     "metadata": {},
     "output_type": "execute_result"
    }
   ],
   "source": [
    "'''Random Forest'''\n",
    "\n",
    "rfc = RandomForestClassifier(n_estimators=100, class_weight = 'balanced')\n",
    "embeded_rf_selector = SelectFromModel(RandomForestClassifier(n_estimators=100, class_weight = 'balanced'), threshold='1.25*median', max_features = 45)\n",
    "embeded_rf_selector.fit(X, y)\n",
    "rfc.fit(X_train, y_train)"
   ]
  },
  {
   "cell_type": "code",
   "execution_count": 88,
   "metadata": {},
   "outputs": [
    {
     "name": "stdout",
     "output_type": "stream",
     "text": [
      "41 selected features\n"
     ]
    }
   ],
   "source": [
    "embeded_rf_support = embeded_rf_selector.get_support()\n",
    "embeded_rf_feature = X.loc[:,embeded_rf_support].columns.tolist()\n",
    "print(str(len(embeded_rf_feature)), 'selected features')"
   ]
  },
  {
   "cell_type": "code",
   "execution_count": 89,
   "metadata": {},
   "outputs": [],
   "source": [
    "y_pred = rfc.predict(X_test)"
   ]
  },
  {
   "cell_type": "code",
   "execution_count": 90,
   "metadata": {},
   "outputs": [
    {
     "name": "stdout",
     "output_type": "stream",
     "text": [
      "정확도 (Accuracy): 0.994715 , 정밀도 (Precision): 0.272727 , 재현율 (Recall): 0.004304 , 특이도 (Specificity): 0.999939\n"
     ]
    }
   ],
   "source": [
    "# Confusion Matrix의 4가지 결과값 도출\n",
    "cm = confusion_matrix(y_test, y_pred)\n",
    "\n",
    "tn = cm[0,0]\n",
    "tp = cm[1,1]\n",
    "fp = cm[0,1]\n",
    "fn = cm[1,0]\n",
    "\n",
    "acc = (tp + tn) / (tp + tn + fp + fn)\n",
    "prec = tp / (tp+fp)\n",
    "sen = tp / (tp+fn)\n",
    "spec = tn / (fp + tn)\n",
    "\n",
    "print('정확도 (Accuracy): %f , 정밀도 (Precision): %f , 재현율 (Recall): %f , 특이도 (Specificity): %f' % (acc, prec, sen, spec))"
   ]
  },
  {
   "cell_type": "code",
   "execution_count": 91,
   "metadata": {},
   "outputs": [
    {
     "data": {
      "image/png": "[encoded data removed]",
      "text/plain": [
       "<Figure size 360x360 with 2 Axes>"
      ]
     },
     "metadata": {
      "needs_background": "light"
     },
     "output_type": "display_data"
    }
   ],
   "source": [
    "class_names = ['N', 'Y']\n",
    "fig, ax = plot_confusion_matrix(conf_mat = cm, show_absolute=True, show_normed=True, colorbar=True, class_names = class_names)\n",
    "\n",
    "plt.rcParams[\"figure.figsize\"] = (5, 5)\n",
    "plt.show()"
   ]
  },
  {
   "cell_type": "code",
   "execution_count": 92,
   "metadata": {},
   "outputs": [
    {
     "data": {
      "text/plain": [
       "2"
      ]
     },
     "execution_count": 92,
     "metadata": {},
     "output_type": "execute_result"
    }
   ],
   "source": [
    "1 + 1"
   ]
  },
  {
   "cell_type": "code",
   "execution_count": null,
   "metadata": {},
   "outputs": [],
   "source": []
  },
  {
   "cell_type": "code",
   "execution_count": null,
   "metadata": {},
   "outputs": [],
   "source": []
  },
  {
   "cell_type": "code",
   "execution_count": null,
   "metadata": {},
   "outputs": [],
   "source": []
  },
  {
   "cell_type": "code",
   "execution_count": 216,
   "metadata": {},
   "outputs": [
    {
     "data": {
      "text/plain": [
       "LGBMClassifier(boosting_type='gbdt', class_weight='balanced',\n",
       "               colsample_bytree=0.2, importance_type='split',\n",
       "               learning_rate=0.05, max_bin=32, max_depth=-1,\n",
       "               min_child_samples=20, min_child_weight=40, min_split_gain=0.01,\n",
       "               n_estimators=100, n_jobs=-1, num_leaves=32, objective=None,\n",
       "               random_state=None, reg_alpha=3, reg_lambda=1, silent=True,\n",
       "               subsample=1.0, subsample_for_bin=200000, subsample_freq=0)"
      ]
     },
     "execution_count": 216,
     "metadata": {},
     "output_type": "execute_result"
    }
   ],
   "source": [
    "'''LightGBM'''\n",
    "\n",
    "lgbc = LGBMClassifier(n_estimators=100, learning_rate=0.05, num_leaves=32, colsample_bytree=0.2, max_bin = 32,\n",
    "            reg_alpha=3, reg_lambda=1, min_split_gain=0.01, min_child_weight=40, class_weight = 'balanced')\n",
    "\n",
    "'''lgbc = LGBMClassifier(n_estimators=100, learning_rate=0.05, num_leaves=512, colsample_bytree=0.2,\n",
    "                      application = 'binary', boositing = 'goss',\n",
    "           reg_alpha=3, reg_lambda=1, min_split_gain=0.01, min_child_weight=40, max_depth = 50, class_weight = 'balanced',\n",
    "                     max_bins = 50, min_sum_hessian_in_leaf = 30, min_data_in_leaf = 100)'''\n",
    "\n",
    "embeded_lgb_selector = SelectFromModel(lgbc, threshold='1.25*median')\n",
    "embeded_lgb_selector.fit(X, y)\n",
    "lgbc.fit(X_train, y_train)"
   ]
  },
  {
   "cell_type": "code",
   "execution_count": 205,
   "metadata": {},
   "outputs": [
    {
     "name": "stdout",
     "output_type": "stream",
     "text": [
      "15 selected features\n"
     ]
    }
   ],
   "source": [
    "embeded_lgb_support = embeded_lgb_selector.get_support()\n",
    "embeded_lgb_feature = X.loc[:,embeded_lgb_support].columns.tolist()\n",
    "print(str(len(embeded_lgb_feature)), 'selected features')"
   ]
  },
  {
   "cell_type": "code",
   "execution_count": 217,
   "metadata": {},
   "outputs": [
    {
     "data": {
      "text/plain": [
       "(132836,)"
      ]
     },
     "execution_count": 217,
     "metadata": {},
     "output_type": "execute_result"
    }
   ],
   "source": [
    "y_pred = lgbc.predict(X_test)\n",
    "y_pred.shape"
   ]
  },
  {
   "cell_type": "code",
   "execution_count": 218,
   "metadata": {},
   "outputs": [],
   "source": [
    "# Confusion Matrix의 4가지 결과값 도출\n",
    "cm = confusion_matrix(y_test, y_pred)"
   ]
  },
  {
   "cell_type": "code",
   "execution_count": 219,
   "metadata": {},
   "outputs": [
    {
     "name": "stdout",
     "output_type": "stream",
     "text": [
      "정확도 (Accuracy): 0.778419 , 정밀도 (Precision): 0.016693 , 재현율 (Recall): 0.695652 , 특이도 (Specificity): 0.778865\n"
     ]
    }
   ],
   "source": [
    "tn = cm[0,0]\n",
    "tp = cm[1,1]\n",
    "fp = cm[0,1]\n",
    "fn = cm[1,0]\n",
    "\n",
    "acc = (tp + tn) / (tp + tn + fp + fn)\n",
    "prec = tp / (tp+fp)\n",
    "sen = tp / (tp+fn)\n",
    "spec = tn / (fp + tn)\n",
    "\n",
    "print('정확도 (Accuracy): %f , 정밀도 (Precision): %f , 재현율 (Recall): %f , 특이도 (Specificity): %f' % (acc, prec, sen, spec))"
   ]
  },
  {
   "cell_type": "code",
   "execution_count": 220,
   "metadata": {},
   "outputs": [
    {
     "data": {
      "image/png": "[encoded data removed]",
      "text/plain": [
       "<Figure size 360x360 with 2 Axes>"
      ]
     },
     "metadata": {
      "needs_background": "light"
     },
     "output_type": "display_data"
    }
   ],
   "source": [
    "class_names = ['N', 'Y']\n",
    "fig, ax = plot_confusion_matrix(conf_mat = cm, show_absolute=True, show_normed=True, colorbar=True, class_names = class_names)\n",
    "\n",
    "plt.rcParams[\"figure.figsize\"] = (5, 5)\n",
    "plt.show()"
   ]
  },
  {
   "cell_type": "code",
   "execution_count": 221,
   "metadata": {
    "scrolled": true
   },
   "outputs": [
    {
     "data": {
      "image/png": "[encoded data removed]",
      "text/plain": [
       "<Figure size 720x360 with 1 Axes>"
      ]
     },
     "metadata": {
      "needs_background": "light"
     },
     "output_type": "display_data"
    }
   ],
   "source": [
    "# ROC 커브 및 AUC 도출\n",
    "FPR, TPR, thresholds = roc_curve(y_test, y_pred)\n",
    "\n",
    "plt.figure(figsize=(10,5))  # figsize in inches\n",
    "plt.plot(FPR, TPR)\n",
    "plt.xlim([0.0, 1.0])\n",
    "plt.ylim([0.0, 1.0])\n",
    "plt.plot([0, 1], [0, 1], color='navy', lw=2, linestyle='--')  # 50%\n",
    "plt.plot(FPR, TPR, lw=2, label='Light GBM (AUC = %0.2f)' % auc(FPR, TPR))\n",
    "plt.title('ROC curve')\n",
    "plt.xlabel('1 - Specificity')\n",
    "plt.ylabel('Sensitivity')\n",
    "plt.grid(True)\n",
    "plt.legend(loc=\"lower right\")\n",
    "plt.show()"
   ]
  },
  {
   "cell_type": "code",
   "execution_count": 223,
   "metadata": {},
   "outputs": [
    {
     "data": {
      "image/png": "[encoded data removed]",
      "text/plain": [
       "<Figure size 1152x1152 with 1 Axes>"
      ]
     },
     "metadata": {
      "needs_background": "light"
     },
     "output_type": "display_data"
    }
   ],
   "source": [
    "plot_importance(lgbc, grid = False)\n",
    "plt.rcParams['figure.figsize'] = (16, 16)\n",
    "plt.rcParams['font.family'] = 'AppleGothic'\n",
    "plt.rcParams['font.size'] = 10\n",
    "plt.title('피처 엔지니어링 후 Lightgbm 변수 중요도')\n",
    "plt.show()"
   ]
  },
  {
   "cell_type": "code",
   "execution_count": null,
   "metadata": {},
   "outputs": [],
   "source": []
  },
  {
   "cell_type": "code",
   "execution_count": null,
   "metadata": {},
   "outputs": [],
   "source": []
  },
  {
   "cell_type": "code",
   "execution_count": null,
   "metadata": {},
   "outputs": [],
   "source": []
  },
  {
   "cell_type": "code",
   "execution_count": null,
   "metadata": {},
   "outputs": [],
   "source": []
  },
  {
   "cell_type": "code",
   "execution_count": null,
   "metadata": {},
   "outputs": [],
   "source": []
  },
  {
   "cell_type": "code",
   "execution_count": 603,
   "metadata": {},
   "outputs": [
    {
     "name": "stdout",
     "output_type": "stream",
     "text": [
      "10 selected features\n"
     ]
    }
   ],
   "source": [
    "'''ANOVA - F 검정'''\n",
    "f_selector = SelectKBest(f_classif, k=10)\n",
    "f_selector.fit(num_X, y)\n",
    "\n",
    "f_support = f_selector.get_support()\n",
    "f_feature = num_X.loc[:,f_support].columns.tolist()\n",
    "print(str(len(f_feature)), 'selected features')"
   ]
  },
  {
   "cell_type": "code",
   "execution_count": 604,
   "metadata": {},
   "outputs": [
    {
     "name": "stdout",
     "output_type": "stream",
     "text": [
      "45 selected features\n"
     ]
    }
   ],
   "source": [
    "''' 상호정보량 검정'''\n",
    "mi_selector = SelectKBest(mutual_info_classif, k=45)\n",
    "mi_selector.fit(X, y)\n",
    "\n",
    "mi_support = mi_selector.get_support()\n",
    "mi_feature = X.loc[:,mi_support].columns.tolist()\n",
    "print(str(len(mi_feature)), 'selected features')"
   ]
  },
  {
   "cell_type": "code",
   "execution_count": null,
   "metadata": {},
   "outputs": [],
   "source": []
  },
  {
   "cell_type": "code",
   "execution_count": null,
   "metadata": {},
   "outputs": [],
   "source": []
  },
  {
   "cell_type": "code",
   "execution_count": null,
   "metadata": {},
   "outputs": [],
   "source": []
  },
  {
   "cell_type": "code",
   "execution_count": 605,
   "metadata": {},
   "outputs": [],
   "source": [
    "''' 연속형 summary '''\n",
    "pd.set_option('display.max_rows', None)\n",
    "# put all selection together\n",
    "feature_selection_df = pd.DataFrame({'Feature':num_feature_name, 'Logistics':embeded_lr_support, \n",
    "                                    'ANOVA - F':f_support})"
   ]
  },
  {
   "cell_type": "code",
   "execution_count": 606,
   "metadata": {},
   "outputs": [
    {
     "data": {
      "text/html": [
       "<div>\n",
       "<style scoped>\n",
       "    .dataframe tbody tr th:only-of-type {\n",
       "        vertical-align: middle;\n",
       "    }\n",
       "\n",
       "    .dataframe tbody tr th {\n",
       "        vertical-align: top;\n",
       "    }\n",
       "\n",
       "    .dataframe thead th {\n",
       "        text-align: right;\n",
       "    }\n",
       "</style>\n",
       "<table border=\"1\" class=\"dataframe\">\n",
       "  <thead>\n",
       "    <tr style=\"text-align: right;\">\n",
       "      <th></th>\n",
       "      <th>Feature</th>\n",
       "      <th>Logistics</th>\n",
       "      <th>ANOVA - F</th>\n",
       "      <th>Total</th>\n",
       "    </tr>\n",
       "  </thead>\n",
       "  <tbody>\n",
       "    <tr>\n",
       "      <th>1</th>\n",
       "      <td>topis_22_07</td>\n",
       "      <td>True</td>\n",
       "      <td>True</td>\n",
       "      <td>2</td>\n",
       "    </tr>\n",
       "    <tr>\n",
       "      <th>2</th>\n",
       "      <td>topis_09_19</td>\n",
       "      <td>True</td>\n",
       "      <td>True</td>\n",
       "      <td>2</td>\n",
       "    </tr>\n",
       "    <tr>\n",
       "      <th>3</th>\n",
       "      <td>pop_09_19</td>\n",
       "      <td>True</td>\n",
       "      <td>True</td>\n",
       "      <td>2</td>\n",
       "    </tr>\n",
       "    <tr>\n",
       "      <th>4</th>\n",
       "      <td>pop_07_09</td>\n",
       "      <td>True</td>\n",
       "      <td>True</td>\n",
       "      <td>2</td>\n",
       "    </tr>\n",
       "    <tr>\n",
       "      <th>5</th>\n",
       "      <td>topis_19_22</td>\n",
       "      <td>False</td>\n",
       "      <td>True</td>\n",
       "      <td>1</td>\n",
       "    </tr>\n",
       "    <tr>\n",
       "      <th>6</th>\n",
       "      <td>topis_07_09</td>\n",
       "      <td>False</td>\n",
       "      <td>True</td>\n",
       "      <td>1</td>\n",
       "    </tr>\n",
       "    <tr>\n",
       "      <th>7</th>\n",
       "      <td>pop_22_07</td>\n",
       "      <td>False</td>\n",
       "      <td>True</td>\n",
       "      <td>1</td>\n",
       "    </tr>\n",
       "    <tr>\n",
       "      <th>8</th>\n",
       "      <td>pop_19_22</td>\n",
       "      <td>True</td>\n",
       "      <td>False</td>\n",
       "      <td>1</td>\n",
       "    </tr>\n",
       "    <tr>\n",
       "      <th>9</th>\n",
       "      <td>WS</td>\n",
       "      <td>False</td>\n",
       "      <td>True</td>\n",
       "      <td>1</td>\n",
       "    </tr>\n",
       "    <tr>\n",
       "      <th>10</th>\n",
       "      <td>TEMP</td>\n",
       "      <td>False</td>\n",
       "      <td>True</td>\n",
       "      <td>1</td>\n",
       "    </tr>\n",
       "    <tr>\n",
       "      <th>11</th>\n",
       "      <td>RF</td>\n",
       "      <td>False</td>\n",
       "      <td>True</td>\n",
       "      <td>1</td>\n",
       "    </tr>\n",
       "    <tr>\n",
       "      <th>12</th>\n",
       "      <td>WD</td>\n",
       "      <td>False</td>\n",
       "      <td>False</td>\n",
       "      <td>0</td>\n",
       "    </tr>\n",
       "    <tr>\n",
       "      <th>13</th>\n",
       "      <td>HM</td>\n",
       "      <td>False</td>\n",
       "      <td>False</td>\n",
       "      <td>0</td>\n",
       "    </tr>\n",
       "  </tbody>\n",
       "</table>\n",
       "</div>"
      ],
      "text/plain": [
       "        Feature  Logistics  ANOVA - F  Total\n",
       "1   topis_22_07       True       True      2\n",
       "2   topis_09_19       True       True      2\n",
       "3     pop_09_19       True       True      2\n",
       "4     pop_07_09       True       True      2\n",
       "5   topis_19_22      False       True      1\n",
       "6   topis_07_09      False       True      1\n",
       "7     pop_22_07      False       True      1\n",
       "8     pop_19_22       True      False      1\n",
       "9            WS      False       True      1\n",
       "10         TEMP      False       True      1\n",
       "11           RF      False       True      1\n",
       "12           WD      False      False      0\n",
       "13           HM      False      False      0"
      ]
     },
     "execution_count": 606,
     "metadata": {},
     "output_type": "execute_result"
    }
   ],
   "source": [
    "# count the selected times for each feature\n",
    "feature_selection_df['Total'] = np.sum(feature_selection_df, axis=1)\n",
    "# display the top 100\n",
    "feature_selection_df = feature_selection_df.sort_values(['Total','Feature'] , ascending=False)\n",
    "feature_selection_df.index = range(1, len(feature_selection_df)+1)\n",
    "feature_selection_df.head(30)\n",
    "# test = feature_selection_df.head(30)\n",
    "# test.to_excel('/Users/wbchoi/Downloads/test.xlsx', index = False)"
   ]
  },
  {
   "cell_type": "code",
   "execution_count": 648,
   "metadata": {},
   "outputs": [
    {
     "data": {
      "text/html": [
       "<div>\n",
       "<style scoped>\n",
       "    .dataframe tbody tr th:only-of-type {\n",
       "        vertical-align: middle;\n",
       "    }\n",
       "\n",
       "    .dataframe tbody tr th {\n",
       "        vertical-align: top;\n",
       "    }\n",
       "\n",
       "    .dataframe thead th {\n",
       "        text-align: right;\n",
       "    }\n",
       "</style>\n",
       "<table border=\"1\" class=\"dataframe\">\n",
       "  <thead>\n",
       "    <tr style=\"text-align: right;\">\n",
       "      <th></th>\n",
       "      <th>Feature</th>\n",
       "      <th>Chi-2</th>\n",
       "      <th>Total</th>\n",
       "    </tr>\n",
       "  </thead>\n",
       "  <tbody>\n",
       "    <tr>\n",
       "      <th>1</th>\n",
       "      <td>S_P_UTERN_YN</td>\n",
       "      <td>True</td>\n",
       "      <td>1</td>\n",
       "    </tr>\n",
       "    <tr>\n",
       "      <th>2</th>\n",
       "      <td>S_P_UTERNX_YN</td>\n",
       "      <td>True</td>\n",
       "      <td>1</td>\n",
       "    </tr>\n",
       "    <tr>\n",
       "      <th>3</th>\n",
       "      <td>S_P_UTERNX_CNT</td>\n",
       "      <td>True</td>\n",
       "      <td>1</td>\n",
       "    </tr>\n",
       "    <tr>\n",
       "      <th>4</th>\n",
       "      <td>S_P_KIDS_YN</td>\n",
       "      <td>True</td>\n",
       "      <td>1</td>\n",
       "    </tr>\n",
       "    <tr>\n",
       "      <th>5</th>\n",
       "      <td>S_P_KIDS_CNT</td>\n",
       "      <td>True</td>\n",
       "      <td>1</td>\n",
       "    </tr>\n",
       "    <tr>\n",
       "      <th>6</th>\n",
       "      <td>SUB_YN</td>\n",
       "      <td>True</td>\n",
       "      <td>1</td>\n",
       "    </tr>\n",
       "    <tr>\n",
       "      <th>7</th>\n",
       "      <td>SN_P_HDUFID_YN</td>\n",
       "      <td>True</td>\n",
       "      <td>1</td>\n",
       "    </tr>\n",
       "    <tr>\n",
       "      <th>8</th>\n",
       "      <td>SF_P_UTERN_YN</td>\n",
       "      <td>True</td>\n",
       "      <td>1</td>\n",
       "    </tr>\n",
       "    <tr>\n",
       "      <th>9</th>\n",
       "      <td>SF_P_UTERN_CNT</td>\n",
       "      <td>True</td>\n",
       "      <td>1</td>\n",
       "    </tr>\n",
       "    <tr>\n",
       "      <th>10</th>\n",
       "      <td>SF_P_ALL_YN</td>\n",
       "      <td>True</td>\n",
       "      <td>1</td>\n",
       "    </tr>\n",
       "    <tr>\n",
       "      <th>11</th>\n",
       "      <td>SF_PL_CW_YN</td>\n",
       "      <td>True</td>\n",
       "      <td>1</td>\n",
       "    </tr>\n",
       "    <tr>\n",
       "      <th>12</th>\n",
       "      <td>SF_PL_CW_CNT</td>\n",
       "      <td>True</td>\n",
       "      <td>1</td>\n",
       "    </tr>\n",
       "    <tr>\n",
       "      <th>13</th>\n",
       "      <td>SF_L_ALL_YN</td>\n",
       "      <td>True</td>\n",
       "      <td>1</td>\n",
       "    </tr>\n",
       "    <tr>\n",
       "      <th>14</th>\n",
       "      <td>SF_L_1_YN</td>\n",
       "      <td>True</td>\n",
       "      <td>1</td>\n",
       "    </tr>\n",
       "    <tr>\n",
       "      <th>15</th>\n",
       "      <td>ROAD_RANK_101_YN</td>\n",
       "      <td>True</td>\n",
       "      <td>1</td>\n",
       "    </tr>\n",
       "    <tr>\n",
       "      <th>16</th>\n",
       "      <td>NODE_LANES_YN</td>\n",
       "      <td>True</td>\n",
       "      <td>1</td>\n",
       "    </tr>\n",
       "    <tr>\n",
       "      <th>17</th>\n",
       "      <td>NODE_LANES_CNT</td>\n",
       "      <td>True</td>\n",
       "      <td>1</td>\n",
       "    </tr>\n",
       "    <tr>\n",
       "      <th>18</th>\n",
       "      <td>NODE_INTER_YN</td>\n",
       "      <td>True</td>\n",
       "      <td>1</td>\n",
       "    </tr>\n",
       "    <tr>\n",
       "      <th>19</th>\n",
       "      <td>NODE_INTERS_YN</td>\n",
       "      <td>True</td>\n",
       "      <td>1</td>\n",
       "    </tr>\n",
       "    <tr>\n",
       "      <th>20</th>\n",
       "      <td>NODE_ALL_YN</td>\n",
       "      <td>True</td>\n",
       "      <td>1</td>\n",
       "    </tr>\n",
       "    <tr>\n",
       "      <th>21</th>\n",
       "      <td>MAX_SPD</td>\n",
       "      <td>True</td>\n",
       "      <td>1</td>\n",
       "    </tr>\n",
       "    <tr>\n",
       "      <th>22</th>\n",
       "      <td>LANES</td>\n",
       "      <td>True</td>\n",
       "      <td>1</td>\n",
       "    </tr>\n",
       "    <tr>\n",
       "      <th>23</th>\n",
       "      <td>HUMP_YN</td>\n",
       "      <td>True</td>\n",
       "      <td>1</td>\n",
       "    </tr>\n",
       "    <tr>\n",
       "      <th>24</th>\n",
       "      <td>GONGSA_YN</td>\n",
       "      <td>True</td>\n",
       "      <td>1</td>\n",
       "    </tr>\n",
       "    <tr>\n",
       "      <th>25</th>\n",
       "      <td>CW_YN</td>\n",
       "      <td>True</td>\n",
       "      <td>1</td>\n",
       "    </tr>\n",
       "    <tr>\n",
       "      <th>26</th>\n",
       "      <td>BUS_CNT</td>\n",
       "      <td>True</td>\n",
       "      <td>1</td>\n",
       "    </tr>\n",
       "    <tr>\n",
       "      <th>27</th>\n",
       "      <td>A3_ROADTYPE_5_YN</td>\n",
       "      <td>True</td>\n",
       "      <td>1</td>\n",
       "    </tr>\n",
       "    <tr>\n",
       "      <th>28</th>\n",
       "      <td>A3_ROADTYPE_3_YN</td>\n",
       "      <td>True</td>\n",
       "      <td>1</td>\n",
       "    </tr>\n",
       "    <tr>\n",
       "      <th>29</th>\n",
       "      <td>A3_ROADTYPE_3_CNT</td>\n",
       "      <td>True</td>\n",
       "      <td>1</td>\n",
       "    </tr>\n",
       "    <tr>\n",
       "      <th>30</th>\n",
       "      <td>A3_ROADTYPE_1_YN</td>\n",
       "      <td>True</td>\n",
       "      <td>1</td>\n",
       "    </tr>\n",
       "    <tr>\n",
       "      <th>31</th>\n",
       "      <td>A2_STOP_2_YN</td>\n",
       "      <td>True</td>\n",
       "      <td>1</td>\n",
       "    </tr>\n",
       "    <tr>\n",
       "      <th>32</th>\n",
       "      <td>A2_STOP_1_CNT</td>\n",
       "      <td>True</td>\n",
       "      <td>1</td>\n",
       "    </tr>\n",
       "    <tr>\n",
       "      <th>33</th>\n",
       "      <td>A1_LANE_04_YN</td>\n",
       "      <td>True</td>\n",
       "      <td>1</td>\n",
       "    </tr>\n",
       "    <tr>\n",
       "      <th>34</th>\n",
       "      <td>A1_LANE_04_CNT</td>\n",
       "      <td>True</td>\n",
       "      <td>1</td>\n",
       "    </tr>\n",
       "    <tr>\n",
       "      <th>35</th>\n",
       "      <td>A1_LANE_02_YN</td>\n",
       "      <td>True</td>\n",
       "      <td>1</td>\n",
       "    </tr>\n",
       "    <tr>\n",
       "      <th>36</th>\n",
       "      <td>A1_BARR_05_CNT</td>\n",
       "      <td>True</td>\n",
       "      <td>1</td>\n",
       "    </tr>\n",
       "    <tr>\n",
       "      <th>37</th>\n",
       "      <td>A1_BARR_03_YN</td>\n",
       "      <td>True</td>\n",
       "      <td>1</td>\n",
       "    </tr>\n",
       "    <tr>\n",
       "      <th>38</th>\n",
       "      <td>A1_BARR_03_CNT</td>\n",
       "      <td>True</td>\n",
       "      <td>1</td>\n",
       "    </tr>\n",
       "    <tr>\n",
       "      <th>39</th>\n",
       "      <td>A1_BARR_02_YN</td>\n",
       "      <td>True</td>\n",
       "      <td>1</td>\n",
       "    </tr>\n",
       "    <tr>\n",
       "      <th>40</th>\n",
       "      <td>A1_BARR_02_CNT</td>\n",
       "      <td>True</td>\n",
       "      <td>1</td>\n",
       "    </tr>\n",
       "    <tr>\n",
       "      <th>41</th>\n",
       "      <td>S_P_UTERN_CNT</td>\n",
       "      <td>False</td>\n",
       "      <td>0</td>\n",
       "    </tr>\n",
       "    <tr>\n",
       "      <th>42</th>\n",
       "      <td>S_P_BIKE_YN</td>\n",
       "      <td>False</td>\n",
       "      <td>0</td>\n",
       "    </tr>\n",
       "    <tr>\n",
       "      <th>43</th>\n",
       "      <td>S_P_BIKE_CNT</td>\n",
       "      <td>False</td>\n",
       "      <td>0</td>\n",
       "    </tr>\n",
       "    <tr>\n",
       "      <th>44</th>\n",
       "      <td>SUB_CNT</td>\n",
       "      <td>False</td>\n",
       "      <td>0</td>\n",
       "    </tr>\n",
       "    <tr>\n",
       "      <th>45</th>\n",
       "      <td>SN_P_HDUFID_CNT</td>\n",
       "      <td>False</td>\n",
       "      <td>0</td>\n",
       "    </tr>\n",
       "  </tbody>\n",
       "</table>\n",
       "</div>"
      ],
      "text/plain": [
       "              Feature  Chi-2  Total\n",
       "1        S_P_UTERN_YN   True      1\n",
       "2       S_P_UTERNX_YN   True      1\n",
       "3      S_P_UTERNX_CNT   True      1\n",
       "4         S_P_KIDS_YN   True      1\n",
       "5        S_P_KIDS_CNT   True      1\n",
       "6              SUB_YN   True      1\n",
       "7      SN_P_HDUFID_YN   True      1\n",
       "8       SF_P_UTERN_YN   True      1\n",
       "9      SF_P_UTERN_CNT   True      1\n",
       "10        SF_P_ALL_YN   True      1\n",
       "11        SF_PL_CW_YN   True      1\n",
       "12       SF_PL_CW_CNT   True      1\n",
       "13        SF_L_ALL_YN   True      1\n",
       "14          SF_L_1_YN   True      1\n",
       "15   ROAD_RANK_101_YN   True      1\n",
       "16      NODE_LANES_YN   True      1\n",
       "17     NODE_LANES_CNT   True      1\n",
       "18      NODE_INTER_YN   True      1\n",
       "19     NODE_INTERS_YN   True      1\n",
       "20        NODE_ALL_YN   True      1\n",
       "21            MAX_SPD   True      1\n",
       "22              LANES   True      1\n",
       "23            HUMP_YN   True      1\n",
       "24          GONGSA_YN   True      1\n",
       "25              CW_YN   True      1\n",
       "26            BUS_CNT   True      1\n",
       "27   A3_ROADTYPE_5_YN   True      1\n",
       "28   A3_ROADTYPE_3_YN   True      1\n",
       "29  A3_ROADTYPE_3_CNT   True      1\n",
       "30   A3_ROADTYPE_1_YN   True      1\n",
       "31       A2_STOP_2_YN   True      1\n",
       "32      A2_STOP_1_CNT   True      1\n",
       "33      A1_LANE_04_YN   True      1\n",
       "34     A1_LANE_04_CNT   True      1\n",
       "35      A1_LANE_02_YN   True      1\n",
       "36     A1_BARR_05_CNT   True      1\n",
       "37      A1_BARR_03_YN   True      1\n",
       "38     A1_BARR_03_CNT   True      1\n",
       "39      A1_BARR_02_YN   True      1\n",
       "40     A1_BARR_02_CNT   True      1\n",
       "41      S_P_UTERN_CNT  False      0\n",
       "42        S_P_BIKE_YN  False      0\n",
       "43       S_P_BIKE_CNT  False      0\n",
       "44            SUB_CNT  False      0\n",
       "45    SN_P_HDUFID_CNT  False      0"
      ]
     },
     "execution_count": 648,
     "metadata": {},
     "output_type": "execute_result"
    }
   ],
   "source": [
    "''' 범주형 summary '''\n",
    "pd.set_option('display.max_rows', None)\n",
    "# put all selection together\n",
    "feature_selection_df = pd.DataFrame({'Feature':cat_feature_name, 'Chi-2':chi_support})\n",
    "\n",
    "# count the selected times for each feature\n",
    "feature_selection_df['Total'] = np.sum(feature_selection_df, axis=1)\n",
    "# display the top 100\n",
    "feature_selection_df = feature_selection_df.sort_values(['Total','Feature'] , ascending=False)\n",
    "feature_selection_df.index = range(1, len(feature_selection_df)+1)\n",
    "feature_selection_df.head(45)\n",
    "# test = feature_selection_df.head(45)\n",
    "# test.to_excel('/Users/wbchoi/Downloads/test_2.xlsx', index = False)"
   ]
  },
  {
   "cell_type": "code",
   "execution_count": 693,
   "metadata": {},
   "outputs": [],
   "source": [
    "''' 연속형 / 범주형 summary '''\n",
    "pd.set_option('display.max_rows', None)\n",
    "# put all selection together\n",
    "# feature_selection_df = pd.DataFrame({'Feature':feature_name, 'MI':mi_support, 'RFE':rfe_support, 'Random Forest':embeded_rf_support, 'LightGBM':embeded_lgb_support})\n",
    "feature_selection_df = pd.DataFrame({'Feature':feature_name, 'LightGBM':embeded_lgb_support})\n",
    "\n",
    "# count the selected times for each feature\n",
    "feature_selection_df['Total'] = np.sum(feature_selection_df, axis=1)\n",
    "# display the top 100\n",
    "feature_selection_df = feature_selection_df.sort_values(['Total','Feature'] , ascending=False)\n",
    "feature_selection_df.index = range(1, len(feature_selection_df)+1)\n",
    "feature_selection_df.head(30)\n",
    "# feature_selection_df.to_excel('/Users/wbchoi/Downloads/test_2.xlsx', index = False)"
   ]
  },
  {
   "cell_type": "code",
   "execution_count": null,
   "metadata": {},
   "outputs": [],
   "source": []
  },
  {
   "cell_type": "code",
   "execution_count": null,
   "metadata": {},
   "outputs": [],
   "source": []
  },
  {
   "cell_type": "code",
   "execution_count": null,
   "metadata": {},
   "outputs": [],
   "source": []
  },
  {
   "cell_type": "code",
   "execution_count": null,
   "metadata": {},
   "outputs": [],
   "source": []
  },
  {
   "cell_type": "code",
   "execution_count": null,
   "metadata": {},
   "outputs": [],
   "source": []
  },
  {
   "cell_type": "markdown",
   "metadata": {},
   "source": [
    "# 유의 변수 기반 분석\n"
   ]
  },
  {
   "cell_type": "code",
   "execution_count": null,
   "metadata": {},
   "outputs": [],
   "source": []
  },
  {
   "cell_type": "code",
   "execution_count": 718,
   "metadata": {},
   "outputs": [],
   "source": [
    "'''연속형 공통, 범주형 공통 변수'''\n",
    "'''final_data_pca = final_data[['S_P_UTERN_YN', 'S_P_UTERNX_YN', 'S_P_KIDS_YN', 'SUB_YN', 'SN_P_HDUFID_YN', 'SF_P_UTERN_YN', 'SF_L_1_YN', 'ROAD_RANK_101_YN',\n",
    "                             'NODE_LANES_YN', 'NODE_INTERS_YN', 'HUMP_YN', 'GONGSA_YN', 'CW_YN', 'A3_ROADTYPE_5_YN', 'A3_ROADTYPE_3_YN', 'A3_ROADTYPE_1_YN',\n",
    "                             'A2_STOP_2_YN', 'A1_LANE_04_YN', 'A1_LANE_02_YN', 'A1_BARR_03_YN', 'A1_BARR_02_YN', 'S_P_UTERN_CNT', 'S_P_UTERNX_CNT', 'S_P_KIDS_CNT',\n",
    "                             'SUB_CNT', 'SF_P_UTERN_CNT', 'SF_PL_CW_CNT', 'NODE_LANES_CNT', 'BUS_CNT', 'A3_ROADTYPE_3_CNT', 'A2_STOP_1_CNT', 'A1_LANE_04_CNT',\n",
    "                             'A1_BARR_05_CNT', 'A1_BARR_03_CNT', 'A1_BARR_02_CNT',\n",
    "                            'topis_22_07시', 'topis_09_19시', 'pop_09_19시', 'pop_07_09시',\n",
    "                            'SAGO_YN']]'''\n",
    "\n",
    "'''연속형/범주형 공통변수 (mi, lightgbm, rf, rfe중 3개 이상)'''\n",
    "'''final_data_pca = final_data[['ROAD_RANK_101_YN', 'CW_YN', 'BUS_YN', 'A3_ROADTYPE_1_YN', 'topis_22_07시', 'topis_19_22시', 'pop_22_07시',\n",
    "                                'pop_09_19시', 'TEMP', 'SUB_CNT', 'NODE_LANES_CNT', 'CW_CNT', 'A3_ROADTYPE_3_CNT', 'A1_LANE_04_CNT', \n",
    "                                'A1_BARR_03_CNT', 'topis_09_19시', 'topis_07_09시', 'pop_07_09시', 'WS', 'WD', 'SN_P_HDUFID_CNT', 'SF_P_ALL_CNT', \n",
    "                                 'RF', 'NODE_INTERS_CNT', 'HM', 'BUS_CNT', 'A3_ROADTYPE_1_CNT',\n",
    "                                'A2_STOP_2_CNT', 'A2_STOP_1_CNT', 'A1_BARR_02_CNT',\n",
    "                            'SAGO_YN']]'''\n",
    "\n",
    "'''LightGBM 기반 변수 선택'''\n",
    "final_data_pca = final_data[['SUB_YN', 'ROAD_TYPE', 'MAX_SPD', 'LANES', 'GONGSA_YN', 'CW_YN', 'ROAD_RANK_101_YN', 'REST_VEH',\n",
    "                             'BUS_YN', 'SUB_CNT', 'SN_P_HDUFID_CNT', 'SF_P_ALL_CNT', 'SF_PL_CW_CNT', 'SF_L_ALL_CNT', 'NODE_LANES_CNT', 'NODE_INTERS_CNT',\n",
    "                             'CW_CNT', 'BUS_CNT', 'A3_ROADTYPE_1_CNT', 'A2_STOP_2_CNT', 'A2_STOP_1_CNT', 'A1_LANE_04_CNT', 'A1_BARR_05_CNT', 'A1_BARR_03_CNT',\n",
    "                             'A1_BARR_02_CNT', 'topis_22_07시', 'topis_19_22시', 'topis_09_19시', 'topis_07_09시', 'pop_22_07시', 'pop_19_22시', 'pop_09_19시',\n",
    "                             'pop_07_09시', 'WS', 'WD', 'TEMP', 'RF', 'HM',\n",
    "                             'SAGO_YN']]"
   ]
  },
  {
   "cell_type": "code",
   "execution_count": 719,
   "metadata": {},
   "outputs": [
    {
     "data": {
      "text/plain": [
       "Index(['SUB_CNT', 'SN_P_HDUFID_CNT', 'SF_P_ALL_CNT', 'SF_PL_CW_CNT',\n",
       "       'SF_L_ALL_CNT', 'NODE_LANES_CNT', 'NODE_INTERS_CNT', 'CW_CNT',\n",
       "       'BUS_CNT', 'A3_ROADTYPE_1_CNT', 'A2_STOP_2_CNT', 'A2_STOP_1_CNT',\n",
       "       'A1_LANE_04_CNT', 'A1_BARR_05_CNT', 'A1_BARR_03_CNT', 'A1_BARR_02_CNT',\n",
       "       'topis_22_07시', 'topis_19_22시', 'topis_09_19시', 'topis_07_09시',\n",
       "       'pop_22_07시', 'pop_19_22시', 'pop_09_19시', 'pop_07_09시', 'WS', 'WD',\n",
       "       'TEMP', 'RF', 'HM'],\n",
       "      dtype='object')"
      ]
     },
     "execution_count": 719,
     "metadata": {},
     "output_type": "execute_result"
    }
   ],
   "source": [
    "final_data_pca.iloc[:, 9:-1].columns"
   ]
  },
  {
   "cell_type": "markdown",
   "metadata": {},
   "source": [
    "# CNT 변수 표준화/정규화\n"
   ]
  },
  {
   "cell_type": "code",
   "execution_count": 720,
   "metadata": {},
   "outputs": [
    {
     "name": "stderr",
     "output_type": "stream",
     "text": [
      "/Users/wbchoi/anaconda3/lib/python3.7/site-packages/pandas/core/indexing.py:966: SettingWithCopyWarning: \n",
      "A value is trying to be set on a copy of a slice from a DataFrame.\n",
      "Try using .loc[row_indexer,col_indexer] = value instead\n",
      "\n",
      "See the caveats in the documentation: https://pandas.pydata.org/pandas-docs/stable/user_guide/indexing.html#returning-a-view-versus-a-copy\n",
      "  self.obj[item] = s\n"
     ]
    },
    {
     "data": {
      "text/html": [
       "<div>\n",
       "<style scoped>\n",
       "    .dataframe tbody tr th:only-of-type {\n",
       "        vertical-align: middle;\n",
       "    }\n",
       "\n",
       "    .dataframe tbody tr th {\n",
       "        vertical-align: top;\n",
       "    }\n",
       "\n",
       "    .dataframe thead th {\n",
       "        text-align: right;\n",
       "    }\n",
       "</style>\n",
       "<table border=\"1\" class=\"dataframe\">\n",
       "  <thead>\n",
       "    <tr style=\"text-align: right;\">\n",
       "      <th></th>\n",
       "      <th>SUB_CNT</th>\n",
       "      <th>SN_P_HDUFID_CNT</th>\n",
       "      <th>SF_P_ALL_CNT</th>\n",
       "      <th>SF_PL_CW_CNT</th>\n",
       "      <th>SF_L_ALL_CNT</th>\n",
       "      <th>NODE_LANES_CNT</th>\n",
       "      <th>NODE_INTERS_CNT</th>\n",
       "      <th>CW_CNT</th>\n",
       "      <th>BUS_CNT</th>\n",
       "      <th>A3_ROADTYPE_1_CNT</th>\n",
       "      <th>...</th>\n",
       "      <th>topis_07_09시</th>\n",
       "      <th>pop_22_07시</th>\n",
       "      <th>pop_19_22시</th>\n",
       "      <th>pop_09_19시</th>\n",
       "      <th>pop_07_09시</th>\n",
       "      <th>WS</th>\n",
       "      <th>WD</th>\n",
       "      <th>TEMP</th>\n",
       "      <th>RF</th>\n",
       "      <th>HM</th>\n",
       "    </tr>\n",
       "  </thead>\n",
       "  <tbody>\n",
       "    <tr>\n",
       "      <th>0</th>\n",
       "      <td>0.00000</td>\n",
       "      <td>0.00000</td>\n",
       "      <td>0.00000</td>\n",
       "      <td>0.00000</td>\n",
       "      <td>0.00000</td>\n",
       "      <td>0.00000</td>\n",
       "      <td>0.00000</td>\n",
       "      <td>0.22222</td>\n",
       "      <td>0.14286</td>\n",
       "      <td>0.00000</td>\n",
       "      <td>...</td>\n",
       "      <td>0.33708</td>\n",
       "      <td>0.02463</td>\n",
       "      <td>0.02114</td>\n",
       "      <td>0.02847</td>\n",
       "      <td>0.01937</td>\n",
       "      <td>0.20402</td>\n",
       "      <td>0.67981</td>\n",
       "      <td>0.36754</td>\n",
       "      <td>0.00000</td>\n",
       "      <td>0.71918</td>\n",
       "    </tr>\n",
       "    <tr>\n",
       "      <th>1</th>\n",
       "      <td>0.00000</td>\n",
       "      <td>0.00000</td>\n",
       "      <td>0.00000</td>\n",
       "      <td>0.00000</td>\n",
       "      <td>0.00000</td>\n",
       "      <td>0.00000</td>\n",
       "      <td>0.00000</td>\n",
       "      <td>0.22222</td>\n",
       "      <td>0.14286</td>\n",
       "      <td>0.00000</td>\n",
       "      <td>...</td>\n",
       "      <td>0.18555</td>\n",
       "      <td>0.02606</td>\n",
       "      <td>0.03411</td>\n",
       "      <td>0.09203</td>\n",
       "      <td>0.05977</td>\n",
       "      <td>0.33195</td>\n",
       "      <td>0.78484</td>\n",
       "      <td>0.35513</td>\n",
       "      <td>0.00000</td>\n",
       "      <td>0.75277</td>\n",
       "    </tr>\n",
       "    <tr>\n",
       "      <th>2</th>\n",
       "      <td>0.00000</td>\n",
       "      <td>0.00000</td>\n",
       "      <td>0.00000</td>\n",
       "      <td>0.00000</td>\n",
       "      <td>0.00000</td>\n",
       "      <td>0.00000</td>\n",
       "      <td>0.00000</td>\n",
       "      <td>0.22222</td>\n",
       "      <td>0.14286</td>\n",
       "      <td>0.00000</td>\n",
       "      <td>...</td>\n",
       "      <td>0.19347</td>\n",
       "      <td>0.02776</td>\n",
       "      <td>0.03277</td>\n",
       "      <td>0.09313</td>\n",
       "      <td>0.05846</td>\n",
       "      <td>0.45620</td>\n",
       "      <td>0.85751</td>\n",
       "      <td>0.29574</td>\n",
       "      <td>0.00000</td>\n",
       "      <td>0.73297</td>\n",
       "    </tr>\n",
       "    <tr>\n",
       "      <th>3</th>\n",
       "      <td>0.00000</td>\n",
       "      <td>0.00000</td>\n",
       "      <td>0.00000</td>\n",
       "      <td>0.00000</td>\n",
       "      <td>0.00000</td>\n",
       "      <td>0.00000</td>\n",
       "      <td>0.00000</td>\n",
       "      <td>0.22222</td>\n",
       "      <td>0.14286</td>\n",
       "      <td>0.00000</td>\n",
       "      <td>...</td>\n",
       "      <td>0.18236</td>\n",
       "      <td>0.02835</td>\n",
       "      <td>0.03447</td>\n",
       "      <td>0.09172</td>\n",
       "      <td>0.05766</td>\n",
       "      <td>0.29601</td>\n",
       "      <td>0.74071</td>\n",
       "      <td>0.28790</td>\n",
       "      <td>0.00000</td>\n",
       "      <td>0.74329</td>\n",
       "    </tr>\n",
       "    <tr>\n",
       "      <th>4</th>\n",
       "      <td>0.00000</td>\n",
       "      <td>0.00000</td>\n",
       "      <td>0.00000</td>\n",
       "      <td>0.00000</td>\n",
       "      <td>0.00000</td>\n",
       "      <td>0.00000</td>\n",
       "      <td>0.00000</td>\n",
       "      <td>0.22222</td>\n",
       "      <td>0.14286</td>\n",
       "      <td>0.00000</td>\n",
       "      <td>...</td>\n",
       "      <td>0.19567</td>\n",
       "      <td>0.02901</td>\n",
       "      <td>0.03980</td>\n",
       "      <td>0.09067</td>\n",
       "      <td>0.05857</td>\n",
       "      <td>0.27470</td>\n",
       "      <td>0.91056</td>\n",
       "      <td>0.32877</td>\n",
       "      <td>0.00000</td>\n",
       "      <td>0.76303</td>\n",
       "    </tr>\n",
       "  </tbody>\n",
       "</table>\n",
       "<p>5 rows × 29 columns</p>\n",
       "</div>"
      ],
      "text/plain": [
       "   SUB_CNT  SN_P_HDUFID_CNT  SF_P_ALL_CNT  SF_PL_CW_CNT  SF_L_ALL_CNT  \\\n",
       "0  0.00000          0.00000       0.00000       0.00000       0.00000   \n",
       "1  0.00000          0.00000       0.00000       0.00000       0.00000   \n",
       "2  0.00000          0.00000       0.00000       0.00000       0.00000   \n",
       "3  0.00000          0.00000       0.00000       0.00000       0.00000   \n",
       "4  0.00000          0.00000       0.00000       0.00000       0.00000   \n",
       "\n",
       "   NODE_LANES_CNT  NODE_INTERS_CNT  CW_CNT  BUS_CNT  A3_ROADTYPE_1_CNT  ...  \\\n",
       "0         0.00000          0.00000 0.22222  0.14286            0.00000  ...   \n",
       "1         0.00000          0.00000 0.22222  0.14286            0.00000  ...   \n",
       "2         0.00000          0.00000 0.22222  0.14286            0.00000  ...   \n",
       "3         0.00000          0.00000 0.22222  0.14286            0.00000  ...   \n",
       "4         0.00000          0.00000 0.22222  0.14286            0.00000  ...   \n",
       "\n",
       "   topis_07_09시  pop_22_07시  pop_19_22시  pop_09_19시  pop_07_09시      WS  \\\n",
       "0       0.33708     0.02463     0.02114     0.02847     0.01937 0.20402   \n",
       "1       0.18555     0.02606     0.03411     0.09203     0.05977 0.33195   \n",
       "2       0.19347     0.02776     0.03277     0.09313     0.05846 0.45620   \n",
       "3       0.18236     0.02835     0.03447     0.09172     0.05766 0.29601   \n",
       "4       0.19567     0.02901     0.03980     0.09067     0.05857 0.27470   \n",
       "\n",
       "       WD    TEMP      RF      HM  \n",
       "0 0.67981 0.36754 0.00000 0.71918  \n",
       "1 0.78484 0.35513 0.00000 0.75277  \n",
       "2 0.85751 0.29574 0.00000 0.73297  \n",
       "3 0.74071 0.28790 0.00000 0.74329  \n",
       "4 0.91056 0.32877 0.00000 0.76303  \n",
       "\n",
       "[5 rows x 29 columns]"
      ]
     },
     "execution_count": 720,
     "metadata": {},
     "output_type": "execute_result"
    }
   ],
   "source": [
    "# 표준화: 평균 0, 분산 1\n",
    "'''sc = StandardScaler()\n",
    "final_data_pca.iloc[:, 4:-1] = sc.fit_transform(final_data_pca.iloc[:, 4:-1])\n",
    "final_data_pca.iloc[:, 4:-1].head()'''\n",
    "\n",
    "# Min - Max scaling (0 ~ 1 사이 값 변환) : 연속형 및 도로환경변수 (CNT)\n",
    "sc = MinMaxScaler()\n",
    "final_data_pca.iloc[:, 9:-1] = sc.fit_transform(final_data_pca.iloc[:, 9:-1])\n",
    "final_data_pca.iloc[:, 9:-1].head()\n",
    "\n",
    "# L2 정규화\n",
    "# final_data_pca.iloc[:, 25:35] = normalize(final_data_pca.iloc[:, 25:35], axis = 1, norm = 'l2')\n",
    "# final_data_pca.iloc[:, 25:35].head()"
   ]
  },
  {
   "cell_type": "code",
   "execution_count": null,
   "metadata": {},
   "outputs": [],
   "source": []
  },
  {
   "cell_type": "markdown",
   "metadata": {},
   "source": [
    "# 유의 변수 중, 연속형 변수 - 다중공선성 검증"
   ]
  },
  {
   "cell_type": "code",
   "execution_count": 615,
   "metadata": {},
   "outputs": [
    {
     "data": {
      "image/png": "[encoded data removed]",
      "text/plain": [
       "<Figure size 864x720 with 2 Axes>"
      ]
     },
     "metadata": {
      "needs_background": "light"
     },
     "output_type": "display_data"
    }
   ],
   "source": [
    "#Using Pearson Correlation\n",
    "plt.figure(figsize=(12,10))\n",
    "cor = final_data_pca.iloc[:, 7:20].corr(method = 'pearson')\n",
    "sns.heatmap(cor, annot=True, cmap= 'Blues')\n",
    "\n",
    "plt.rcParams['figure.figsize'] = (20, 20)\n",
    "plt.rcParams['font.family'] = 'AppleGothic'\n",
    "plt.rcParams['font.size'] = 12\n",
    "plt.rcParams['axes.unicode_minus'] = False\n",
    "plt.title('유의 변수 - 연속형 상관 분석')\n",
    "plt.show()"
   ]
  },
  {
   "cell_type": "code",
   "execution_count": 721,
   "metadata": {},
   "outputs": [],
   "source": [
    "final_data_pca = final_data_pca.drop(['pop_19_22시', 'pop_09_19시', 'pop_07_09시', 'topis_07_09시', 'topis_09_19시', 'topis_19_22시'], axis = 1)"
   ]
  },
  {
   "cell_type": "code",
   "execution_count": 617,
   "metadata": {},
   "outputs": [
    {
     "data": {
      "text/plain": [
       "Index(['ROAD_RANK_101_YN', 'A3_ROADTYPE_1_YN', 'SUB_YN', 'MAX_SPD', 'LANES',\n",
       "       'ROAD_TYPE', 'BUS_YN', 'topis_22_07시', 'TEMP', 'pop_22_07시', 'WS', 'WD',\n",
       "       'RF', 'HM', 'NODE_LANES_CNT', 'CW_CNT', 'BUS_CNT', 'A3_ROADTYPE_3_CNT',\n",
       "       'A1_BARR_03_CNT', 'A1_BARR_02_CNT', 'SUB_CNT', 'SN_P_HDUFID_CNT',\n",
       "       'SF_P_ALL_CNT', 'A3_ROADTYPE_1_CNT', 'A2_STOP_1_CNT', 'A1_LANE_04_CNT',\n",
       "       'SF_PL_CW_CNT', 'SF_L_1_CNT', 'NODE_INTERS_CNT', 'A2_STOP_2_CNT',\n",
       "       'SAGO_YN'],\n",
       "      dtype='object')"
      ]
     },
     "execution_count": 617,
     "metadata": {},
     "output_type": "execute_result"
    }
   ],
   "source": [
    "final_data_pca.columns"
   ]
  },
  {
   "cell_type": "code",
   "execution_count": 618,
   "metadata": {},
   "outputs": [
    {
     "data": {
      "image/png": "[encoded data removed]",
      "text/plain": [
       "<Figure size 864x720 with 2 Axes>"
      ]
     },
     "metadata": {
      "needs_background": "light"
     },
     "output_type": "display_data"
    }
   ],
   "source": [
    "#Using Pearson Correlation\n",
    "plt.figure(figsize=(12,10))\n",
    "cor = final_data_pca.iloc[:, 7:14].corr(method = 'pearson')\n",
    "sns.heatmap(cor, annot=True, cmap= 'Blues')\n",
    "\n",
    "plt.rcParams['figure.figsize'] = (20, 20)\n",
    "plt.rcParams['font.family'] = 'AppleGothic'\n",
    "plt.rcParams['font.size'] = 12\n",
    "plt.rcParams['axes.unicode_minus'] = False\n",
    "plt.title('유의 변수 - 연속형 상관 분석')\n",
    "plt.show()"
   ]
  },
  {
   "cell_type": "code",
   "execution_count": null,
   "metadata": {},
   "outputs": [],
   "source": []
  },
  {
   "cell_type": "code",
   "execution_count": null,
   "metadata": {},
   "outputs": [],
   "source": []
  },
  {
   "cell_type": "markdown",
   "metadata": {},
   "source": [
    "# YN변수 -> dummy 변수 변환"
   ]
  },
  {
   "cell_type": "code",
   "execution_count": 722,
   "metadata": {},
   "outputs": [],
   "source": [
    "df_dummies = pd.get_dummies(final_data_pca[['SUB_YN', 'ROAD_TYPE', 'MAX_SPD', 'LANES', 'GONGSA_YN', 'CW_YN', 'ROAD_RANK_101_YN', 'REST_VEH',\n",
    "                             'BUS_YN'\n",
    "                             ]])"
   ]
  },
  {
   "cell_type": "code",
   "execution_count": 723,
   "metadata": {},
   "outputs": [],
   "source": [
    "final_data_pca = final_data_pca.drop(['SUB_YN', 'ROAD_TYPE', 'MAX_SPD', 'LANES', 'GONGSA_YN', 'CW_YN', 'ROAD_RANK_101_YN', 'REST_VEH',\n",
    "                             'BUS_YN'], axis = 1)"
   ]
  },
  {
   "cell_type": "code",
   "execution_count": 724,
   "metadata": {},
   "outputs": [],
   "source": [
    "df_new = pd.concat([df_dummies, final_data_pca], axis=1)"
   ]
  },
  {
   "cell_type": "code",
   "execution_count": 725,
   "metadata": {},
   "outputs": [
    {
     "data": {
      "text/plain": [
       "(664178, 38)"
      ]
     },
     "execution_count": 725,
     "metadata": {},
     "output_type": "execute_result"
    }
   ],
   "source": [
    "df_new.shape"
   ]
  },
  {
   "cell_type": "code",
   "execution_count": 726,
   "metadata": {},
   "outputs": [
    {
     "data": {
      "text/html": [
       "<div>\n",
       "<style scoped>\n",
       "    .dataframe tbody tr th:only-of-type {\n",
       "        vertical-align: middle;\n",
       "    }\n",
       "\n",
       "    .dataframe tbody tr th {\n",
       "        vertical-align: top;\n",
       "    }\n",
       "\n",
       "    .dataframe thead th {\n",
       "        text-align: right;\n",
       "    }\n",
       "</style>\n",
       "<table border=\"1\" class=\"dataframe\">\n",
       "  <thead>\n",
       "    <tr style=\"text-align: right;\">\n",
       "      <th></th>\n",
       "      <th>ROAD_TYPE</th>\n",
       "      <th>MAX_SPD</th>\n",
       "      <th>LANES</th>\n",
       "      <th>REST_VEH</th>\n",
       "      <th>SUB_YN_N</th>\n",
       "      <th>SUB_YN_Y</th>\n",
       "      <th>GONGSA_YN_N</th>\n",
       "      <th>GONGSA_YN_Y</th>\n",
       "      <th>CW_YN_N</th>\n",
       "      <th>CW_YN_Y</th>\n",
       "      <th>...</th>\n",
       "      <th>A1_BARR_03_CNT</th>\n",
       "      <th>A1_BARR_02_CNT</th>\n",
       "      <th>topis_22_07시</th>\n",
       "      <th>pop_22_07시</th>\n",
       "      <th>WS</th>\n",
       "      <th>WD</th>\n",
       "      <th>TEMP</th>\n",
       "      <th>RF</th>\n",
       "      <th>HM</th>\n",
       "      <th>SAGO_YN</th>\n",
       "    </tr>\n",
       "  </thead>\n",
       "  <tbody>\n",
       "    <tr>\n",
       "      <th>0</th>\n",
       "      <td>0</td>\n",
       "      <td>60.00000</td>\n",
       "      <td>5.00000</td>\n",
       "      <td>0</td>\n",
       "      <td>1</td>\n",
       "      <td>0</td>\n",
       "      <td>1</td>\n",
       "      <td>0</td>\n",
       "      <td>0</td>\n",
       "      <td>1</td>\n",
       "      <td>...</td>\n",
       "      <td>0.00000</td>\n",
       "      <td>0.00000</td>\n",
       "      <td>0.27067</td>\n",
       "      <td>0.02463</td>\n",
       "      <td>0.20402</td>\n",
       "      <td>0.67981</td>\n",
       "      <td>0.36754</td>\n",
       "      <td>0.00000</td>\n",
       "      <td>0.71918</td>\n",
       "      <td>N</td>\n",
       "    </tr>\n",
       "    <tr>\n",
       "      <th>1</th>\n",
       "      <td>0</td>\n",
       "      <td>60.00000</td>\n",
       "      <td>5.00000</td>\n",
       "      <td>0</td>\n",
       "      <td>1</td>\n",
       "      <td>0</td>\n",
       "      <td>1</td>\n",
       "      <td>0</td>\n",
       "      <td>0</td>\n",
       "      <td>1</td>\n",
       "      <td>...</td>\n",
       "      <td>0.00000</td>\n",
       "      <td>0.00000</td>\n",
       "      <td>0.28766</td>\n",
       "      <td>0.02606</td>\n",
       "      <td>0.33195</td>\n",
       "      <td>0.78484</td>\n",
       "      <td>0.35513</td>\n",
       "      <td>0.00000</td>\n",
       "      <td>0.75277</td>\n",
       "      <td>N</td>\n",
       "    </tr>\n",
       "    <tr>\n",
       "      <th>2</th>\n",
       "      <td>0</td>\n",
       "      <td>60.00000</td>\n",
       "      <td>5.00000</td>\n",
       "      <td>0</td>\n",
       "      <td>1</td>\n",
       "      <td>0</td>\n",
       "      <td>1</td>\n",
       "      <td>0</td>\n",
       "      <td>0</td>\n",
       "      <td>1</td>\n",
       "      <td>...</td>\n",
       "      <td>0.00000</td>\n",
       "      <td>0.00000</td>\n",
       "      <td>0.28087</td>\n",
       "      <td>0.02776</td>\n",
       "      <td>0.45620</td>\n",
       "      <td>0.85751</td>\n",
       "      <td>0.29574</td>\n",
       "      <td>0.00000</td>\n",
       "      <td>0.73297</td>\n",
       "      <td>N</td>\n",
       "    </tr>\n",
       "    <tr>\n",
       "      <th>3</th>\n",
       "      <td>0</td>\n",
       "      <td>60.00000</td>\n",
       "      <td>5.00000</td>\n",
       "      <td>0</td>\n",
       "      <td>1</td>\n",
       "      <td>0</td>\n",
       "      <td>1</td>\n",
       "      <td>0</td>\n",
       "      <td>0</td>\n",
       "      <td>1</td>\n",
       "      <td>...</td>\n",
       "      <td>0.00000</td>\n",
       "      <td>0.00000</td>\n",
       "      <td>0.27155</td>\n",
       "      <td>0.02835</td>\n",
       "      <td>0.29601</td>\n",
       "      <td>0.74071</td>\n",
       "      <td>0.28790</td>\n",
       "      <td>0.00000</td>\n",
       "      <td>0.74329</td>\n",
       "      <td>N</td>\n",
       "    </tr>\n",
       "    <tr>\n",
       "      <th>4</th>\n",
       "      <td>0</td>\n",
       "      <td>60.00000</td>\n",
       "      <td>5.00000</td>\n",
       "      <td>0</td>\n",
       "      <td>1</td>\n",
       "      <td>0</td>\n",
       "      <td>1</td>\n",
       "      <td>0</td>\n",
       "      <td>0</td>\n",
       "      <td>1</td>\n",
       "      <td>...</td>\n",
       "      <td>0.00000</td>\n",
       "      <td>0.00000</td>\n",
       "      <td>0.28865</td>\n",
       "      <td>0.02901</td>\n",
       "      <td>0.27470</td>\n",
       "      <td>0.91056</td>\n",
       "      <td>0.32877</td>\n",
       "      <td>0.00000</td>\n",
       "      <td>0.76303</td>\n",
       "      <td>N</td>\n",
       "    </tr>\n",
       "  </tbody>\n",
       "</table>\n",
       "<p>5 rows × 38 columns</p>\n",
       "</div>"
      ],
      "text/plain": [
       "   ROAD_TYPE  MAX_SPD   LANES  REST_VEH  SUB_YN_N  SUB_YN_Y  GONGSA_YN_N  \\\n",
       "0          0 60.00000 5.00000         0         1         0            1   \n",
       "1          0 60.00000 5.00000         0         1         0            1   \n",
       "2          0 60.00000 5.00000         0         1         0            1   \n",
       "3          0 60.00000 5.00000         0         1         0            1   \n",
       "4          0 60.00000 5.00000         0         1         0            1   \n",
       "\n",
       "   GONGSA_YN_Y  CW_YN_N  CW_YN_Y  ...  A1_BARR_03_CNT  A1_BARR_02_CNT  \\\n",
       "0            0        0        1  ...         0.00000         0.00000   \n",
       "1            0        0        1  ...         0.00000         0.00000   \n",
       "2            0        0        1  ...         0.00000         0.00000   \n",
       "3            0        0        1  ...         0.00000         0.00000   \n",
       "4            0        0        1  ...         0.00000         0.00000   \n",
       "\n",
       "   topis_22_07시  pop_22_07시      WS      WD    TEMP      RF      HM  SAGO_YN  \n",
       "0       0.27067     0.02463 0.20402 0.67981 0.36754 0.00000 0.71918        N  \n",
       "1       0.28766     0.02606 0.33195 0.78484 0.35513 0.00000 0.75277        N  \n",
       "2       0.28087     0.02776 0.45620 0.85751 0.29574 0.00000 0.73297        N  \n",
       "3       0.27155     0.02835 0.29601 0.74071 0.28790 0.00000 0.74329        N  \n",
       "4       0.28865     0.02901 0.27470 0.91056 0.32877 0.00000 0.76303        N  \n",
       "\n",
       "[5 rows x 38 columns]"
      ]
     },
     "execution_count": 726,
     "metadata": {},
     "output_type": "execute_result"
    }
   ],
   "source": [
    "df_new.head()"
   ]
  },
  {
   "cell_type": "code",
   "execution_count": 727,
   "metadata": {},
   "outputs": [],
   "source": [
    "df_new['SAGO_YN'] = df_new.apply(lambda x: 1 if x['SAGO_YN'] == 'Y' else 0, axis = 1)"
   ]
  },
  {
   "cell_type": "code",
   "execution_count": null,
   "metadata": {},
   "outputs": [],
   "source": []
  },
  {
   "cell_type": "code",
   "execution_count": 728,
   "metadata": {},
   "outputs": [],
   "source": [
    "# df_new.to_csv('final_data_pca_scaling_dummy_road_rank.csv', index = False)\n",
    "df_new.to_csv('final_data_pca_minmax_dummy_raod_rank.csv', index = False)"
   ]
  },
  {
   "cell_type": "code",
   "execution_count": 729,
   "metadata": {},
   "outputs": [
    {
     "data": {
      "text/html": [
       "<div>\n",
       "<style scoped>\n",
       "    .dataframe tbody tr th:only-of-type {\n",
       "        vertical-align: middle;\n",
       "    }\n",
       "\n",
       "    .dataframe tbody tr th {\n",
       "        vertical-align: top;\n",
       "    }\n",
       "\n",
       "    .dataframe thead th {\n",
       "        text-align: right;\n",
       "    }\n",
       "</style>\n",
       "<table border=\"1\" class=\"dataframe\">\n",
       "  <thead>\n",
       "    <tr style=\"text-align: right;\">\n",
       "      <th></th>\n",
       "      <th>ROAD_TYPE</th>\n",
       "      <th>MAX_SPD</th>\n",
       "      <th>LANES</th>\n",
       "      <th>REST_VEH</th>\n",
       "      <th>SUB_YN_N</th>\n",
       "      <th>SUB_YN_Y</th>\n",
       "      <th>GONGSA_YN_N</th>\n",
       "      <th>GONGSA_YN_Y</th>\n",
       "      <th>CW_YN_N</th>\n",
       "      <th>CW_YN_Y</th>\n",
       "      <th>...</th>\n",
       "      <th>A1_BARR_03_CNT</th>\n",
       "      <th>A1_BARR_02_CNT</th>\n",
       "      <th>topis_22_07시</th>\n",
       "      <th>pop_22_07시</th>\n",
       "      <th>WS</th>\n",
       "      <th>WD</th>\n",
       "      <th>TEMP</th>\n",
       "      <th>RF</th>\n",
       "      <th>HM</th>\n",
       "      <th>SAGO_YN</th>\n",
       "    </tr>\n",
       "  </thead>\n",
       "  <tbody>\n",
       "    <tr>\n",
       "      <th>0</th>\n",
       "      <td>0</td>\n",
       "      <td>60.00000</td>\n",
       "      <td>5.00000</td>\n",
       "      <td>0</td>\n",
       "      <td>1</td>\n",
       "      <td>0</td>\n",
       "      <td>1</td>\n",
       "      <td>0</td>\n",
       "      <td>0</td>\n",
       "      <td>1</td>\n",
       "      <td>...</td>\n",
       "      <td>0.00000</td>\n",
       "      <td>0.00000</td>\n",
       "      <td>0.27067</td>\n",
       "      <td>0.02463</td>\n",
       "      <td>0.20402</td>\n",
       "      <td>0.67981</td>\n",
       "      <td>0.36754</td>\n",
       "      <td>0.00000</td>\n",
       "      <td>0.71918</td>\n",
       "      <td>0</td>\n",
       "    </tr>\n",
       "    <tr>\n",
       "      <th>1</th>\n",
       "      <td>0</td>\n",
       "      <td>60.00000</td>\n",
       "      <td>5.00000</td>\n",
       "      <td>0</td>\n",
       "      <td>1</td>\n",
       "      <td>0</td>\n",
       "      <td>1</td>\n",
       "      <td>0</td>\n",
       "      <td>0</td>\n",
       "      <td>1</td>\n",
       "      <td>...</td>\n",
       "      <td>0.00000</td>\n",
       "      <td>0.00000</td>\n",
       "      <td>0.28766</td>\n",
       "      <td>0.02606</td>\n",
       "      <td>0.33195</td>\n",
       "      <td>0.78484</td>\n",
       "      <td>0.35513</td>\n",
       "      <td>0.00000</td>\n",
       "      <td>0.75277</td>\n",
       "      <td>0</td>\n",
       "    </tr>\n",
       "    <tr>\n",
       "      <th>2</th>\n",
       "      <td>0</td>\n",
       "      <td>60.00000</td>\n",
       "      <td>5.00000</td>\n",
       "      <td>0</td>\n",
       "      <td>1</td>\n",
       "      <td>0</td>\n",
       "      <td>1</td>\n",
       "      <td>0</td>\n",
       "      <td>0</td>\n",
       "      <td>1</td>\n",
       "      <td>...</td>\n",
       "      <td>0.00000</td>\n",
       "      <td>0.00000</td>\n",
       "      <td>0.28087</td>\n",
       "      <td>0.02776</td>\n",
       "      <td>0.45620</td>\n",
       "      <td>0.85751</td>\n",
       "      <td>0.29574</td>\n",
       "      <td>0.00000</td>\n",
       "      <td>0.73297</td>\n",
       "      <td>0</td>\n",
       "    </tr>\n",
       "    <tr>\n",
       "      <th>3</th>\n",
       "      <td>0</td>\n",
       "      <td>60.00000</td>\n",
       "      <td>5.00000</td>\n",
       "      <td>0</td>\n",
       "      <td>1</td>\n",
       "      <td>0</td>\n",
       "      <td>1</td>\n",
       "      <td>0</td>\n",
       "      <td>0</td>\n",
       "      <td>1</td>\n",
       "      <td>...</td>\n",
       "      <td>0.00000</td>\n",
       "      <td>0.00000</td>\n",
       "      <td>0.27155</td>\n",
       "      <td>0.02835</td>\n",
       "      <td>0.29601</td>\n",
       "      <td>0.74071</td>\n",
       "      <td>0.28790</td>\n",
       "      <td>0.00000</td>\n",
       "      <td>0.74329</td>\n",
       "      <td>0</td>\n",
       "    </tr>\n",
       "    <tr>\n",
       "      <th>4</th>\n",
       "      <td>0</td>\n",
       "      <td>60.00000</td>\n",
       "      <td>5.00000</td>\n",
       "      <td>0</td>\n",
       "      <td>1</td>\n",
       "      <td>0</td>\n",
       "      <td>1</td>\n",
       "      <td>0</td>\n",
       "      <td>0</td>\n",
       "      <td>1</td>\n",
       "      <td>...</td>\n",
       "      <td>0.00000</td>\n",
       "      <td>0.00000</td>\n",
       "      <td>0.28865</td>\n",
       "      <td>0.02901</td>\n",
       "      <td>0.27470</td>\n",
       "      <td>0.91056</td>\n",
       "      <td>0.32877</td>\n",
       "      <td>0.00000</td>\n",
       "      <td>0.76303</td>\n",
       "      <td>0</td>\n",
       "    </tr>\n",
       "  </tbody>\n",
       "</table>\n",
       "<p>5 rows × 38 columns</p>\n",
       "</div>"
      ],
      "text/plain": [
       "   ROAD_TYPE  MAX_SPD   LANES  REST_VEH  SUB_YN_N  SUB_YN_Y  GONGSA_YN_N  \\\n",
       "0          0 60.00000 5.00000         0         1         0            1   \n",
       "1          0 60.00000 5.00000         0         1         0            1   \n",
       "2          0 60.00000 5.00000         0         1         0            1   \n",
       "3          0 60.00000 5.00000         0         1         0            1   \n",
       "4          0 60.00000 5.00000         0         1         0            1   \n",
       "\n",
       "   GONGSA_YN_Y  CW_YN_N  CW_YN_Y  ...  A1_BARR_03_CNT  A1_BARR_02_CNT  \\\n",
       "0            0        0        1  ...         0.00000         0.00000   \n",
       "1            0        0        1  ...         0.00000         0.00000   \n",
       "2            0        0        1  ...         0.00000         0.00000   \n",
       "3            0        0        1  ...         0.00000         0.00000   \n",
       "4            0        0        1  ...         0.00000         0.00000   \n",
       "\n",
       "   topis_22_07시  pop_22_07시      WS      WD    TEMP      RF      HM  SAGO_YN  \n",
       "0       0.27067     0.02463 0.20402 0.67981 0.36754 0.00000 0.71918        0  \n",
       "1       0.28766     0.02606 0.33195 0.78484 0.35513 0.00000 0.75277        0  \n",
       "2       0.28087     0.02776 0.45620 0.85751 0.29574 0.00000 0.73297        0  \n",
       "3       0.27155     0.02835 0.29601 0.74071 0.28790 0.00000 0.74329        0  \n",
       "4       0.28865     0.02901 0.27470 0.91056 0.32877 0.00000 0.76303        0  \n",
       "\n",
       "[5 rows x 38 columns]"
      ]
     },
     "execution_count": 729,
     "metadata": {},
     "output_type": "execute_result"
    }
   ],
   "source": [
    "df_new.head()"
   ]
  },
  {
   "cell_type": "code",
   "execution_count": null,
   "metadata": {},
   "outputs": [],
   "source": []
  },
  {
   "cell_type": "code",
   "execution_count": null,
   "metadata": {},
   "outputs": [],
   "source": []
  },
  {
   "cell_type": "code",
   "execution_count": null,
   "metadata": {},
   "outputs": [],
   "source": []
  }
 ],
 "metadata": {
  "kernelspec": {
   "display_name": "Python 3",
   "language": "python",
   "name": "python3"
  },
  "language_info": {
   "codemirror_mode": {
    "name": "ipython",
    "version": 3
   },
   "file_extension": ".py",
   "mimetype": "text/x-python",
   "name": "python",
   "nbconvert_exporter": "python",
   "pygments_lexer": "ipython3",
   "version": "3.7.3"
  }
 },
 "nbformat": 4,
 "nbformat_minor": 2
}
